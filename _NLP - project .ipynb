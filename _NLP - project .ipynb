{
 "cells": [
  {
   "cell_type": "markdown",
   "id": "ad885dd7-07ff-4ad2-9e3a-6f5c2c5f042b",
   "metadata": {},
   "source": [
    "# NLP - Emotion Classification in Text"
   ]
  },
  {
   "cell_type": "markdown",
   "id": "9fa89eed-fe6b-43b1-9b11-38279f909706",
   "metadata": {},
   "source": [
    "## Objective: \n",
    "*  Develop machine learning models to classify emotions in text samples"
   ]
  },
  {
   "cell_type": "markdown",
   "id": "a454593e-5f42-49f3-9144-b183f0d1e749",
   "metadata": {},
   "source": [
    "## Importing Libraries"
   ]
  },
  {
   "cell_type": "code",
   "execution_count": 1,
   "id": "cfdc5656-8dbd-49af-86f1-e3837bc72478",
   "metadata": {},
   "outputs": [],
   "source": [
    "# libraries for EDA and visualization\n",
    "import numpy as numpy\n",
    "import pandas as pd\n",
    "import matplotlib.pyplot as plt\n",
    "import seaborn as sns\n",
    "%matplotlib inline\n",
    "pd.options.mode.copy_on_write = True"
   ]
  },
  {
   "cell_type": "markdown",
   "id": "1f4e9718-a7af-4945-9fa8-94f4a41b93b3",
   "metadata": {},
   "source": [
    "# 1. Loading and Preprocessing"
   ]
  },
  {
   "cell_type": "code",
   "execution_count": 2,
   "id": "dc3c9ea8-578a-4b9c-965f-423da59e6fb4",
   "metadata": {},
   "outputs": [
    {
     "data": {
      "text/html": [
       "<div>\n",
       "<style scoped>\n",
       "    .dataframe tbody tr th:only-of-type {\n",
       "        vertical-align: middle;\n",
       "    }\n",
       "\n",
       "    .dataframe tbody tr th {\n",
       "        vertical-align: top;\n",
       "    }\n",
       "\n",
       "    .dataframe thead th {\n",
       "        text-align: right;\n",
       "    }\n",
       "</style>\n",
       "<table border=\"1\" class=\"dataframe\">\n",
       "  <thead>\n",
       "    <tr style=\"text-align: right;\">\n",
       "      <th></th>\n",
       "      <th>Comment</th>\n",
       "      <th>Emotion</th>\n",
       "    </tr>\n",
       "  </thead>\n",
       "  <tbody>\n",
       "    <tr>\n",
       "      <th>0</th>\n",
       "      <td>i seriously hate one subject to death but now ...</td>\n",
       "      <td>fear</td>\n",
       "    </tr>\n",
       "    <tr>\n",
       "      <th>1</th>\n",
       "      <td>im so full of life i feel appalled</td>\n",
       "      <td>anger</td>\n",
       "    </tr>\n",
       "    <tr>\n",
       "      <th>2</th>\n",
       "      <td>i sit here to write i start to dig out my feel...</td>\n",
       "      <td>fear</td>\n",
       "    </tr>\n",
       "    <tr>\n",
       "      <th>3</th>\n",
       "      <td>ive been really angry with r and i feel like a...</td>\n",
       "      <td>joy</td>\n",
       "    </tr>\n",
       "    <tr>\n",
       "      <th>4</th>\n",
       "      <td>i feel suspicious if there is no one outside l...</td>\n",
       "      <td>fear</td>\n",
       "    </tr>\n",
       "    <tr>\n",
       "      <th>...</th>\n",
       "      <td>...</td>\n",
       "      <td>...</td>\n",
       "    </tr>\n",
       "    <tr>\n",
       "      <th>5932</th>\n",
       "      <td>i begun to feel distressed for you</td>\n",
       "      <td>fear</td>\n",
       "    </tr>\n",
       "    <tr>\n",
       "      <th>5933</th>\n",
       "      <td>i left feeling annoyed and angry thinking that...</td>\n",
       "      <td>anger</td>\n",
       "    </tr>\n",
       "    <tr>\n",
       "      <th>5934</th>\n",
       "      <td>i were to ever get married i d have everything...</td>\n",
       "      <td>joy</td>\n",
       "    </tr>\n",
       "    <tr>\n",
       "      <th>5935</th>\n",
       "      <td>i feel reluctant in applying there because i w...</td>\n",
       "      <td>fear</td>\n",
       "    </tr>\n",
       "    <tr>\n",
       "      <th>5936</th>\n",
       "      <td>i just wanted to apologize to you because i fe...</td>\n",
       "      <td>anger</td>\n",
       "    </tr>\n",
       "  </tbody>\n",
       "</table>\n",
       "<p>5937 rows × 2 columns</p>\n",
       "</div>"
      ],
      "text/plain": [
       "                                                Comment Emotion\n",
       "0     i seriously hate one subject to death but now ...    fear\n",
       "1                    im so full of life i feel appalled   anger\n",
       "2     i sit here to write i start to dig out my feel...    fear\n",
       "3     ive been really angry with r and i feel like a...     joy\n",
       "4     i feel suspicious if there is no one outside l...    fear\n",
       "...                                                 ...     ...\n",
       "5932                 i begun to feel distressed for you    fear\n",
       "5933  i left feeling annoyed and angry thinking that...   anger\n",
       "5934  i were to ever get married i d have everything...     joy\n",
       "5935  i feel reluctant in applying there because i w...    fear\n",
       "5936  i just wanted to apologize to you because i fe...   anger\n",
       "\n",
       "[5937 rows x 2 columns]"
      ]
     },
     "execution_count": 2,
     "metadata": {},
     "output_type": "execute_result"
    }
   ],
   "source": [
    "# loading dataset\n",
    "data = pd.read_csv(r\"C:\\Users\\admin\\Downloads\\nlp_dataset.csv\")\n",
    "data"
   ]
  },
  {
   "cell_type": "code",
   "execution_count": 3,
   "id": "0d564649-c0f0-4c6a-8386-12b7edb683eb",
   "metadata": {},
   "outputs": [
    {
     "data": {
      "text/plain": [
       "(5937, 2)"
      ]
     },
     "execution_count": 3,
     "metadata": {},
     "output_type": "execute_result"
    }
   ],
   "source": [
    "data.shape"
   ]
  },
  {
   "cell_type": "code",
   "execution_count": 4,
   "id": "e054cde4-26e6-4e09-a069-9492d5f22e3e",
   "metadata": {},
   "outputs": [
    {
     "data": {
      "text/html": [
       "<div>\n",
       "<style scoped>\n",
       "    .dataframe tbody tr th:only-of-type {\n",
       "        vertical-align: middle;\n",
       "    }\n",
       "\n",
       "    .dataframe tbody tr th {\n",
       "        vertical-align: top;\n",
       "    }\n",
       "\n",
       "    .dataframe thead th {\n",
       "        text-align: right;\n",
       "    }\n",
       "</style>\n",
       "<table border=\"1\" class=\"dataframe\">\n",
       "  <thead>\n",
       "    <tr style=\"text-align: right;\">\n",
       "      <th></th>\n",
       "      <th>Comment</th>\n",
       "      <th>Emotion</th>\n",
       "    </tr>\n",
       "  </thead>\n",
       "  <tbody>\n",
       "    <tr>\n",
       "      <th>0</th>\n",
       "      <td>i seriously hate one subject to death but now ...</td>\n",
       "      <td>fear</td>\n",
       "    </tr>\n",
       "    <tr>\n",
       "      <th>1</th>\n",
       "      <td>im so full of life i feel appalled</td>\n",
       "      <td>anger</td>\n",
       "    </tr>\n",
       "    <tr>\n",
       "      <th>2</th>\n",
       "      <td>i sit here to write i start to dig out my feel...</td>\n",
       "      <td>fear</td>\n",
       "    </tr>\n",
       "    <tr>\n",
       "      <th>3</th>\n",
       "      <td>ive been really angry with r and i feel like a...</td>\n",
       "      <td>joy</td>\n",
       "    </tr>\n",
       "    <tr>\n",
       "      <th>4</th>\n",
       "      <td>i feel suspicious if there is no one outside l...</td>\n",
       "      <td>fear</td>\n",
       "    </tr>\n",
       "  </tbody>\n",
       "</table>\n",
       "</div>"
      ],
      "text/plain": [
       "                                             Comment Emotion\n",
       "0  i seriously hate one subject to death but now ...    fear\n",
       "1                 im so full of life i feel appalled   anger\n",
       "2  i sit here to write i start to dig out my feel...    fear\n",
       "3  ive been really angry with r and i feel like a...     joy\n",
       "4  i feel suspicious if there is no one outside l...    fear"
      ]
     },
     "execution_count": 4,
     "metadata": {},
     "output_type": "execute_result"
    }
   ],
   "source": [
    "data.head()"
   ]
  },
  {
   "cell_type": "code",
   "execution_count": 5,
   "id": "81056a83-36ac-407f-8e8c-1fbd5d0d0cc2",
   "metadata": {},
   "outputs": [
    {
     "data": {
      "text/html": [
       "<div>\n",
       "<style scoped>\n",
       "    .dataframe tbody tr th:only-of-type {\n",
       "        vertical-align: middle;\n",
       "    }\n",
       "\n",
       "    .dataframe tbody tr th {\n",
       "        vertical-align: top;\n",
       "    }\n",
       "\n",
       "    .dataframe thead th {\n",
       "        text-align: right;\n",
       "    }\n",
       "</style>\n",
       "<table border=\"1\" class=\"dataframe\">\n",
       "  <thead>\n",
       "    <tr style=\"text-align: right;\">\n",
       "      <th></th>\n",
       "      <th>Comment</th>\n",
       "      <th>Emotion</th>\n",
       "    </tr>\n",
       "  </thead>\n",
       "  <tbody>\n",
       "    <tr>\n",
       "      <th>5932</th>\n",
       "      <td>i begun to feel distressed for you</td>\n",
       "      <td>fear</td>\n",
       "    </tr>\n",
       "    <tr>\n",
       "      <th>5933</th>\n",
       "      <td>i left feeling annoyed and angry thinking that...</td>\n",
       "      <td>anger</td>\n",
       "    </tr>\n",
       "    <tr>\n",
       "      <th>5934</th>\n",
       "      <td>i were to ever get married i d have everything...</td>\n",
       "      <td>joy</td>\n",
       "    </tr>\n",
       "    <tr>\n",
       "      <th>5935</th>\n",
       "      <td>i feel reluctant in applying there because i w...</td>\n",
       "      <td>fear</td>\n",
       "    </tr>\n",
       "    <tr>\n",
       "      <th>5936</th>\n",
       "      <td>i just wanted to apologize to you because i fe...</td>\n",
       "      <td>anger</td>\n",
       "    </tr>\n",
       "  </tbody>\n",
       "</table>\n",
       "</div>"
      ],
      "text/plain": [
       "                                                Comment Emotion\n",
       "5932                 i begun to feel distressed for you    fear\n",
       "5933  i left feeling annoyed and angry thinking that...   anger\n",
       "5934  i were to ever get married i d have everything...     joy\n",
       "5935  i feel reluctant in applying there because i w...    fear\n",
       "5936  i just wanted to apologize to you because i fe...   anger"
      ]
     },
     "execution_count": 5,
     "metadata": {},
     "output_type": "execute_result"
    }
   ],
   "source": [
    "data.tail()"
   ]
  },
  {
   "cell_type": "code",
   "execution_count": 6,
   "id": "68271b50-1282-44a9-8c87-5f394cac761f",
   "metadata": {},
   "outputs": [
    {
     "name": "stdout",
     "output_type": "stream",
     "text": [
      "<class 'pandas.core.frame.DataFrame'>\n",
      "RangeIndex: 5937 entries, 0 to 5936\n",
      "Data columns (total 2 columns):\n",
      " #   Column   Non-Null Count  Dtype \n",
      "---  ------   --------------  ----- \n",
      " 0   Comment  5937 non-null   object\n",
      " 1   Emotion  5937 non-null   object\n",
      "dtypes: object(2)\n",
      "memory usage: 92.9+ KB\n"
     ]
    }
   ],
   "source": [
    "data.info()"
   ]
  },
  {
   "cell_type": "markdown",
   "id": "4035a7b3-f494-4a08-b351-5e92a98ff6d5",
   "metadata": {},
   "source": [
    "+ Total 5937 entries no null values found"
   ]
  },
  {
   "cell_type": "code",
   "execution_count": 7,
   "id": "5cd23570-4f65-44ac-bac4-a502dfd1a402",
   "metadata": {},
   "outputs": [
    {
     "data": {
      "text/plain": [
       "Comment    0\n",
       "Emotion    0\n",
       "dtype: int64"
      ]
     },
     "execution_count": 7,
     "metadata": {},
     "output_type": "execute_result"
    }
   ],
   "source": [
    "# missing values\n",
    "data.isnull().sum()"
   ]
  },
  {
   "cell_type": "markdown",
   "id": "7c6c1ce7-c070-424b-84a2-2c55e779c702",
   "metadata": {},
   "source": [
    "+ No missing values are here."
   ]
  },
  {
   "cell_type": "code",
   "execution_count": 8,
   "id": "a0317924-a529-4fb5-bab7-047a7cf08925",
   "metadata": {},
   "outputs": [
    {
     "data": {
      "text/plain": [
       "Comment    5934\n",
       "Emotion       3\n",
       "dtype: int64"
      ]
     },
     "execution_count": 8,
     "metadata": {},
     "output_type": "execute_result"
    }
   ],
   "source": [
    "data.nunique()"
   ]
  },
  {
   "cell_type": "markdown",
   "id": "3e282e99-9034-4ab9-b445-2433f5273a5b",
   "metadata": {},
   "source": [
    "+ We found 3 categories of emotions ['fear' 'anger' 'joy']\n",
    "and 5934 unique values in Comment so we found the possibility of duplicate comments"
   ]
  },
  {
   "cell_type": "code",
   "execution_count": 9,
   "id": "22390f8a-f9e9-46e3-8b82-1e05c7d9bb94",
   "metadata": {},
   "outputs": [
    {
     "data": {
      "text/html": [
       "<div>\n",
       "<style scoped>\n",
       "    .dataframe tbody tr th:only-of-type {\n",
       "        vertical-align: middle;\n",
       "    }\n",
       "\n",
       "    .dataframe tbody tr th {\n",
       "        vertical-align: top;\n",
       "    }\n",
       "\n",
       "    .dataframe thead th {\n",
       "        text-align: right;\n",
       "    }\n",
       "</style>\n",
       "<table border=\"1\" class=\"dataframe\">\n",
       "  <thead>\n",
       "    <tr style=\"text-align: right;\">\n",
       "      <th></th>\n",
       "      <th>Comment</th>\n",
       "      <th>Emotion</th>\n",
       "    </tr>\n",
       "  </thead>\n",
       "  <tbody>\n",
       "    <tr>\n",
       "      <th>986</th>\n",
       "      <td>i resorted to yesterday the post peak day of i...</td>\n",
       "      <td>anger</td>\n",
       "    </tr>\n",
       "    <tr>\n",
       "      <th>1930</th>\n",
       "      <td>i resorted to yesterday the post peak day of i...</td>\n",
       "      <td>fear</td>\n",
       "    </tr>\n",
       "    <tr>\n",
       "      <th>2262</th>\n",
       "      <td>i feel like a tortured artist when i talk to her</td>\n",
       "      <td>anger</td>\n",
       "    </tr>\n",
       "    <tr>\n",
       "      <th>2877</th>\n",
       "      <td>i feel pretty tortured because i work a job an...</td>\n",
       "      <td>anger</td>\n",
       "    </tr>\n",
       "    <tr>\n",
       "      <th>4869</th>\n",
       "      <td>i feel pretty tortured because i work a job an...</td>\n",
       "      <td>fear</td>\n",
       "    </tr>\n",
       "    <tr>\n",
       "      <th>5870</th>\n",
       "      <td>i feel like a tortured artist when i talk to her</td>\n",
       "      <td>fear</td>\n",
       "    </tr>\n",
       "  </tbody>\n",
       "</table>\n",
       "</div>"
      ],
      "text/plain": [
       "                                                Comment Emotion\n",
       "986   i resorted to yesterday the post peak day of i...   anger\n",
       "1930  i resorted to yesterday the post peak day of i...    fear\n",
       "2262   i feel like a tortured artist when i talk to her   anger\n",
       "2877  i feel pretty tortured because i work a job an...   anger\n",
       "4869  i feel pretty tortured because i work a job an...    fear\n",
       "5870   i feel like a tortured artist when i talk to her    fear"
      ]
     },
     "execution_count": 9,
     "metadata": {},
     "output_type": "execute_result"
    }
   ],
   "source": [
    "# Check duplicated comments\n",
    "data[data['Comment'].duplicated(keep=False)]"
   ]
  },
  {
   "cell_type": "markdown",
   "id": "b340b6c7-3d14-4eb7-80db-33b66350c99d",
   "metadata": {},
   "source": [
    "+ We found duplicated comments with incorrect emotions at index 1930, 4869, 5870 so we are going to drop those rows"
   ]
  },
  {
   "cell_type": "code",
   "execution_count": 10,
   "id": "95e07e0f-82ca-4cf6-9c8b-6e85e1c29d24",
   "metadata": {},
   "outputs": [
    {
     "name": "stdout",
     "output_type": "stream",
     "text": [
      "Shape after removing duplicates: (5934, 2)\n"
     ]
    }
   ],
   "source": [
    "data = data.drop_duplicates(subset='Comment')\n",
    "print(f\"Shape after removing duplicates: {data.shape}\")"
   ]
  },
  {
   "cell_type": "code",
   "execution_count": 11,
   "id": "5adc356e-9278-45dc-a326-b814b35d67c0",
   "metadata": {},
   "outputs": [],
   "source": [
    "# Reset index after removing duplicates\n",
    "data.reset_index(drop=True, inplace=True)"
   ]
  },
  {
   "cell_type": "code",
   "execution_count": 12,
   "id": "2d565025-3151-4df0-9a81-e2bb3bfceaba",
   "metadata": {},
   "outputs": [
    {
     "data": {
      "text/plain": [
       "Emotion\n",
       "anger    2000\n",
       "joy      2000\n",
       "fear     1934\n",
       "Name: count, dtype: int64"
      ]
     },
     "execution_count": 12,
     "metadata": {},
     "output_type": "execute_result"
    }
   ],
   "source": [
    "# the counts of unique emotions\n",
    "emotion_counts = data['Emotion'].value_counts()\n",
    "emotion_counts"
   ]
  },
  {
   "cell_type": "code",
   "execution_count": 13,
   "id": "2ff0ebaa-c341-4672-bc6d-2a2f74b6588e",
   "metadata": {},
   "outputs": [
    {
     "data": {
      "image/png": "[encoded data removed]",
      "text/plain": [
       "<Figure size 600x300 with 1 Axes>"
      ]
     },
     "metadata": {},
     "output_type": "display_data"
    }
   ],
   "source": [
    "import matplotlib.pyplot as plt\n",
    "# Plot the bar chart\n",
    "plt.figure(figsize=(6, 3))\n",
    "emotion_counts.plot(kind='bar', color=[\"skyblue\"], alpha=0.8)\n",
    "plt.title(\"Distribution of Emotions\", fontsize=14)\n",
    "plt.xlabel(\"Emotions\", fontsize=12)\n",
    "plt.ylabel(\"Frequency\", fontsize=12)\n",
    "plt.xticks(rotation=0)\n",
    "plt.grid(axis='y', linestyle='--', alpha=0.6)"
   ]
  },
  {
   "cell_type": "markdown",
   "id": "112369b3-f547-472c-8351-66a7ce02e6e8",
   "metadata": {},
   "source": [
    "# Data Preprocessing"
   ]
  },
  {
   "cell_type": "markdown",
   "id": "4da6a87f-3ea5-4d39-9763-c24961439790",
   "metadata": {},
   "source": [
    "## Text Cleaning: "
   ]
  },
  {
   "cell_type": "markdown",
   "id": "d4440636-6484-4ca6-89bc-5fc11b639764",
   "metadata": {},
   "source": [
    "### Punctuation Removal:"
   ]
  },
  {
   "cell_type": "code",
   "execution_count": 14,
   "id": "f87e62d3-5808-4055-96bd-fa0fc3761602",
   "metadata": {},
   "outputs": [],
   "source": [
    "import string"
   ]
  },
  {
   "cell_type": "code",
   "execution_count": 59,
   "id": "022ff229-a2c9-43f1-b948-390a749c6ea2",
   "metadata": {},
   "outputs": [
    {
     "name": "stdout",
     "output_type": "stream",
     "text": [
      "                                             Comment Emotion\n",
      "0  i seriously hate one subject to death but now ...    fear\n",
      "1                 im so full of life i feel appalled   anger\n",
      "2  i sit here to write i start to dig out my feel...    fear\n",
      "3  ive been really angry with r and i feel like a...     joy\n",
      "4  i feel suspicious if there is no one outside l...    fear\n"
     ]
    }
   ],
   "source": [
    "# Remove punctuation from the 'Comment' column\n",
    "data.loc[:, 'Comment'] = data['Comment'].str.replace(f'[{string.punctuation}]', '', regex=True)\n",
    "\n",
    "# Remove punctuation from the 'Emotion' column\n",
    "data.loc[:, 'Emotion'] = data['Emotion'].str.replace(f'[{string.punctuation}]', '', regex=True)\n",
    "\n",
    "print(data[['Comment', 'Emotion']].head())"
   ]
  },
  {
   "cell_type": "code",
   "execution_count": 16,
   "id": "c4fc95be-77e6-4d4a-81e2-5041d1be7824",
   "metadata": {},
   "outputs": [
    {
     "data": {
      "text/html": [
       "<div>\n",
       "<style scoped>\n",
       "    .dataframe tbody tr th:only-of-type {\n",
       "        vertical-align: middle;\n",
       "    }\n",
       "\n",
       "    .dataframe tbody tr th {\n",
       "        vertical-align: top;\n",
       "    }\n",
       "\n",
       "    .dataframe thead th {\n",
       "        text-align: right;\n",
       "    }\n",
       "</style>\n",
       "<table border=\"1\" class=\"dataframe\">\n",
       "  <thead>\n",
       "    <tr style=\"text-align: right;\">\n",
       "      <th></th>\n",
       "      <th>Comment</th>\n",
       "      <th>Emotion</th>\n",
       "    </tr>\n",
       "  </thead>\n",
       "  <tbody>\n",
       "  </tbody>\n",
       "</table>\n",
       "</div>"
      ],
      "text/plain": [
       "Empty DataFrame\n",
       "Columns: [Comment, Emotion]\n",
       "Index: []"
      ]
     },
     "execution_count": 16,
     "metadata": {},
     "output_type": "execute_result"
    }
   ],
   "source": [
    "# Check Comments having any upper case letters\n",
    "data[data['Comment'].str.contains(r'[A-Z]')]"
   ]
  },
  {
   "cell_type": "markdown",
   "id": "df767282-6d5d-434f-aae1-a6a566bdb10f",
   "metadata": {},
   "source": [
    "+ The comment column is in lowercase already so we can proceed without lowercase conversion. But It's done like this and does not make any change for this dataset but it is necessary for any different kind of mixed char dataset"
   ]
  },
  {
   "cell_type": "markdown",
   "id": "40e2ef41-c745-42a9-921c-e2afc538add4",
   "metadata": {},
   "source": [
    "### Convert to lowercase:\n",
    "+ Converting all text to lowercase to make it uniform ensures that words  are treated as the same. It also reduces the number of unique words, improving model generalization."
   ]
  },
  {
   "cell_type": "code",
   "execution_count": 17,
   "id": "90ec7cdd-3fd6-49d0-906d-30e74759dccd",
   "metadata": {},
   "outputs": [
    {
     "name": "stdout",
     "output_type": "stream",
     "text": [
      "Lowercase conversion completed!\n"
     ]
    }
   ],
   "source": [
    "# Convert the 'Comment' column to lowercase safely\n",
    "data.loc[:, 'Cleaned_Comment'] = data['Comment'].str.lower()\n",
    "print(\"Lowercase conversion completed!\")"
   ]
  },
  {
   "cell_type": "markdown",
   "id": "ec840d79-4ba2-4d28-b532-2f8c8bdd1652",
   "metadata": {},
   "source": [
    "### Tokenization:\n",
    "+ Breaking down text into smaller units (tokens)\n",
    "+ Tokens are later converted into numbers that a machine-learning model can understand."
   ]
  },
  {
   "cell_type": "markdown",
   "id": "0b1b461f-d496-4ff7-9dd9-aeabd7ddfda8",
   "metadata": {},
   "source": [
    "**Word tokenize:**  Word tokenization is the process of splitting text into individual words or tokens."
   ]
  },
  {
   "cell_type": "code",
   "execution_count": 18,
   "id": "9b5d0c63-3847-4a48-8795-f4031883de27",
   "metadata": {},
   "outputs": [],
   "source": [
    "from nltk.tokenize import word_tokenize\n",
    "import nltk"
   ]
  },
  {
   "cell_type": "code",
   "execution_count": 19,
   "id": "ef72f6be-aee1-4265-b3a7-57972f6da07b",
   "metadata": {},
   "outputs": [
    {
     "name": "stdout",
     "output_type": "stream",
     "text": [
      "Tokenization completed!\n",
      "                                             Comment  \\\n",
      "0  i seriously hate one subject to death but now ...   \n",
      "1                 im so full of life i feel appalled   \n",
      "2  i sit here to write i start to dig out my feel...   \n",
      "3  ive been really angry with r and i feel like a...   \n",
      "4  i feel suspicious if there is no one outside l...   \n",
      "\n",
      "                                     Cleaned_comment  \n",
      "0  [i, seriously, hate, one, subject, to, death, ...  \n",
      "1        [im, so, full, of, life, i, feel, appalled]  \n",
      "2  [i, sit, here, to, write, i, start, to, dig, o...  \n",
      "3  [ive, been, really, angry, with, r, and, i, fe...  \n",
      "4  [i, feel, suspicious, if, there, is, no, one, ...  \n"
     ]
    }
   ],
   "source": [
    "data.loc[:, 'Cleaned_comment'] = data['Comment'].apply(word_tokenize)\n",
    "print(\"Tokenization completed!\")\n",
    "print(data[['Comment', 'Cleaned_comment']].head())"
   ]
  },
  {
   "cell_type": "markdown",
   "id": "822f4283-45b4-4ae3-bd28-5b8e98f0a2bb",
   "metadata": {},
   "source": [
    "### Stopword Removal"
   ]
  },
  {
   "cell_type": "code",
   "execution_count": 20,
   "id": "324e1aaf-20ba-4f04-ad18-9e589e40ba07",
   "metadata": {},
   "outputs": [],
   "source": [
    "from nltk.corpus import stopwords"
   ]
  },
  {
   "cell_type": "code",
   "execution_count": 21,
   "id": "3ef6ef01-d8f9-4214-a4de-a39ea4ce372c",
   "metadata": {},
   "outputs": [
    {
     "name": "stdout",
     "output_type": "stream",
     "text": [
      "Stopword removal completed!\n"
     ]
    }
   ],
   "source": [
    "stop_words = set(stopwords.words('english') + ['im', 'ive', 'also'])\n",
    "\n",
    "def remove_stopwords(tokens):\n",
    "    return [token for token in tokens if token not in stop_words]\n",
    "\n",
    "data.loc[:,'Cleaned_comment'] = data['Cleaned_comment'].apply(remove_stopwords)\n",
    "print(\"Stopword removal completed!\")"
   ]
  },
  {
   "cell_type": "code",
   "execution_count": 22,
   "id": "c50ee417-9ff2-4742-b5ee-a7ad8ef8d3a3",
   "metadata": {},
   "outputs": [
    {
     "name": "stdout",
     "output_type": "stream",
     "text": [
      "                                             Comment  \\\n",
      "0  i seriously hate one subject to death but now ...   \n",
      "1                 im so full of life i feel appalled   \n",
      "2  i sit here to write i start to dig out my feel...   \n",
      "3  ive been really angry with r and i feel like a...   \n",
      "4  i feel suspicious if there is no one outside l...   \n",
      "\n",
      "                                     Cleaned_comment  \n",
      "0  [seriously, hate, one, subject, death, feel, r...  \n",
      "1                       [full, life, feel, appalled]  \n",
      "2  [sit, write, start, dig, feelings, think, afra...  \n",
      "3  [really, angry, r, feel, like, idiot, trusting...  \n",
      "4  [feel, suspicious, one, outside, like, rapture...  \n"
     ]
    }
   ],
   "source": [
    "# Print the first few rows to check\n",
    "print(data[['Comment', 'Cleaned_comment', ]].head())"
   ]
  },
  {
   "cell_type": "markdown",
   "id": "3e6ee92c-1f61-4b68-b1f2-20a5bbe39950",
   "metadata": {},
   "source": [
    "### Stemming and Lemmatization\n",
    "The function process_words can perform both stemming and lemmatization on a given text, where stemming reduces words to their root forms, such as turning \"playing\" into \"play,\" while lemmatization transforms words into their dictionary form, like changing \"better\" to \"good.\" These techniques help standardize text data, improving NLP model accuracy by reducing word variations."
   ]
  },
  {
   "cell_type": "code",
   "execution_count": 23,
   "id": "1b9704e7-ae5d-496e-99a9-a84e8fd08c89",
   "metadata": {},
   "outputs": [],
   "source": [
    "from nltk.stem import WordNetLemmatizer"
   ]
  },
  {
   "cell_type": "code",
   "execution_count": 24,
   "id": "f73c5864-639b-4e0c-8353-076c7f56a37c",
   "metadata": {},
   "outputs": [],
   "source": [
    "lemmatizer = WordNetLemmatizer()"
   ]
  },
  {
   "cell_type": "code",
   "execution_count": 60,
   "id": "203ef73f-f90e-473c-bfae-c8ca280d5fe2",
   "metadata": {},
   "outputs": [
    {
     "name": "stdout",
     "output_type": "stream",
     "text": [
      "Lemmatization completed!\n",
      "                                     Cleaned_comment  \\\n",
      "0  [seriously, hate, one, subject, death, feel, r...   \n",
      "1                       [full, life, feel, appalled]   \n",
      "2  [sit, write, start, dig, feelings, think, afra...   \n",
      "3  [really, angry, r, feel, like, idiot, trusting...   \n",
      "4  [feel, suspicious, one, outside, like, rapture...   \n",
      "\n",
      "                                   Processed_Comment  \n",
      "0  [seriously, hate, one, subject, death, feel, r...  \n",
      "1                       [full, life, feel, appalled]  \n",
      "2  [sit, write, start, dig, feeling, think, afrai...  \n",
      "3  [really, angry, r, feel, like, idiot, trusting...  \n",
      "4  [feel, suspicious, one, outside, like, rapture...  \n"
     ]
    }
   ],
   "source": [
    "def lemmatize_tokens(tokens):\n",
    "    return [lemmatizer.lemmatize(word) for word in tokens]\n",
    "\n",
    "# Apply the function to the 'Cleaned_comment' column\n",
    "data.loc[:, 'Processed_Comment'] = data['Cleaned_comment'].apply(lemmatize_tokens)\n",
    "print(\"Lemmatization completed!\")\n",
    "\n",
    "# Check the processed data\n",
    "print(data[['Cleaned_comment', 'Processed_Comment']].head())"
   ]
  },
  {
   "cell_type": "code",
   "execution_count": 26,
   "id": "a0453131-6623-4b7d-bee9-c6750bd5f0fa",
   "metadata": {},
   "outputs": [
    {
     "name": "stdout",
     "output_type": "stream",
     "text": [
      "Index(['Comment', 'Emotion', 'Cleaned_Comment', 'Cleaned_comment',\n",
      "       'Processed_Comment'],\n",
      "      dtype='object')\n"
     ]
    }
   ],
   "source": [
    "# Convert tokens back to string for vectorization\n",
    "data['Processed_Comment'] = data['Processed_Comment'].apply(lambda x: ' '.join(x))\n",
    "\n",
    "# Check if 'Processed_Comment' exists in the DataFrame\n",
    "print(data.columns)  # Check columns to ensure 'Processed_Comment' exists"
   ]
  },
  {
   "cell_type": "markdown",
   "id": "5ca3fa8d-c2bf-45e1-9f40-2efaa1cef9bb",
   "metadata": {},
   "source": [
    "# 2. Feature Extraction"
   ]
  },
  {
   "cell_type": "markdown",
   "id": "8c60dcc7-369b-446d-b42e-2a226e4be0e3",
   "metadata": {},
   "source": [
    "### Bag of Words (BoW) Method (CountVectorizer)\n",
    "The Bag of Words (BoW) method is a foundational technique in Natural Language Processing (NLP) that converts text into numerical vectors for machine learning models.\n",
    "\n",
    "**How It Works:**\n",
    "\n",
    "* Tokenization: Breaks the text into individual words (tokens).\n",
    "\n",
    "* Vocabulary Creation: Builds a list of all unique words from the entire dataset.\n",
    "\n",
    "* Word Count: Counts the occurrences of each word in each document."
   ]
  },
  {
   "cell_type": "code",
   "execution_count": 27,
   "id": "9e3e04f0-1bb8-49c8-a272-4656dd4d89cb",
   "metadata": {},
   "outputs": [],
   "source": [
    "from sklearn.feature_extraction.text import CountVectorizer, TfidfVectorizer"
   ]
  },
  {
   "cell_type": "code",
   "execution_count": 28,
   "id": "b2c6cea1-b3ae-46de-b7f2-60f5515c3d99",
   "metadata": {},
   "outputs": [],
   "source": [
    "# Bag of Words (BoW) method (CountVectorizer method )\n",
    "vectorizer = CountVectorizer()"
   ]
  },
  {
   "cell_type": "code",
   "execution_count": 29,
   "id": "10cc9dc6-dda4-4148-be11-5a07f3da3a9e",
   "metadata": {},
   "outputs": [],
   "source": [
    "bow_matrix = vectorizer.fit_transform(data['Processed_Comment'])"
   ]
  },
  {
   "cell_type": "code",
   "execution_count": 30,
   "id": "5dd3922b-9acb-4863-8e68-44f1740ee2e4",
   "metadata": {},
   "outputs": [
    {
     "name": "stdout",
     "output_type": "stream",
     "text": [
      "[[0 0 0 ... 0 0 0]\n",
      " [0 0 0 ... 0 0 0]\n",
      " [0 0 0 ... 0 0 0]\n",
      " ...\n",
      " [0 0 0 ... 0 0 0]\n",
      " [0 0 0 ... 0 0 0]\n",
      " [0 0 0 ... 0 0 0]]\n"
     ]
    }
   ],
   "source": [
    "bow_array = bow_matrix.toarray()\n",
    "print(bow_array)"
   ]
  },
  {
   "cell_type": "code",
   "execution_count": 31,
   "id": "a65bc42d-ec61-4325-a44c-1fb19580dd57",
   "metadata": {
    "scrolled": true
   },
   "outputs": [
    {
     "name": "stdout",
     "output_type": "stream",
     "text": [
      "['aa', 'aac', 'aaron', 'ab', 'abandon', 'abandoned', 'abandonment', 'abbigail', 'abc', 'abdomen', 'abelard', 'abide', 'ability', 'abit', 'able', 'abnormally', 'abound', 'abroad', 'abruptly', 'absence', 'absolute', 'absolutely', 'absolutly', 'absorbed', 'abstract', 'absurdity', 'abuse', 'abusive', 'abyss', 'academia', 'academic', 'accelerated', 'accent', 'accentuating', 'accept', 'acceptable', 'acceptance', 'accepted', 'accepting', 'accepts', 'access', 'accessory', 'accident', 'accidentally', 'acclimated', 'accommodation', 'accompany', 'accomplish', 'accomplished', 'accomplishing', 'accomplishment', 'accordance', 'according', 'account', 'accounted', 'acctually', 'accumulate', 'accumulated', 'accumulation', 'accurate', 'accustomed', 'ache', 'acheivment', 'achieve', 'achieved', 'achievement', 'achieving', 'aching', 'acknowledge', 'acknowledgment', 'acne', 'aconfident', 'acquainted', 'acronym', 'across', 'act', 'acted', 'acting', 'action', 'active', 'actively', 'activism', 'activist', 'activity', 'actor', 'actress', 'actual', 'actuality', 'actually', 'acutely', 'ad', 'adapted', 'adaption', 'add', 'added', 'addicted', 'addictive', 'adding', 'addition', 'address', 'addressing', 'adequately', 'adherence', 'adjust', 'adjustment', 'admin', 'administration', 'administrator', 'admiration', 'admire', 'admired', 'admires', 'admission', 'admit', 'admittance', 'admitted', 'admittedly', 'admitting', 'adn', 'adopt', 'adoption', 'adorable', 'adress', 'adult', 'adulthood', 'advance', 'advancement', 'advantage', 'adventure', 'adventurous', 'advertising', 'advice', 'advise', 'advocate', 'aesthetic', 'affair', 'affeccion', 'affect', 'affected', 'affecting', 'affection', 'affend', 'affirmation', 'afford', 'afield', 'afp', 'afrade', 'afraid', 'african', 'aftermath', 'afternoon', 'afterward', 'afterwards', 'age', 'aged', 'agenda', 'agent', 'aggravated', 'aggression', 'aggressive', 'agiatated', 'agitated', 'agnostic', 'ago', 'agony', 'agree', 'agreed', 'agreement', 'ah', 'ahaha', 'ahahahaha', 'ahead', 'ahkman', 'aid', 'ailment', 'aimed', 'aimlessly', 'aint', 'air', 'aircleaner', 'airport', 'airritated', 'airtime', 'akward', 'al', 'alarm', 'alarmed', 'alaska', 'alba', 'albeit', 'albino', 'album', 'alcest', 'alcohol', 'alert', 'alexis', 'ali', 'alice', 'alight', 'aligncenter', 'alignment', 'alise', 'alive', 'allah', 'allergy', 'alliance', 'allocated', 'allow', 'allowed', 'allowing', 'allows', 'allthingsbucks', 'ally', 'almost', 'aloft', 'alone', 'along', 'alongside', 'aloof', 'alot', 'alphabet', 'already', 'alright', 'alteration', 'alternate', 'alternated', 'alternative', 'although', 'altitude', 'altogether', 'alway', 'always', 'amazing', 'amazingly', 'amazingness', 'ambient', 'ambition', 'ambitious', 'ambulance', 'ambulatory', 'amenity', 'america', 'american', 'amish', 'amits', 'amkris', 'among', 'amongst', 'amos', 'amount', 'amp', 'ampatuan', 'amused', 'amusing', 'amvassago', 'amy', 'anal', 'analyze', 'anansi', 'anatomy', 'ancient', 'andintrupte', 'andover', 'andreas', 'andri', 'andthenwear', 'andy', 'angel', 'angeles', 'anger', 'angered', 'angie', 'angle', 'angry', 'angst', 'angsty', 'anguish', 'animal', 'anime', 'animosity', 'anipike', 'ankle', 'anna', 'anne', 'annie', 'anniversary', 'announced', 'annoy', 'annoyance', 'annoyed', 'annoying', 'annual', 'annulment', 'ano', 'anonymous', 'another', 'anothers', 'ansi', 'answer', 'answered', 'answering', 'antagonism', 'anthology', 'anti', 'antic', 'anticipation', 'antoinette', 'antsy', 'anxiety', 'anxious', 'anxiously', 'anybody', 'anyhow', 'anymore', 'anyone', 'anyones', 'anything', 'anyway', 'anyways', 'anywhere', 'aout', 'apart', 'apartment', 'apathetic', 'apathy', 'apawa', 'apaya', 'apc', 'apgujeong', 'apologise', 'apologize', 'apologizes', 'apologizing', 'apology', 'apostrophe', 'appalled', 'apparent', 'apparently', 'appeal', 'appear', 'appearance', 'appeared', 'appears', 'apple', 'application', 'apply', 'applying', 'appointment', 'appreciate', 'appreciated', 'appreciation', 'appreciative', 'apprehensive', 'approach', 'approached', 'approaching', 'appropriate', 'approx', 'apraxia', 'april', 'apt', 'arab', 'arcade', 'archeological', 'area', 'arena', 'arent', 'argue', 'argued', 'argument', 'arm', 'armed', 'armistice', 'armor', 'army', 'around', 'aroused', 'arousing', 'arrangement', 'arrangment', 'array', 'arrival', 'arrive', 'arrived', 'arriving', 'arrogance', 'arrogant', 'art', 'article', 'articulate', 'articulating', 'artifically', 'artificially', 'artist', 'artistic', 'artistry', 'artwork', 'arun', 'aryiku', 'as', 'asbestos', 'ash', 'ashamed', 'ashers', 'ashton', 'asian', 'aside', 'ask', 'asked', 'asking', 'asks', 'asleep', 'aspect', 'ass', 'assassinated', 'assault', 'assaulted', 'asserting', 'assess', 'assessment', 'asset', 'asshole', 'assignment', 'assistance', 'assistant', 'associate', 'associated', 'association', 'assuage', 'assume', 'assumed', 'assumption', 'assurance', 'assured', 'asylum', 'atari', 'ate', 'atell', 'atention', 'ath', 'atheism', 'atheist', 'athletic', 'athleticism', 'athletics', 'atiqah', 'ativan', 'atleast', 'atm', 'atmosphere', 'atom', 'atrophy', 'attach', 'attached', 'attack', 'attacked', 'attain', 'attempt', 'attempted', 'attempting', 'attend', 'attending', 'attention', 'attic', 'attire', 'attitude', 'attracted', 'attractive', 'attribute', 'aubrey', 'audacity', 'audience', 'audre', 'august', 'aunt', 'austen', 'australia', 'authenticity', 'author', 'authority', 'auto', 'autobiography', 'automatically', 'autumn', 'available', 'average', 'avery', 'avoid', 'avoided', 'avoiding', 'awaiting', 'awaits', 'awake', 'award', 'aware', 'awareness', 'awash', 'away', 'awesome', 'awful', 'awfully', 'awhile', 'awkward', 'awkwardly', 'awkwardness', 'awoken', 'axel', 'ayan', 'baachan', 'babe', 'baby', 'babychaser', 'back', 'backdrop', 'backed', 'background', 'backing', 'backlog', 'backpacking', 'backward', 'backwards', 'bad', 'badass', 'badly', 'badman', 'baffled', 'baffroom', 'bag', 'bagan', 'baggage', 'baggy', 'bah', 'baker', 'baking', 'balance', 'balanced', 'bald', 'balk', 'ball', 'ballet', 'balloon', 'balsamic', 'baltic', 'ban', 'banal', 'banana', 'band', 'bandaid', 'bandhu', 'bang', 'bank', 'banker', 'banking', 'banter', 'baptism', 'baptized', 'bar', 'barbeque', 'barbie', 'barbies', 'bare', 'barely', 'barn', 'barrage', 'barrier', 'base', 'based', 'basement', 'bashful', 'basic', 'basically', 'basis', 'basks', 'bastard', 'batch', 'bath', 'bathing', 'bathroom', 'battered', 'batting', 'battle', 'battling', 'bauer', 'bay', 'bbc', 'beach', 'beacuse', 'bead', 'beam', 'bear', 'bearable', 'bearing', 'beast', 'beat', 'beaten', 'beating', 'beautiful', 'beautifully', 'beauty', 'became', 'becasue', 'become', 'becomes', 'becoming', 'becuz', 'bed', 'bedroom', 'beef', 'beefy', 'beer', 'beg', 'began', 'begging', 'begin', 'beginning', 'begun', 'behalf', 'behave', 'behaving', 'behavior', 'behaviour', 'behind', 'beholder', 'beijing', 'bein', 'being', 'beirut', 'belief', 'believe', 'believed', 'believer', 'believing', 'belittle', 'belittled', 'bell', 'belle', 'bellman', 'belly', 'belong', 'belonged', 'belonging', 'belongingness', 'beloved', 'beluga', 'bemused', 'benadryl', 'bench', 'beneath', 'benedict', 'beneficial', 'benefit', 'benefited', 'benevolent', 'benign', 'benzema', 'berate', 'beside', 'besides', 'best', 'bestselling', 'bet', 'betrayed', 'betraying', 'better', 'bewildered', 'beyond', 'bf', 'bi', 'biannual', 'bias', 'bible', 'biceps', 'bicycle', 'big', 'bigger', 'biggest', 'bigotry', 'bike', 'bill', 'billy', 'bind', 'binding', 'binging', 'bio', 'biochem', 'biochemistry', 'biology', 'bird', 'birding', 'birth', 'birthday', 'birthmoms', 'bishan', 'bit', 'bitch', 'bitching', 'bitchy', 'bite', 'bitstream', 'bitten', 'bitter', 'bitterly', 'bittersweet', 'bizarre', 'black', 'blackburn', 'blackpool', 'blackwater', 'bladder', 'blade', 'blah', 'blake', 'blame', 'blaming', 'blank', 'blare', 'blatant', 'bleed', 'bleeding', 'bleh', 'blender', 'blending', 'blessed', 'blessing', 'bleu', 'blinding', 'blindly', 'blink', 'blissfully', 'bloater', 'block', 'blocked', 'blocking', 'blog', 'blogger', 'blogging', 'bloging', 'bloke', 'blonde', 'blood', 'bloody', 'blossoming', 'blow', 'blowing', 'blown', 'blu', 'blubbering', 'blue', 'blunt', 'blur', 'blurting', 'blush', 'board', 'boasting', 'boat', 'bobbing', 'bobby', 'bod', 'bodega', 'bodily', 'body', 'bodypump', 'bodywork', 'bogged', 'boil', 'boisterous', 'bold', 'bomb', 'bombed', 'bombing', 'bond', 'bonded', 'bonding', 'bondmusings', 'bone', 'boo', 'boob', 'book', 'booked', 'booking', 'bookmark', 'boost', 'boot', 'booth', 'bopping', 'border', 'bore', 'bored', 'boring', 'born', 'borne', 'borrowed', 'bos', 'boss', 'bother', 'bothered', 'bothering', 'bothersome', 'bottle', 'bottling', 'bottom', 'bought', 'bounce', 'bouncier', 'bouncy', 'boundary', 'bout', 'bowel', 'box', 'boxing', 'boy', 'boyfriend', 'brach', 'brad', 'brain', 'brainless', 'brainstorming', 'brand', 'brandy', 'brassed', 'brat', 'brave', 'brazil', 'brazilian', 'break', 'breakfast', 'breaking', 'breast', 'breastfeed', 'breath', 'breathe', 'breathed', 'breathing', 'breed', 'breeze', 'brendon', 'brew', 'brewing', 'bride', 'bridge', 'brief', 'brig', 'bright', 'brighter', 'brilliant', 'bring', 'bringing', 'brings', 'brink', 'britain', 'british', 'britneys', 'bro', 'broaden', 'broadly', 'broke', 'broken', 'brokeup', 'brooding', 'brooklyn', 'broom', 'brother', 'brotherhood', 'brought', 'brow', 'brown', 'browness', 'browse', 'browser', 'bruce', 'brunch', 'brush', 'brutality', 'bsc', 'bt', 'btw', 'bubbling', 'bubbly', 'buck', 'bucket', 'bud', 'budding', 'budget', 'buffed', 'buffy', 'bug', 'build', 'building', 'bul', 'bullied', 'bully', 'bullying', 'bummed', 'bummin', 'bump', 'bumper', 'bunch', 'bundle', 'bunking', 'bunny', 'bunnysuit', 'buoyed', 'burden', 'burdened', 'bureaucracy', 'bureaucrat', 'burger', 'burlesque', 'burmeister', 'burn', 'burner', 'burnt', 'burrowed', 'burst', 'bursting', 'bury', 'bus', 'business', 'busy', 'butchery', 'butt', 'butter', 'butterfly', 'button', 'buy', 'buying', 'buzzy', 'bye', 'cabin', 'cafe', 'caffeine', 'caffeined', 'cage', 'caged', 'cajoled', 'cake', 'caleb', 'caledonia', 'calf', 'calgary', 'california', 'call', 'called', 'caller', 'calling', 'callous', 'callus', 'calm', 'calmed', 'calmer', 'calming', 'cam', 'cambodia', 'came', 'camera', 'cammie', 'camp', 'campaign', 'campus', 'can', 'canada', 'cancel', 'cancelled', 'cancer', 'candle', 'candy', 'candyland', 'canon', 'cant', 'cantankerous', 'canteen', 'canvas', 'capable', 'capacity', 'capp', 'caption', 'capture', 'captured', 'car', 'cara', 'carapace', 'carbs', 'carby', 'card', 'care', 'cared', 'careeeeee', 'career', 'carefree', 'careful', 'caregiver', 'carelessness', 'caretaker', 'carey', 'caring', 'carl', 'carniola', 'carpet', 'carried', 'carry', 'carrying', 'carson', 'carter', 'cartoon', 'cartwheel', 'case', 'cash', 'cashier', 'cassandra', 'cast', 'casual', 'casually', 'cat', 'catalyst', 'catapulted', 'catch', 'catching', 'category', 'caterpillar', 'cath', 'cathartic', 'catholic', 'caught', 'cause', 'caused', 'causing', 'caution', 'cautious', 'cautiously', 'cavalier', 'cave', 'caveman', 'cc', 'ccw', 'cd', 'cdn', 'cede', 'ceiling', 'celebrate', 'celebrated', 'celebration', 'celebrity', 'cell', 'censored', 'censorship', 'center', 'centered', 'central', 'centre', 'century', 'cert', 'certain', 'certainly', 'cesspool', 'cha', 'chadstone', 'chai', 'chained', 'chair', 'chajeul', 'chakotay', 'chalk', 'chalking', 'challenge', 'challenged', 'challenging', 'chamber', 'champagne', 'chance', 'change', 'changed', 'changer', 'changing', 'channel', 'chaos', 'chaotic', 'chaperone', 'chapter', 'character', 'characteristic', 'charge', 'charged', 'charging', 'charitable', 'charity', 'charlie', 'charm', 'charmed', 'charming', 'chase', 'chased', 'chasing', 'chaste', 'chat', 'chatter', 'chatting', 'cheap', 'cheaper', 'cheat', 'cheated', 'cheating', 'check', 'checked', 'checking', 'checklist', 'cheek', 'cheer', 'cheered', 'cheerful', 'cheerfully', 'cheering', 'chemical', 'chemistry', 'chemo', 'chemotherapy', 'cherish', 'cherry', 'chest', 'chewing', 'chick', 'chicken', 'chickie', 'chief', 'child', 'childhood', 'childish', 'childlike', 'chill', 'chin', 'china', 'chinese', 'ching', 'chink', 'chipmunk', 'chipping', 'chocolate', 'chocolating', 'choice', 'choir', 'choose', 'chooses', 'chore', 'chose', 'chosen', 'christ', 'christian', 'christianity', 'christine', 'christmas', 'christmassy', 'chromosome', 'chronically', 'chronicle', 'church', 'churchill', 'churchoffuck', 'churn', 'cigarette', 'cinema', 'circle', 'circuit', 'circumstance', 'citizen', 'city', 'civil', 'civilian', 'claim', 'claimed', 'clairee', 'claret', 'clarify', 'clarity', 'clarke', 'clash', 'class', 'classic', 'classical', 'classmate', 'classroom', 'claustrophobic', 'clawed', 'clay', 'clean', 'cleaned', 'cleaner', 'cleaning', 'cleansing', 'clear', 'clearboth', 'clearer', 'clearly', 'cleat', 'clench', 'clerk', 'clever', 'cliche', 'click', 'clicked', 'clicking', 'client', 'cliff', 'climate', 'climb', 'climbed', 'climbing', 'clingy', 'clinic', 'clinique', 'clint', 'clique', 'clit', 'clock', 'close', 'closed', 'closer', 'closest', 'closet', 'closing', 'closure', 'clothes', 'clothing', 'cloud', 'clover', 'clown', 'club', 'clubbed', 'clue', 'clueless', 'clumsy', 'cluster', 'clutch', 'clutched', 'cluttered', 'cnn', 'co', 'coach', 'coaching', 'coaster', 'coat', 'coca', 'cock', 'code', 'coercive', 'coffee', 'cognitive', 'cognize', 'cohens', 'coin', 'coke', 'cola', 'cold', 'collaboration', 'collar', 'colleague', 'collected', 'collection', 'collective', 'college', 'collide', 'collin', 'colon', 'color', 'colored', 'coloring', 'colour', 'coloured', 'colourful', 'column', 'com', 'combat', 'combination', 'combine', 'combing', 'combo', 'come', 'comeback', 'comedy', 'comfort', 'comfortable', 'comforted', 'comforting', 'comfy', 'comic', 'coming', 'command', 'comment', 'commercialism', 'commie', 'commit', 'commitment', 'committed', 'committee', 'committment', 'commodore', 'common', 'commonplace', 'communicate', 'communication', 'communicator', 'communion', 'community', 'commuter', 'comp', 'companion', 'company', 'comparatively', 'compare', 'compared', 'comparing', 'comparison', 'compartmentalised', 'compassion', 'compelled', 'compensate', 'compere', 'compete', 'competing', 'competition', 'complacent', 'complain', 'complaining', 'complaint', 'complainy', 'complete', 'completed', 'completely', 'completeness', 'completing', 'completion', 'complex', 'complicated', 'compliment', 'complimented', 'composition', 'compost', 'comprehend', 'comprehensive', 'compromised', 'compulsory', 'computer', 'conceal', 'concealer', 'concentrate', 'concentrating', 'concept', 'concern', 'concerned', 'concerning', 'concert', 'concidence', 'concieve', 'conclusion', 'concoction', 'concurrently', 'condemned', 'condemning', 'condescending', 'condition', 'conditioned', 'condone', 'conducive', 'conduct', 'conducted', 'conducting', 'conductor', 'conference', 'confess', 'confessed', 'confidence', 'confident', 'confined', 'confirm', 'conflict', 'conflicted', 'confront', 'confrontation', 'confrontational', 'confused', 'confusion', 'congratulate', 'congratulation', 'conifer', 'connect', 'connected', 'connection', 'conor', 'conscience', 'conscious', 'consciously', 'consequence', 'conservative', 'consider', 'considerable', 'considerate', 'consideration', 'considered', 'considering', 'considers', 'consistent', 'consistently', 'consists', 'consolidate', 'conspiracy', 'constant', 'constantly', 'constipated', 'constitution', 'constitutional', 'constraint', 'constructive', 'constructively', 'construes', 'consulate', 'consultant', 'consulted', 'consumed', 'consumer', 'consumes', 'consuming', 'consumption', 'contact', 'contacting', 'container', 'contemplated', 'contemplating', 'content', 'contented', 'contentedly', 'contest', 'context', 'continental', 'continually', 'continue', 'continued', 'continues', 'continuing', 'continuity', 'continuous', 'contract', 'contradictory', 'contribute', 'contributed', 'contribution', 'control', 'controlled', 'controlling', 'convenience', 'conveniently', 'convention', 'conventional', 'conversation', 'conversing', 'convince', 'convinced', 'convoluted', 'coo', 'cook', 'cookie', 'cooking', 'cooky', 'cool', 'cooped', 'cooperation', 'cooperative', 'coordinate', 'cop', 'copay', 'cope', 'coped', 'coping', 'copper', 'copy', 'copying', 'core', 'corey', 'corinthian', 'corner', 'cornish', 'cornwall', 'coronation', 'corporate', 'correction', 'correctly', 'correctness', 'cosmos', 'cost', 'costly', 'costume', 'cottage', 'couch', 'cough', 'coughing', 'could', 'couldnt', 'couldve', 'coulter', 'councilman', 'counsel', 'counselling', 'counsellor', 'count', 'counted', 'counter', 'countless', 'country', 'couple', 'coupled', 'courage', 'course', 'coursing', 'court', 'courtesy', 'courthouse', 'cousin', 'cover', 'covered', 'covering', 'covingtons', 'cow', 'cox', 'coz', 'cozy', 'cpine', 'craaaaaaack', 'crab', 'crack', 'craft', 'crafted', 'crake', 'cramp', 'cramped', 'cramping', 'cranberry', 'cranky', 'cranny', 'crap', 'crappy', 'crashing', 'crave', 'craving', 'crawl', 'crawling', 'crazily', 'craziness', 'crazy', 'cream', 'create', 'created', 'creating', 'creation', 'creative', 'creatively', 'creativity', 'creator', 'creature', 'cred', 'credential', 'credit', 'creek', 'creep', 'creeping', 'creepy', 'creme', 'crib', 'cried', 'crim', 'crime', 'criminal', 'cringe', 'crisis', 'crisp', 'critical', 'criticism', 'criticizing', 'crochet', 'crocs', 'croissant', 'crol', 'crone', 'cross', 'crossed', 'crossfit', 'crosshatching', 'crossing', 'crossword', 'crowd', 'crowe', 'cru', 'crud', 'crudely', 'cruising', 'crumbling', 'crunch', 'crunched', 'crunching', 'crunchy', 'crunk', 'crush', 'crust', 'cruz', 'cry', 'cryin', 'cs', 'cube', 'cubicle', 'cuddle', 'cue', 'cult', 'culturally', 'culture', 'cumberland', 'cumming', 'cup', 'cupcake', 'curated', 'curb', 'cure', 'curiosity', 'curiously', 'curl', 'curled', 'current', 'currently', 'curriculum', 'curse', 'curtain', 'cushion', 'customary', 'customer', 'cut', 'cute', 'cutesy', 'cutting', 'cuz', 'cya', 'cyber', 'cyberspace', 'cycle', 'cycling', 'cynicism', 'da', 'dad', 'daddy', 'daily', 'dale', 'dallas', 'dam', 'damage', 'damaged', 'damaging', 'damn', 'damnation', 'damp', 'dan', 'dance', 'danced', 'dancer', 'dancing', 'danger', 'dangerous', 'dangerously', 'dannika', 'dare', 'dark', 'darkness', 'darling', 'darn', 'dart', 'dash', 'dasi', 'date', 'dating', 'daughter', 'dave', 'david', 'dawn', 'day', 'daycare', 'daydream', 'daydreamed', 'daydreaming', 'daylight', 'dazs', 'dazzling', 'dd', 'dead', 'deadline', 'deaf', 'deal', 'dealing', 'dealt', 'dean', 'dear', 'death', 'debate', 'debris', 'debt', 'decade', 'decaf', 'deceived', 'december', 'decent', 'decently', 'decide', 'decided', 'decidedly', 'decides', 'deciding', 'decision', 'deck', 'declare', 'decluttering', 'decompress', 'decorate', 'decorative', 'dedicated', 'deed', 'deem', 'deemed', 'deen', 'deep', 'deeper', 'deeply', 'def', 'default', 'defeat', 'defeated', 'defeating', 'defend', 'defended', 'defending', 'defense', 'defensive', 'deferring', 'deffinately', 'defiance', 'definately', 'defination', 'define', 'definite', 'definitely', 'definition', 'definitive', 'deform', 'deformed', 'defriended', 'degrassi', 'degree', 'dejected', 'deke', 'delay', 'delayed', 'delhi', 'deliberate', 'deliberation', 'delicate', 'delicious', 'delight', 'delighted', 'delightful', 'deliver', 'delivered', 'delivery', 'delusion', 'deluxe', 'delve', 'demand', 'demanding', 'democratic', 'demon', 'demonstrate', 'demonstration', 'demostrators', 'demotivate', 'demotivated', 'denial', 'denied', 'denim', 'denise', 'denmark', 'dennis', 'denounced', 'dent', 'dentist', 'deny', 'denying', 'deo', 'deodorant', 'depend', 'dependent', 'depending', 'depends', 'depleted', 'depois', 'deprecation', 'depressant', 'depressed', 'depression', 'depth', 'deranged', 'derby', 'derek', 'derfwadmanor', 'derp', 'descara', 'describe', 'described', 'describes', 'describing', 'description', 'deserted', 'deserve', 'deserves', 'design', 'designed', 'designer', 'designing', 'desirable', 'desire', 'desiring', 'desk', 'desolate', 'desp', 'despair', 'desperate', 'desperately', 'desperation', 'despise', 'despised', 'despite', 'despondent', 'dessert', 'destination', 'destined', 'destiny', 'destroyed', 'destroying', 'destruction', 'destructive', 'detail', 'detailed', 'detailing', 'detatched', 'determination', 'determine', 'determined', 'detest', 'detested', 'detoured', 'devastated', 'devastating', 'develop', 'developed', 'development', 'devil', 'devin', 'devoid', 'devote', 'devoted', 'devotee', 'dew', 'dezinesamaze', 'dh', 'dharavi', 'dharma', 'dial', 'dialed', 'dialog', 'diane', 'diary', 'diazepam', 'dick', 'dickensian', 'dickinson', 'dickish', 'dictated', 'didnt', 'die', 'died', 'diet', 'dieting', 'difference', 'different', 'differently', 'difficult', 'difficulty', 'dig', 'digesting', 'digging', 'dignified', 'dignity', 'digress', 'digust', 'diktats', 'dilute', 'diminish', 'diminishing', 'dimple', 'din', 'dine', 'dingler', 'dining', 'dink', 'dinn', 'dinner', 'dint', 'dipshit', 'dire', 'direct', 'directed', 'directing', 'direction', 'directly', 'director', 'dirt', 'dirty', 'disability', 'disabled', 'disadvantaged', 'disagree', 'disagreement', 'disappear', 'disappoint', 'disappointed', 'disappointment', 'disaster', 'disbelief', 'discernment', 'disciple', 'disclaimer', 'disclosure', 'disco', 'discomfort', 'disconnect', 'disconnected', 'discontent', 'discouraged', 'discover', 'discovered', 'discovering', 'discovery', 'discus', 'discussed', 'discussing', 'discussion', 'disdain', 'disdainful', 'disease', 'disengaged', 'disgruntled', 'disgust', 'disgusted', 'disgusting', 'dish', 'dishonoring', 'dishwasher', 'disinterested', 'disjointed', 'dismayed', 'dismiss', 'dismisses', 'dismissing', 'disorder', 'disorganised', 'disorientated', 'disoriented', 'dispersed', 'displaced', 'displacement', 'display', 'displayed', 'displeasing', 'disposable', 'disqualification', 'disregard', 'disregarding', 'disrespect', 'disrespected', 'disrupt', 'dissassociated', 'dissatisfaction', 'dissatisfied', 'disservice', 'dissipate', 'dissolving', 'distance', 'distinct', 'distinctly', 'distorted', 'distortion', 'distracted', 'distracting', 'distraction', 'distraught', 'distress', 'distressed', 'distributor', 'distrustful', 'disturb', 'ditlevsen', 'div', 'diverse', 'diversity', 'divert', 'divine', 'divinity', 'division', 'divorce', 'diwali', 'diy', 'dizzy', 'dlk', 'dlpt', 'dm', 'doc', 'doctor', 'document', 'documented', 'doedollil', 'doesnt', 'dog', 'doha', 'doll', 'dollar', 'dom', 'dominant', 'dominican', 'donated', 'donation', 'done', 'dong', 'donning', 'dont', 'dontknow', 'donut', 'doodly', 'doom', 'doomnation', 'door', 'doorway', 'dopey', 'dorama', 'dork', 'dorky', 'dorm', 'dose', 'dot', 'double', 'doubt', 'doubtful', 'doubting', 'dough', 'down', 'downer', 'downright', 'downvoted', 'dozen', 'dp', 'dpt', 'dr', 'draft', 'drafted', 'drafting', 'drag', 'dragged', 'dragging', 'dragon', 'drained', 'drama', 'dramatic', 'drank', 'draw', 'drawer', 'drawing', 'drawn', 'dread', 'dreaded', 'dreadful', 'dreading', 'dream', 'dreamed', 'dreaming', 'dress', 'dressed', 'dressing', 'drew', 'dried', 'drink', 'drinkin', 'drinking', 'drive', 'driven', 'driver', 'driving', 'droop', 'drop', 'dropping', 'drove', 'drowning', 'drs', 'drug', 'drum', 'drunk', 'dry', 'dsp', 'dubai', 'dubstep', 'duckie', 'duct', 'due', 'duh', 'duke', 'dull', 'dulles', 'dullness', 'dumb', 'dummy', 'dump', 'dumpee', 'dumping', 'dun', 'dung', 'dunham', 'dunno', 'duped', 'dust', 'duty', 'dvd', 'dwell', 'dwelling', 'dying', 'dykey', 'dylan', 'eager', 'eagerly', 'eagle', 'ear', 'earlier', 'earliest', 'early', 'earn', 'earning', 'earring', 'earth', 'eartha', 'earthquake', 'ease', 'easel', 'easi', 'easier', 'easiest', 'easily', 'easter', 'easy', 'eat', 'eaten', 'eater', 'eatery', 'eating', 'ebay', 'ebb', 'ebooks', 'echo', 'economic', 'economically', 'economy', 'ecstasy', 'ecstatic', 'ed', 'edge', 'edgy', 'edit', 'edition', 'edochie', 'educate', 'educating', 'education', 'educationg', 'effect', 'effecting', 'effective', 'effectively', 'efficient', 'effort', 'effortlessly', 'egalitarian', 'egan', 'egf', 'egg', 'egypt', 'eh', 'ehb', 'ehh', 'eid', 'eight', 'eighteen', 'either', 'elated', 'elation', 'elder', 'elderly', 'election', 'electrified', 'elegant', 'element', 'elevated', 'elf', 'elle', 'elliptical', 'eloquence', 'eloquent', 'else', 'elses', 'elsewhere', 'elusive', 'elusively', 'em', 'email', 'emanating', 'embarassing', 'embarrased', 'embarrassed', 'embedding', 'ember', 'embrace', 'emerge', 'emergency', 'emily', 'eminent', 'emm', 'emo', 'emoticon', 'emotion', 'emotional', 'emotionally', 'emotionless', 'empathize', 'empathy', 'emphasize', 'employ', 'employee', 'employer', 'employment', 'empowered', 'empowering', 'empowerment', 'emptied', 'emptiness', 'empty', 'en', 'enabling', 'enacting', 'encapsulate', 'encased', 'encoding', 'encounter', 'encountered', 'encourage', 'encouraged', 'encouragement', 'end', 'endeavor', 'endeavoring', 'ended', 'ending', 'endless', 'endorphin', 'endurance', 'endure', 'endzone', 'enemy', 'energetic', 'energetically', 'energised', 'energized', 'energy', 'engage', 'engaged', 'engagement', 'engineer', 'engineering', 'england', 'english', 'enhance', 'enjambment', 'enjoy', 'enjoyable', 'enjoyed', 'enjoying', 'enjoyment', 'enjoys', 'enlist', 'enmayi', 'enormous', 'enormously', 'enough', 'enraged', 'enriching', 'ensue', 'ensure', 'ensuring', 'entail', 'enter', 'entered', 'entering', 'entertained', 'entertainer', 'entertainment', 'enthusiasm', 'enthusiast', 'enthusiastic', 'entire', 'entirelly', 'entirely', 'entirety', 'entitled', 'entrance', 'entrusted', 'entry', 'enuff', 'envelope', 'enveloped', 'envelops', 'envious', 'enviously', 'environment', 'environmental', 'envisioned', 'envous', 'epic', 'epileptic', 'episode', 'eqafe', 'equal', 'equally', 'equivalent', 'eric', 'erik', 'erm', 'error', 'errrr', 'erupt', 'escape', 'escaped', 'eschew', 'escorting', 'esily', 'esp', 'especially', 'essay', 'essence', 'essential', 'essentially', 'established', 'estimate', 'etape', 'etc', 'eternal', 'eternally', 'eternity', 'ethical', 'ethiopia', 'etsy', 'euan', 'eucharist', 'euphoria', 'euro', 'european', 'eurovision', 'evaluate', 'evaluation', 'evangelical', 'evaporate', 'eve', 'even', 'evening', 'event', 'eventual', 'eventually', 'ever', 'everchanging', 'every', 'everybody', 'everyday', 'everyone', 'everyones', 'everything', 'everythings', 'everytime', 'everywhere', 'evidence', 'evil', 'evoked', 'evolve', 'ewan', 'ex', 'exact', 'exactly', 'exaggerating', 'exaggeration', 'exam', 'examination', 'examine', 'examining', 'example', 'exboyfriend', 'exceedingly', 'excelent', 'excellent', 'except', 'exception', 'exceptional', 'exceptionally', 'excessive', 'exchange', 'exchanging', 'excited', 'excitedly', 'excitement', 'exciting', 'excitment', 'exclusively', 'excruciating', 'excuse', 'execute', 'executed', 'executing', 'execution', 'executive', 'exempted', 'exercise', 'exercised', 'exercising', 'exert', 'exhaling', 'exhausted', 'exhausting', 'exhibit', 'exhilarated', 'exhilarating', 'exhilirated', 'existance', 'existed', 'existent', 'existing', 'exists', 'exit', 'exited', 'exiting', 'expect', 'expectation', 'expected', 'expecting', 'expense', 'expensive', 'experience', 'experienced', 'experiencing', 'experiment', 'experimented', 'expert', 'explain', 'explaining', 'explains', 'explanation', 'explode', 'explodes', 'exploration', 'explore', 'explored', 'explorer', 'exploring', 'export', 'exposed', 'exposing', 'exposure', 'express', 'expressed', 'expressing', 'expression', 'expressive', 'extension', 'extent', 'exterior', 'external', 'externally', 'extra', 'extraordinarily', 'extreme', 'extremely', 'extrememly', 'eye', 'eyebrow', 'eyelid', 'fab', 'fabric', 'fabulous', 'face', 'facebook', 'facing', 'fact', 'factor', 'factory', 'faculty', 'fad', 'fade', 'fail', 'failed', 'failing', 'fails', 'failure', 'fair', 'fairly', 'fairy', 'faith', 'faithful', 'faithfulness', 'fake', 'fall', 'fallen', 'falling', 'false', 'falun', 'fam', 'familiar', 'family', 'famous', 'fan', 'fanatic', 'fandom', 'fanfictions', 'fangirls', 'fantabulous', 'fantastic', 'fantasy', 'far', 'fare', 'farm', 'fascinated', 'fascitis', 'fashion', 'fashionable', 'fashioned', 'fast', 'faster', 'fastforwarding', 'fat', 'fatale', 'fate', 'father', 'fathom', 'fault', 'faux', 'favor', 'favorable', 'favorite', 'favour', 'favourite', 'favs', 'fear', 'feared', 'fearful', 'fearless', 'feat', 'feature', 'feauture', 'feautures', 'february', 'fed', 'federal', 'federer', 'fedex', 'fedotenko', 'fedtastic', 'feeble', 'feed', 'feedback', 'feeder', 'feeding', 'feedlinks', 'feel', 'feelbut', 'feelin', 'feeling', 'feelingless', 'feely', 'fell', 'fellow', 'fellowship', 'felt', 'female', 'feminism', 'feminist', 'femme', 'ferocious', 'fertility', 'fervor', 'fester', 'festive', 'feta', 'fetch', 'fetched', 'feverish', 'feverishly', 'fff', 'ffs', 'ffxi', 'fiance', 'fiber', 'fiction', 'fiddle', 'fiddly', 'field', 'fierce', 'fierceness', 'fifteen', 'fight', 'fighting', 'figt', 'figure', 'figured', 'file', 'fill', 'filled', 'filling', 'film', 'filmfare', 'filmmaker', 'final', 'finality', 'finally', 'finance', 'financial', 'financially', 'finchers', 'find', 'finding', 'fine', 'finger', 'finish', 'finished', 'finishing', 'finland', 'finn', 'finnerty', 'fire', 'firefly', 'fireplace', 'firey', 'firm', 'firming', 'first', 'firstborn', 'fish', 'fishing', 'fist', 'fit', 'fitness', 'fitted', 'fitting', 'five', 'fix', 'flagellating', 'flailing', 'flake', 'flakiness', 'flame', 'flamingo', 'flash', 'flashing', 'flashlight', 'flat', 'flatmate', 'flattened', 'flattered', 'flaunt', 'flavor', 'flavour', 'flaw', 'flawless', 'fled', 'flee', 'flesh', 'fleshed', 'flew', 'flexible', 'flexy', 'flickering', 'flicking', 'flight', 'flighty', 'flinched', 'fling', 'flip', 'flipping', 'flirt', 'flirtiing', 'flirty', 'floating', 'flooding', 'floor', 'flop', 'floral', 'florence', 'florida', 'flounder', 'flourishing', 'flow', 'flowed', 'flower', 'flung', 'flush', 'flushing', 'flustered', 'flutter', 'fluttering', 'fly', 'flying', 'fma', 'focalors', 'focus', 'focused', 'fog', 'foggy', 'foist', 'fold', 'folk', 'follow', 'followed', 'follower', 'following', 'follows', 'font', 'food', 'foodie', 'fool', 'fooled', 'foolish', 'foot', 'football', 'footing', 'foraging', 'force', 'forced', 'foreboding', 'forecast', 'forefinger', 'forefront', 'forego', 'forehead', 'foreign', 'foreshadowing', 'forever', 'forget', 'forgetting', 'forgive', 'forgiving', 'forgot', 'forgotten', 'form', 'formal', 'format', 'formed', 'former', 'formula', 'formulate', 'forsaken', 'forth', 'fortnight', 'fortunate', 'fortune', 'forum', 'forward', 'fought', 'foul', 'found', 'foundation', 'foundry', 'fountain', 'four', 'foward', 'fps', 'fragile', 'fragmented', 'fragrance', 'frail', 'frailty', 'frame', 'france', 'frankly', 'frantic', 'frantically', 'franz', 'fraser', 'frazzle', 'freak', 'freaked', 'freaking', 'freakishly', 'free', 'freedom', 'freely', 'french', 'frequency', 'frequented', 'frequently', 'fresh', 'freshen', 'freshman', 'freud', 'fri', 'frickin', 'friday', 'fridge', 'friend', 'friendly', 'friendship', 'friggety', 'friggin', 'frightened', 'frightening', 'frightful', 'frizz', 'frock', 'fromthe', 'front', 'frosting', 'frozen', 'frugal', 'fruit', 'frusterated', 'frustrated', 'frustration', 'fuck', 'fucked', 'fuckin', 'fucking', 'fuel', 'fuhrer', 'fulfill', 'fulfilled', 'fulfilling', 'full', 'fullest', 'fullness', 'fully', 'fume', 'fun', 'function', 'fund', 'fundamentalist', 'fundamentally', 'funk', 'funky', 'funny', 'furious', 'furniture', 'furstenberg', 'fuss', 'futile', 'futon', 'future', 'gabapentin', 'gabriella', 'gag', 'gain', 'gained', 'gaining', 'gal', 'gallery', 'gallows', 'galvanised', 'game', 'gamer', 'gan', 'gander', 'ganging', 'gap', 'garage', 'garbage', 'garden', 'garment', 'gas', 'gaseumi', 'gastric', 'gate', 'gateway', 'gather', 'gathered', 'gathering', 'gatorade', 'gatsseo', 'gauche', 'gave', 'gay', 'gear', 'geared', 'ged', 'geek', 'geez', 'gel', 'gender', 'gene', 'genealogical', 'genentech', 'general', 'generally', 'generated', 'generation', 'generational', 'generator', 'generic', 'generosity', 'generous', 'genetics', 'genius', 'genre', 'gentle', 'gentleman', 'gently', 'genuine', 'genuinely', 'george', 'georgia', 'gerling', 'germ', 'german', 'gervase', 'gesture', 'get', 'gettin', 'getting', 'gfathers', 'ghost', 'giant', 'giddy', 'gift', 'gifted', 'gigantic', 'giggle', 'giggly', 'gina', 'ginger', 'girl', 'girlfriend', 'girly', 'give', 'giveaway', 'given', 'giver', 'giving', 'glad', 'glamorous', 'glamour', 'glamourous', 'glance', 'glanced', 'glancing', 'glare', 'glaring', 'glasgow', 'glass', 'glc', 'glee', 'gleefully', 'glenn', 'glimpse', 'glint', 'glistening', 'glitter', 'global', 'globe', 'glory', 'gloss', 'glove', 'glowing', 'glued', 'gluten', 'glycemic', 'gm', 'gnawing', 'go', 'goal', 'god', 'goddamn', 'goddess', 'going', 'gold', 'golden', 'goldilocks', 'goliath', 'gon', 'gone', 'gong', 'good', 'goodbye', 'goodie', 'goodness', 'gook', 'gooooood', 'gore', 'gorgeous', 'gorgeously', 'got', 'gotong', 'gotten', 'government', 'governor', 'gown', 'grab', 'grabbed', 'grabbing', 'grace', 'graceful', 'gracious', 'grade', 'grader', 'gradually', 'graduate', 'graduating', 'graduation', 'grammar', 'grand', 'grandchild', 'grandeur', 'grandfather', 'grandma', 'grandmother', 'grandparent', 'granted', 'graphic', 'grappled', 'grasp', 'grasping', 'grateful', 'gratefulness', 'gratitude', 'gratuitously', 'gravity', 'grayish', 'greasy', 'great', 'greater', 'greatest', 'greatly', 'greatness', 'greed', 'greedy', 'green', 'greeted', 'greg', 'grew', 'grey', 'grief', 'grievance', 'grieving', 'grim', 'grin', 'grinned', 'grip', 'gripped', 'grit', 'grocery', 'gross', 'grossly', 'grotesque', 'grouchy', 'ground', 'grounded', 'group', 'grove', 'grow', 'growing', 'growled', 'grown', 'growth', 'grudge', 'grumble', 'grumpy', 'gt', 'guarantee', 'guard', 'guess', 'guessed', 'guessing', 'guest', 'guidance', 'guide', 'guilt', 'guilty', 'guitar', 'gulam', 'gulped', 'gummy', 'gun', 'guru', 'gush', 'gut', 'gutted', 'guy', 'gwiyomi', 'gym', 'haagen', 'habit', 'habitual', 'hacking', 'hackle', 'hadnt', 'hae', 'haggard', 'haha', 'hail', 'hair', 'hairstyle', 'hakodesh', 'half', 'halfway', 'hall', 'halloween', 'hallucinate', 'hallucination', 'hamper', 'hampered', 'hanbeon', 'hand', 'handbag', 'handbrake', 'handed', 'handful', 'handheld', 'handing', 'handle', 'handled', 'handmade', 'handrail', 'handsome', 'hanford', 'hang', 'hanging', 'hangover', 'hannah', 'hannahs', 'hansen', 'hapiness', 'happen', 'happened', 'happening', 'happens', 'happier', 'happily', 'happiness', 'happpy', 'happy', 'haptic', 'haptics', 'harass', 'harbor', 'hard', 'hardcore', 'hardcover', 'harden', 'harder', 'hardest', 'hardly', 'hardness', 'hardship', 'harm', 'harmed', 'harmful', 'harmfully', 'harmony', 'harrass', 'harrassment', 'harsh', 'harvest', 'harvey', 'hasan', 'hasnt', 'hastings', 'hat', 'hatchet', 'hate', 'hated', 'hateful', 'hater', 'hating', 'hatred', 'hatter', 'haul', 'hauled', 'hausa', 'hav', 'havent', 'hawk', 'haze', 'he', 'head', 'headache', 'headed', 'heading', 'headlamp', 'headless', 'headlock', 'headphone', 'heal', 'healing', 'health', 'healthcare', 'healthy', 'heap', 'hear', 'heard', 'hearing', 'hears', 'heart', 'heartache', 'heartbroken', 'heartburn', 'hearted', 'heartedly', 'heartless', 'heat', 'heated', 'heathen', 'heaven', 'heavenly', 'heavier', 'heavily', 'heaviness', 'heaving', 'heavy', 'heck', 'hed', 'hedgehog', 'heed', 'heel', 'hefty', 'hehe', 'height', 'heinous', 'heinously', 'held', 'hell', 'hellip', 'help', 'helped', 'helping', 'helpless', 'helvetica', 'hemorrhoid', 'hen', 'hence', 'hepburn', 'heralding', 'here', 'hero', 'herod', 'herrman', 'hertha', 'herzog', 'hesitant', 'hesitate', 'hesitation', 'heureulsurok', 'hey', 'hgtv', 'hi', 'hidden', 'hide', 'hiding', 'high', 'higher', 'highest', 'highlight', 'highly', 'highschool', 'hihi', 'hike', 'hilarious', 'hill', 'hindered', 'hint', 'hip', 'hire', 'historian', 'history', 'hit', 'hitting', 'hmmm', 'hoard', 'hoax', 'hobbs', 'hobby', 'hockey', 'hogging', 'hohoho', 'hold', 'holding', 'hole', 'holiday', 'holier', 'holistic', 'holler', 'hollow', 'holloway', 'holly', 'hollywood', 'holy', 'homage', 'home', 'homeland', 'homeless', 'homemaking', 'homeschooling', 'homesick', 'hometown', 'homework', 'homis', 'homosexuality', 'honest', 'honestly', 'honesty', 'honey', 'hong', 'honkerblonked', 'honor', 'honored', 'honoured', 'hoo', 'hood', 'hookah', 'hooker', 'hop', 'hope', 'hoped', 'hopeful', 'hopefully', 'hopeless', 'hopelessly', 'hopelessness', 'hoping', 'hopped', 'horizontal', 'hormone', 'horrible', 'horribly', 'horrid', 'horror', 'horse', 'horsey', 'hospital', 'host', 'hosted', 'hostel', 'hostile', 'hot', 'hotel', 'hotshot', 'hour', 'hourglass', 'house', 'housebound', 'housewife', 'however', 'hp', 'hr', 'href', 'http', 'hu', 'hubby', 'huckleberry', 'hug', 'huge', 'hugely', 'hugging', 'huhuhu', 'hum', 'human', 'humanbeings', 'humanly', 'humble', 'humbled', 'humblest', 'humbug', 'humiliated', 'humility', 'hummpffff', 'humor', 'humorous', 'humping', 'hun', 'hundred', 'hunger', 'hungry', 'hunter', 'hurry', 'hurt', 'hurtful', 'hurting', 'husband', 'hussein', 'hw', 'hyena', 'hype', 'hyper', 'hyperchondria', 'hyperemesis', 'hypersexual', 'hyperthyroidism', 'hyperventilating', 'hypocrite', 'hypocritical', 'hyundai', 'hyunjin', 'ibleeditout', 'ibs', 'ice', 'iced', 'ick', 'icon', 'id', 'idea', 'ideal', 'idealistic', 'idealized', 'identify', 'identifying', 'identity', 'idiocy', 'idiosyncrasy', 'idiot', 'idk', 'idling', 'idol', 'idrc', 'idreamculture', 'ie', 'ignites', 'ignorance', 'ignorant', 'ignore', 'ignored', 'ignoring', 'ii', 'iii', 'ill', 'illness', 'illogically', 'illustrating', 'illustration', 'illustrator', 'ima', 'image', 'imaginary', 'imagination', 'imagine', 'imagined', 'imagining', 'imdoing', 'img', 'immature', 'immediate', 'immediately', 'immedietly', 'immense', 'immensely', 'immobile', 'immune', 'impacting', 'impatient', 'impending', 'imperfect', 'implant', 'implement', 'implementing', 'implication', 'implies', 'impolite', 'importance', 'important', 'importantly', 'imposed', 'impossible', 'impostor', 'impotent', 'impoverished', 'impractical', 'impressed', 'impression', 'impressionable', 'impressive', 'impromptu', 'improv', 'improve', 'improved', 'improvement', 'improving', 'impulsive', 'inability', 'inaction', 'inanimate', 'inbalance', 'incapable', 'incase', 'incense', 'incessant', 'inch', 'incheswhyinches', 'incident', 'inclined', 'include', 'included', 'includes', 'including', 'income', 'incomplete', 'inconsiderate', 'inconsistent', 'inconvenience', 'incorporate', 'incorporated', 'incorrect', 'increase', 'increasing', 'increasingly', 'incredible', 'incredibly', 'incrementally', 'indecisive', 'indeed', 'indentured', 'independence', 'independent', 'india', 'indicated', 'indication', 'indigo', 'individual', 'individually', 'indonesia', 'induced', 'inducing', 'indulge', 'indulgence', 'indulgent', 'industry', 'inevitable', 'inevitably', 'inexperience', 'infection', 'inferior', 'infield', 'inflating', 'influence', 'influenced', 'influencing', 'info', 'inform', 'information', 'informed', 'informing', 'infuriated', 'ing', 'ingrain', 'ingrained', 'inhibited', 'inhuman', 'initally', 'initial', 'initially', 'initiation', 'injection', 'injured', 'injury', 'injustice', 'ink', 'inline', 'innanimate', 'innate', 'inner', 'innocent', 'innovation', 'input', 'inquire', 'insane', 'insanely', 'insecure', 'insecured', 'insecurity', 'insensitive', 'insert', 'inside', 'insider', 'insidious', 'insight', 'insignificant', 'insincere', 'insist', 'insisted', 'insomnia', 'inspect', 'inspected', 'inspiration', 'inspired', 'inspires', 'inspiring', 'instagram', 'instance', 'instant', 'instantly', 'instead', 'instigated', 'instinct', 'instinctively', 'instructables', 'instruction', 'insult', 'insulted', 'insulting', 'intact', 'integrity', 'intellect', 'intellectual', 'intellectually', 'intelligence', 'intelligent', 'intend', 'intended', 'intense', 'intensely', 'intensifying', 'intent', 'intention', 'intentional', 'intentionality', 'intentionally', 'inter', 'interacted', 'interaction', 'intercourse', 'interest', 'interested', 'interesting', 'intermarrying', 'interminable', 'intermittent', 'internally', 'internet', 'internist', 'internship', 'interrupt', 'interrupted', 'intervention', 'interview', 'intimate', 'intimated', 'intimately', 'intimidate', 'intimidated', 'intolerably', 'intrigued', 'intro', 'introduce', 'introducing', 'introduction', 'intrusion', 'intrusive', 'intuition', 'intuitive', 'invade', 'invaded', 'invented', 'inventory', 'invest', 'invested', 'investigate', 'investigator', 'investing', 'investment', 'invigorated', 'invitation', 'invite', 'invited', 'inviting', 'involved', 'involves', 'involving', 'iolani', 'ipad', 'ipod', 'iraq', 'irate', 'iris', 'irma', 'ironic', 'ironically', 'irrational', 'irrationally', 'irregardless', 'irreplaceable', 'irresistable', 'irresistible', 'irresponcible', 'irritable', 'irritated', 'irritation', 'isaac', 'ish', 'islam', 'island', 'ismobile', 'isnt', 'isolated', 'isolation', 'isprivate', 'isprivateblog', 'israel', 'issue', 'issued', 'italian', 'italy', 'itchy', 'itd', 'itdamyeon', 'item', 'iteration', 'itge', 'itll', 'itv', 'ivory', 'ivspirit', 'ivy', 'jack', 'jacked', 'jacket', 'jackson', 'jacynthe', 'jade', 'jaded', 'jail', 'jakun', 'jalopy', 'james', 'jammed', 'jan', 'jane', 'janelle', 'janine', 'janne', 'january', 'japanese', 'jar', 'jason', 'jaw', 'jazz', 'jcho', 'jdelivery', 'jealous', 'jealousy', 'jeanette', 'jeannie', 'jeff', 'jennifer', 'jens', 'jeremy', 'jerk', 'jerome', 'jerry', 'jersey', 'jesus', 'jew', 'jewellery', 'jewelry', 'ji', 'jia', 'jilted', 'jim', 'job', 'joel', 'johann', 'join', 'joining', 'joke', 'joking', 'jolly', 'jon', 'jonalyn', 'jones', 'jonesing', 'joseph', 'joshua', 'jot', 'journal', 'journalism', 'journalist', 'journey', 'joy', 'joyful', 'joyous', 'jsk', 'jubilant', 'jubilation', 'judeo', 'judge', 'judged', 'judging', 'judgment', 'jug', 'jugra', 'juice', 'juicy', 'julia', 'julian', 'july', 'jump', 'jumped', 'jumping', 'jumpy', 'jungle', 'junior', 'junk', 'justanswer', 'justice', 'justification', 'justified', 'justify', 'justifying', 'justin', 'justly', 'jz', 'kai', 'kairi', 'kakashi', 'kardashion', 'karen', 'kassim', 'kastrioti', 'katanya', 'kate', 'kathy', 'katniss', 'kay', 'kayle', 'keen', 'keenly', 'keep', 'keeping', 'keith', 'ken', 'kenny', 'kept', 'key', 'keyboard', 'kg', 'khartoum', 'khatsii', 'kiat', 'kick', 'kicked', 'kid', 'kidnapped', 'kierkegaard', 'kill', 'killed', 'killer', 'killing', 'kim', 'kin', 'kind', 'kinda', 'kindest', 'kindly', 'kindness', 'king', 'kingdom', 'kinship', 'kiss', 'kissed', 'kissing', 'kit', 'kitchen', 'kite', 'kitt', 'kj', 'km', 'knee', 'kneel', 'knew', 'knight', 'knit', 'knitter', 'knitting', 'knock', 'knot', 'know', 'knowing', 'knowingly', 'knowledge', 'known', 'kodi', 'kome', 'kong', 'kook', 'krupke', 'kurt', 'kyuhyun', 'la', 'lab', 'label', 'labor', 'labour', 'laced', 'lack', 'lacking', 'lacklustre', 'laconic', 'lacy', 'ladder', 'lady', 'laetshi', 'lagging', 'laid', 'lair', 'laiya', 'lake', 'lamb', 'lambrusco', 'lame', 'lance', 'land', 'landed', 'landlubber', 'language', 'languagedirection', 'lap', 'lapel', 'lapse', 'laptop', 'large', 'largely', 'larger', 'lash', 'last', 'lasting', 'latch', 'late', 'lately', 'later', 'latest', 'lathi', 'latte', 'latter', 'laugh', 'laughed', 'laughing', 'laughter', 'launch', 'laundering', 'laundry', 'lava', 'lavender', 'law', 'lawn', 'lawrencewashington', 'lawyer', 'lax', 'lay', 'layer', 'laying', 'layout', 'laze', 'laziness', 'lazy', 'lb', 'le', 'lea', 'lead', 'leaden', 'leader', 'leading', 'leadingstrings', 'leaf', 'lean', 'leanne', 'leap', 'learing', 'learn', 'learned', 'learning', 'learns', 'learnt', 'least', 'leather', 'leave', 'leaving', 'lecture', 'led', 'lee', 'leer', 'left', 'leg', 'legacy', 'legality', 'legard', 'legend', 'legitimate', 'lego', 'leisurely', 'lemon', 'lemonade', 'lending', 'lends', 'lenghth', 'length', 'lengthy', 'lens', 'lensflares', 'lent', 'leopard', 'leslie', 'less', 'lessen', 'lesson', 'lest', 'lestat', 'let', 'lethargic', 'lette', 'letter', 'letting', 'lettuce', 'level', 'lexicon', 'li', 'liar', 'liberal', 'liberated', 'libertine', 'liberty', 'library', 'lick', 'lie', 'liebkind', 'liebster', 'lied', 'life', 'lifeline', 'lifestyle', 'lifetime', 'lift', 'lifted', 'lifting', 'light', 'lighted', 'lighten', 'lightening', 'lighter', 'lighting', 'lightly', 'lightning', 'like', 'likeable', 'likeaudrey', 'liked', 'likelihood', 'likely', 'likewise', 'liking', 'lil', 'lily', 'limbo', 'limit', 'limitation', 'limited', 'linda', 'line', 'lined', 'linger', 'link', 'linus', 'linux', 'lip', 'lipstick', 'lisa', 'list', 'listen', 'listened', 'listener', 'listening', 'lit', 'literally', 'literary', 'litte', 'little', 'live', 'liveagainsttheflow', 'lived', 'livejournals', 'lively', 'living', 'lj', 'ller', 'load', 'loathe', 'loathing', 'lobbying', 'lobia', 'local', 'locale', 'lock', 'locked', 'locker', 'locking', 'log', 'logging', 'logic', 'logical', 'logistics', 'lol', 'lolita', 'lollipop', 'lollypop', 'london', 'lone', 'loneliness', 'lonely', 'loner', 'long', 'longer', 'longest', 'longing', 'longingly', 'look', 'looked', 'lookin', 'looking', 'looming', 'loop', 'loos', 'loose', 'loquacious', 'lord', 'lorde', 'lorena', 'los', 'lose', 'loser', 'losing', 'loss', 'lost', 'lot', 'lottery', 'lotus', 'louche', 'loud', 'louder', 'loudly', 'loudons', 'louis', 'lounge', 'love', 'loved', 'lovely', 'lover', 'loving', 'low', 'lower', 'lowest', 'lowlights', 'lowly', 'loyal', 'lp', 'lrt', 'ltr', 'luck', 'luckily', 'lucky', 'lucy', 'luftwaffe', 'luggage', 'luka', 'luke', 'luminary', 'lump', 'lunch', 'lung', 'lunge', 'lupron', 'lured', 'luring', 'lurker', 'lurking', 'lush', 'lve', 'lying', 'lyric', 'ma', 'mac', 'macabre', 'machine', 'mad', 'made', 'madness', 'maggie', 'magi', 'magic', 'magical', 'magnitude', 'maid', 'mail', 'mailbox', 'mailman', 'mailorder', 'main', 'mainly', 'mainstream', 'maintain', 'maintaining', 'major', 'majority', 'majorly', 'mak', 'make', 'makeup', 'making', 'male', 'malignant', 'mall', 'mama', 'mamma', 'mammogram', 'mammoth', 'man', 'manage', 'manageable', 'managed', 'manager', 'mane', 'manhood', 'maniacal', 'manicure', 'manifestation', 'manifesting', 'manila', 'manipulate', 'manipulated', 'manipulkated', 'manirado', 'manitz', 'manner', 'mantra', 'manual', 'manure', 'manuscript', 'many', 'map', 'mara', 'marathon', 'marge', 'margin', 'marginalised', 'marginally', 'mariah', 'marie', 'marijuana', 'mark', 'market', 'marketer', 'marriage', 'married', 'marry', 'marrying', 'marshal', 'marshmallow', 'mart', 'marten', 'martin', 'martinez', 'marvel', 'marveling', 'marvellous', 'marvelous', 'mary', 'maryland', 'masala', 'masculinity', 'mask', 'mass', 'massage', 'massive', 'massively', 'master', 'mastered', 'mastery', 'mat', 'match', 'mate', 'material', 'materialistic', 'maternal', 'matter', 'matty', 'max', 'may', 'maybe', 'maze', 'mba', 'mcas', 'mcdonalds', 'mcgarrigle', 'mcpherson', 'md', 'mda', 'meadow', 'meal', 'mean', 'meaning', 'meanness', 'meant', 'meantime', 'measure', 'measuring', 'meat', 'meath', 'med', 'medal', 'mediate', 'mediation', 'medical', 'medically', 'medication', 'medicine', 'mediocre', 'meditated', 'meditation', 'mediterranean', 'medium', 'meek', 'meet', 'meeting', 'mehow', 'melancholy', 'melbourne', 'melee', 'mellow', 'melodramatically', 'melonoma', 'melt', 'meltdown', 'melting', 'member', 'memory', 'men', 'mensa', 'menswear', 'mental', 'mentality', 'mentally', 'mention', 'mentioned', 'menu', 'merciless', 'mercy', 'mere', 'merely', 'merge', 'merida', 'merit', 'mermaidhaire', 'mesh', 'mess', 'message', 'messaging', 'messed', 'messy', 'met', 'metabolism', 'metal', 'metallic', 'metaphor', 'metaphorically', 'method', 'metre', 'metropolitan', 'mexican', 'mg', 'mi', 'michael', 'michigan', 'mid', 'middle', 'middot', 'midnight', 'midst', 'midterm', 'might', 'mighty', 'migraine', 'migrate', 'mike', 'mild', 'mildly', 'mile', 'milestone', 'military', 'milk', 'mill', 'millennium', 'million', 'min', 'mince', 'mind', 'mindful', 'mindset', 'mine', 'minibus', 'minimal', 'minimise', 'minimize', 'ministry', 'minor', 'minute', 'miracle', 'mircowaved', 'mirror', 'miscreant', 'miserable', 'misery', 'misgiving', 'mishap', 'misplaced', 'miss', 'misscariage', 'missed', 'missile', 'missing', 'mission', 'misspelt', 'misstreated', 'mistake', 'mistreated', 'mistress', 'misunderstanding', 'misunderstood', 'misused', 'mix', 'mixed', 'mixing', 'mixture', 'mm', 'moanday', 'moaning', 'mobileclass', 'mode', 'model', 'modern', 'modest', 'module', 'moffat', 'moisturiser', 'moisturising', 'molyneux', 'mom', 'moment', 'momentarily', 'momma', 'mommyhood', 'mon', 'monastery', 'monday', 'monetarily', 'money', 'monica', 'monitoring', 'monroe', 'monster', 'montana', 'month', 'monthe', 'mood', 'moody', 'moon', 'moose', 'moping', 'moral', 'morally', 'morbid', 'morbidly', 'mord', 'moreso', 'morgan', 'mormon', 'morning', 'morose', 'morris', 'morsel', 'mosquito', 'moss', 'mostly', 'mother', 'motherhood', 'mothering', 'motif', 'motion', 'motivate', 'motivated', 'motivating', 'motivation', 'motor', 'motorcyclist', 'motorway', 'mould', 'moulding', 'mound', 'mount', 'mountain', 'mounting', 'mourn', 'mouse', 'mousekins', 'mouth', 'move', 'moved', 'movement', 'movie', 'moving', 'moxie', 'moz', 'mr', 'mrdanbaird', 'mri', 'msg', 'mu', 'muay', 'muaz', 'much', 'muck', 'mucus', 'mud', 'mudder', 'muffling', 'mug', 'mujhe', 'mukerji', 'multiplayer', 'multiple', 'multitasking', 'multitude', 'mum', 'mumbai', 'mummy', 'mun', 'mundane', 'murakami', 'murder', 'murderer', 'murmur', 'murt', 'muscle', 'museum', 'mushy', 'music', 'musical', 'musically', 'musician', 'musing', 'must', 'mustered', 'musty', 'muze', 'mxm', 'mychem', 'myriad', 'mysterious', 'mystery', 'mystical', 'mystique', 'mythical', 'mythology', 'na', 'naega', 'naegen', 'nagging', 'naight', 'nail', 'naivety', 'naked', 'nakedness', 'nal', 'naman', 'name', 'named', 'nameless', 'nanashi', 'nao', 'nap', 'narcissism', 'narrated', 'narrative', 'narrow', 'nasal', 'nasty', 'natasha', 'nation', 'nationality', 'native', 'natural', 'naturally', 'nature', 'naughty', 'nausea', 'nauseated', 'nauseous', 'navigating', 'nay', 'nd', 'ne', 'near', 'nearby', 'nearing', 'nearly', 'necessarily', 'necessary', 'necessity', 'neck', 'necklace', 'need', 'needed', 'needing', 'needle', 'needlessly', 'negative', 'negatively', 'negativity', 'neglect', 'neglected', 'neglecting', 'neighbor', 'neighborhood', 'neighbour', 'neither', 'nellie', 'neol', 'neon', 'neoneun', 'nepali', 'nerdy', 'nerve', 'nervous', 'nervously', 'nervousness', 'nervs', 'ness', 'nesting', 'nesty', 'net', 'netherlands', 'network', 'neurosurgeon', 'neurotic', 'neutral', 'never', 'nevermind', 'nevertheless', 'new', 'newbie', 'newborn', 'newer', 'newest', 'newly', 'news', 'newspaper', 'newton', 'newtown', 'next', 'nfl', 'nic', 'nice', 'nicely', 'nicer', 'nicest', 'nick', 'nickey', 'nicotine', 'niga', 'nigeria', 'niggles', 'niggling', 'night', 'nightlife', 'nightly', 'nightmare', 'nilly', 'nine', 'nipping', 'nobody', 'nod', 'nodded', 'noe', 'noise', 'noisy', 'noleans', 'nominated', 'nominee', 'nomming', 'non', 'nonchalant', 'none', 'nonetheless', 'nonsense', 'nook', 'nooo', 'norah', 'norm', 'normal', 'normalcy', 'normality', 'normally', 'north', 'northwestern', 'nose', 'noseband', 'nostalgic', 'nosy', 'note', 'notebook', 'noted', 'nothing', 'nothingness', 'noticable', 'notice', 'noticed', 'noticing', 'notion', 'notoriety', 'nov', 'novel', 'november', 'novice', 'nowhere', 'nowwwwww', 'nuance', 'nuclear', 'nudist', 'numb', 'number', 'numerous', 'nurse', 'nursed', 'nursery', 'nursing', 'nurture', 'nurturing', 'nutrition', 'nutritional', 'nvm', 'nyc', 'nyps', 'oatmeal', 'obedience', 'obey', 'object', 'obligated', 'obligation', 'oblige', 'obnoxious', 'observation', 'observer', 'observing', 'obsessing', 'obsession', 'obsessive', 'obstacle', 'obvious', 'obviously', 'occasion', 'occasional', 'occasionally', 'occassionally', 'occupy', 'occur', 'occured', 'occurring', 'ocd', 'ocean', 'october', 'odd', 'oddly', 'odds', 'odor', 'offence', 'offend', 'offended', 'offender', 'offending', 'offends', 'offense', 'offensive', 'offer', 'offered', 'offering', 'office', 'officer', 'official', 'offline', 'offspring', 'often', 'oh', 'oil', 'oiler', 'oiut', 'ok', 'okay', 'ol', 'olajideolafunmbi', 'old', 'olden', 'older', 'olivia', 'olivias', 'olympic', 'olympics', 'omangy', 'omitted', 'oncologist', 'oncology', 'one', 'onel', 'online', 'ons', 'onscreen', 'onto', 'oomph', 'oooh', 'op', 'open', 'opened', 'opening', 'openly', 'openness', 'operating', 'operation', 'opinion', 'opinionated', 'opium', 'opponent', 'opportunity', 'opposed', 'opposite', 'opposition', 'oppressed', 'optimism', 'optimist', 'optimistic', 'option', 'orange', 'orchestra', 'order', 'ordered', 'ordering', 'orderly', 'ordinance', 'ordinary', 'oregon', 'organisation', 'organised', 'organization', 'organized', 'organizing', 'orgasm', 'orgasmic', 'origin', 'original', 'originally', 'originated', 'orphan', 'orthodontist', 'oscar', 'others', 'otherwise', 'ou', 'ought', 'outbreak', 'outburst', 'outcome', 'outdoors', 'outer', 'outfit', 'outgoing', 'outing', 'outlet', 'outrage', 'outraged', 'outright', 'outside', 'outta', 'outward', 'outweighs', 'ovation', 'oven', 'overall', 'overcome', 'overcomet', 'overcoming', 'overconfident', 'overdo', 'overeating', 'overeducated', 'overhear', 'overly', 'overpower', 'overrated', 'overreacted', 'overrrrrrrrrrrr', 'overseas', 'overshadowed', 'oversized', 'overt', 'overtly', 'overtone', 'overtook', 'overweight', 'overwhelmed', 'overwhelming', 'overwhelmingly', 'overworked', 'ow', 'owe', 'owen', 'owl', 'oxygen', 'pace', 'paced', 'pacified', 'pacing', 'pack', 'package', 'packaged', 'packed', 'packet', 'packing', 'padding', 'paella', 'pagan', 'page', 'pagetitle', 'paid', 'paige', 'pain', 'painful', 'painless', 'paint', 'painting', 'pair', 'pajama', 'pale', 'palin', 'palm', 'pan', 'panel', 'panic', 'panicked', 'panicky', 'pant', 'panther', 'panty', 'papa', 'paparazzo', 'paper', 'paperwork', 'par', 'paragraph', 'parallel', 'paralysis', 'paranoia', 'paranoid', 'paranoiud', 'paratrooper', 'parcel', 'parent', 'parenting', 'pariah', 'paris', 'park', 'parked', 'parking', 'parmesan', 'parody', 'part', 'partial', 'partially', 'participant', 'participate', 'particular', 'particularly', 'partly', 'partner', 'party', 'pas', 'pass', 'passage', 'passed', 'passenger', 'passer', 'passing', 'passion', 'passionate', 'passionately', 'passport', 'past', 'paste', 'pastor', 'patagonia', 'patent', 'path', 'pathetic', 'pathological', 'patience', 'patient', 'patio', 'patrick', 'patriotic', 'patriotism', 'patronize', 'pattern', 'paul', 'paulie', 'pause', 'paused', 'pavement', 'pavilion', 'pay', 'paying', 'pb', 'pcm', 'pe', 'pea', 'peace', 'peaceful', 'peach', 'peak', 'pearl', 'peckish', 'pedestrian', 'pediatric', 'peer', 'peggy', 'pelvis', 'pen', 'pencil', 'penn', 'penny', 'pensive', 'pent', 'people', 'per', 'perceive', 'perceived', 'perceives', 'perception', 'peregrinos', 'perfect', 'perfectly', 'perform', 'performance', 'performed', 'performing', 'perfume', 'perhaps', 'peril', 'period', 'perishable', 'permalink', 'permanent', 'permanently', 'permeate', 'permeates', 'perpetually', 'persecuted', 'persistent', 'persom', 'person', 'persona', 'personal', 'personality', 'personalized', 'personally', 'personnel', 'perspective', 'persuasively', 'pertaining', 'pesky', 'pester', 'pet', 'peta', 'pete', 'peter', 'petition', 'petrified', 'petronas', 'petty', 'pg', 'pgce', 'phase', 'phenomenon', 'philip', 'philosopher', 'philosophy', 'phoenix', 'phone', 'photo', 'photographed', 'photography', 'phrase', 'physic', 'physical', 'physically', 'pia', 'piano', 'pic', 'pick', 'picked', 'picking', 'pickle', 'picnic', 'picture', 'pictured', 'pie', 'piece', 'pierce', 'pig', 'pigeon', 'pile', 'pileon', 'piling', 'pill', 'pillow', 'pimple', 'pin', 'pinched', 'pinching', 'pine', 'pinging', 'pink', 'pinnacle', 'pinning', 'pinpoint', 'pioneer', 'pious', 'pipe', 'piped', 'pirate', 'piss', 'pissed', 'pit', 'pitied', 'pity', 'pizza', 'placce', 'place', 'placed', 'plagued', 'plain', 'plan', 'plane', 'planet', 'plank', 'planned', 'planning', 'plant', 'plantar', 'planting', 'plastic', 'plate', 'plateau', 'platform', 'platitude', 'play', 'played', 'player', 'playful', 'playing', 'playoff', 'plea', 'pleading', 'pleasant', 'please', 'pleased', 'pleasent', 'pleasing', 'pleasure', 'plenty', 'plight', 'plodded', 'plot', 'plug', 'plugged', 'plunging', 'plus', 'pm', 'poem', 'poet', 'poetry', 'point', 'pointing', 'pointless', 'poisoned', 'poke', 'polar', 'pole', 'police', 'policeman', 'policy', 'polish', 'polite', 'politely', 'political', 'politician', 'politics', 'poll', 'polling', 'pompous', 'ponder', 'poo', 'pool', 'poop', 'poor', 'pop', 'popeye', 'popped', 'popping', 'popular', 'population', 'porcupine', 'porn', 'port', 'portfolio', 'portion', 'portland', 'portray', 'portrayal', 'portrayed', 'pose', 'posed', 'position', 'positioned', 'positive', 'positively', 'possess', 'possession', 'possibility', 'possible', 'possibly', 'post', 'posted', 'posting', 'postponing', 'pot', 'potato', 'potential', 'potentially', 'pothole', 'pouhere', 'pound', 'pounding', 'pour', 'pouting', 'powder', 'power', 'powerful', 'powerless', 'powerlessness', 'pp', 'ppl', 'practical', 'practically', 'practice', 'practiced', 'practicies', 'practise', 'pragmatic', 'praise', 'praising', 'pram', 'prance', 'prank', 'prawn', 'pray', 'prayed', 'prayer', 'praying', 'pre', 'preceptor', 'precious', 'precipice', 'precise', 'precisely', 'precision', 'preclude', 'predatory', 'predict', 'predictable', 'predictably', 'predicted', 'preface', 'prefer', 'preferably', 'pregant', 'pregnancy', 'pregnant', 'prejudice', 'prep', 'preparation', 'prepare', 'prepared', 'preparing', 'preschool', 'prescribed', 'presence', 'present', 'presentation', 'presentational', 'presented', 'presenting', 'preservation', 'president', 'press', 'pressed', 'pressing', 'pressure', 'pressured', 'pressurized', 'prestige', 'presumably', 'presupposition', 'pretend', 'pretended', 'pretending', 'pretentious', 'pretty', 'prettymuch', 'prevent', 'prevention', 'previous', 'previously', 'prey', 'price', 'priced', 'pride', 'priest', 'primary', 'prime', 'primer', 'primetime', 'prince', 'print', 'printer', 'prior', 'priority', 'prisoner', 'prius', 'privacy', 'private', 'privately', 'privileged', 'prize', 'prizecompetition', 'pro', 'probably', 'probing', 'problem', 'procedure', 'process', 'processing', 'procession', 'proclaim', 'proclaims', 'procure', 'produce', 'producer', 'product', 'production', 'productive', 'productivity', 'profession', 'professional', 'professor', 'profile', 'profit', 'profoundly', 'program', 'programme', 'programming', 'progress', 'progressing', 'prohibition', 'project', 'projected', 'projector', 'prolonged', 'prom', 'prominent', 'promise', 'promised', 'prompted', 'prompting', 'prone', 'pronounced', 'proof', 'prop', 'proper', 'properly', 'property', 'proported', 'proposed', 'prospect', 'prostitute', 'protect', 'protected', 'protection', 'protective', 'protectiveness', 'protects', 'protein', 'protest', 'proto', 'proud', 'prove', 'proved', 'proven', 'provide', 'provided', 'provides', 'providing', 'proving', 'provocation', 'provocative', 'prowl', 'prupose', 'psyched', 'psychically', 'psychologically', 'psychologist', 'psychotic', 'ptl', 'ptpt', 'pub', 'public', 'publish', 'published', 'publisher', 'publishing', 'puff', 'pull', 'pulled', 'pulling', 'pulse', 'pulsed', 'pump', 'pumped', 'pumpin', 'pumpkin', 'punch', 'punched', 'punching', 'punctual', 'puncture', 'pundit', 'punished', 'punjabi', 'punk', 'pupil', 'puppy', 'purchase', 'purchased', 'purely', 'purpose', 'purposely', 'pursue', 'pursuing', 'pursuit', 'push', 'pushed', 'pushing', 'pushy', 'put', 'putter', 'putting', 'puzzle', 'puzzled', 'puzzling', 'px', 'qaf', 'quaker', 'quaking', 'qualified', 'qualify', 'quality', 'quarrel', 'quarter', 'queasy', 'queen', 'queer', 'queezy', 'quest', 'question', 'questionable', 'questioned', 'questioning', 'quicker', 'quickly', 'quiet', 'quietly', 'quilting', 'quirky', 'quit', 'quite', 'quitter', 'quiver', 'quivering', 'quixote', 'quo', 'quote', 'ra', 'rabbit', 'race', 'rachel', 'racial', 'racing', 'racism', 'radiant', 'radiation', 'radiator', 'radical', 'radio', 'rage', 'ragged', 'raging', 'raid', 'raiding', 'railway', 'rain', 'rainbow', 'rainy', 'raised', 'raising', 'rally', 'ramadan', 'rammstein', 'rampage', 'rampant', 'ran', 'ranbir', 'random', 'randomly', 'rang', 'range', 'rank', 'rant', 'rap', 'rape', 'raped', 'raphael', 'rapidly', 'rapport', 'rapture', 'rare', 'rarely', 'rash', 'rat', 'rate', 'rather', 'rating', 'ratty', 'raw', 'ray', 'razor', 'rd', 'reach', 'reached', 'reaching', 'reacting', 'reaction', 'reactive', 'read', 'reader', 'reading', 'readjust', 'readmit', 'ready', 'reagan', 'real', 'realise', 'realised', 'realising', 'realistic', 'reality', 'realization', 'realize', 'realized', 'realizing', 'really', 'reared', 'reason', 'reasonably', 'reassured', 'reassures', 'reassuring', 'reaura', 'rebecca', 'rebellious', 'rebuilding', 'recall', 'receive', 'received', 'receiver', 'receiving', 'recent', 'recently', 'reception', 'recess', 'recipe', 'reciprocate', 'recite', 'reckless', 'recless', 'recognised', 'recognition', 'recognize', 'recommend', 'recommendation', 'recommending', 'reconciliation', 'record', 'recording', 'recover', 'recovering', 'recovery', 'recreate', 'recurring', 'red', 'redcoat', 'redden', 'redeem', 'redhead', 'rediculous', 'reduce', 'redundant', 'reeeeeeeeally', 'reel', 'refer', 'refered', 'referee', 'reference', 'referred', 'refers', 'refined', 'reflect', 'reflected', 'reflection', 'refocus', 'reframing', 'refresh', 'refreshed', 'refrigerator', 'refusal', 'refuse', 'refused', 'refusing', 'regain', 'regained', 'regard', 'regarded', 'regarding', 'regardless', 'regimented', 'region', 'registration', 'rego', 'regret', 'regular', 'regularly', 'regulated', 'reign', 'reilly', 'reinforcement', 'reiterate', 'reject', 'rejected', 'rejection', 'rejoice', 'rejuvenated', 'rel', 'relate', 'related', 'relates', 'relating', 'relation', 'relationship', 'relative', 'relatively', 'relax', 'relaxation', 'relaxed', 'relaxing', 'release', 'released', 'relegated', 'relentless', 'relentlessly', 'relevant', 'reliable', 'relief', 'relieve', 'relieved', 'relieving', 'religion', 'religious', 'relish', 'relived', 'relocating', 'reluctance', 'reluctant', 'rely', 'relying', 'remain', 'remained', 'remaining', 'remains', 'remark', 'remarkable', 'remarkably', 'remedy', 'remember', 'remembered', 'remembering', 'remembrance', 'remind', 'reminded', 'reminder', 'reminds', 'remix', 'remodeled', 'remorse', 'remotely', 'remove', 'removing', 'render', 'renewed', 'renovation', 'renowned', 'repaired', 'repairing', 'repairman', 'repay', 'repeat', 'repeated', 'repeatedly', 'repeating', 'repentant', 'repercussion', 'replace', 'replaced', 'replacement', 'replica', 'reply', 'report', 'reported', 'reporting', 'representing', 'repressed', 'reprieve', 'reproductive', 'republic', 'repulsion', 'reputation', 'request', 'require', 'required', 'requirement', 'requires', 'reread', 'rescue', 'research', 'resemblance', 'resent', 'resented', 'resentful', 'resentment', 'reserved', 'reset', 'residence', 'resident', 'resilience', 'resist', 'resistant', 'resisting', 'resolution', 'resolve', 'resolved', 'resonates', 'resort', 'resorted', 'resource', 'respect', 'respected', 'respectful', 'respond', 'responding', 'responds', 'response', 'responsibility', 'responsible', 'rest', 'restaurant', 'rested', 'resting', 'restless', 'restore', 'result', 'resulted', 'resupplied', 'resurrect', 'retail', 'retarded', 'retirement', 'retiring', 'retrofitting', 'retrospect', 'return', 'returned', 'returning', 'reunited', 'revalidation', 'reveal', 'reved', 'revel', 'revelation', 'revenue', 'revered', 'review', 'revise', 'revolve', 'revovles', 'rewarded', 'rewrite', 'rex', 'rhetoric', 'rhythmic', 'rice', 'rich', 'rid', 'ride', 'rider', 'ridiculed', 'ridiculous', 'ridiculously', 'right', 'rightly', 'rigid', 'rihanna', 'riku', 'riled', 'ring', 'ringing', 'ringtone', 'riot', 'rip', 'ripe', 'rise', 'risen', 'rising', 'risk', 'riva', 'rmb', 'ro', 'road', 'roar', 'roast', 'roasting', 'rob', 'robin', 'robot', 'rock', 'rocking', 'rodarte', 'rode', 'role', 'rolex', 'roll', 'roller', 'rolling', 'romance', 'romantic', 'romcoms', 'roof', 'room', 'roommate', 'rooster', 'root', 'rose', 'rotates', 'rotten', 'rotund', 'rouge', 'rough', 'round', 'rounded', 'route', 'routine', 'row', 'ruach', 'rubber', 'rubbish', 'rude', 'rudely', 'rudolph', 'ruffling', 'rufus', 'rugmi', 'ruined', 'rule', 'rumour', 'run', 'runner', 'runneth', 'runnin', 'running', 'rupaul', 'rupee', 'rush', 'rushed', 'rushing', 'ruslan', 'russell', 'russia', 'rustie', 'rustle', 'rustling', 'sabotaging', 'sachaying', 'sacred', 'sacrifice', 'sacrificed', 'sad', 'saddened', 'sadistic', 'sadly', 'sadness', 'safe', 'safely', 'safety', 'sag', 'sage', 'sai', 'said', 'sailormoon', 'saint', 'sake', 'salad', 'sale', 'sally', 'salon', 'salvaging', 'salvation', 'sam', 'sample', 'sampled', 'sanctity', 'sand', 'sandal', 'sandwich', 'sandy', 'sane', 'sangria', 'sanity', 'sans', 'santa', 'sara', 'sarah', 'sarawak', 'sarcasm', 'sarcastic', 'sarcoidosis', 'sarcoma', 'sardonic', 'sassiness', 'sat', 'satisfaction', 'satisfied', 'saturday', 'sauce', 'saudi', 'sauna', 'savage', 'save', 'saved', 'saving', 'saw', 'say', 'saying', 'scabi', 'scafell', 'scale', 'scampering', 'scandalized', 'scar', 'scare', 'scared', 'scarf', 'scary', 'scattered', 'scenario', 'scene', 'scenery', 'scent', 'scented', 'sceptical', 'schadenfreude', 'schedule', 'scheduled', 'scheduler', 'scheme', 'schindlers', 'school', 'schultz', 'science', 'scientist', 'scissor', 'scissors', 'scoffing', 'scoop', 'scope', 'score', 'scotland', 'scott', 'scotty', 'scrapbook', 'scraped', 'scratch', 'scratchy', 'scream', 'screamed', 'screaming', 'screen', 'screw', 'screwed', 'scribble', 'script', 'scroll', 'scrubbing', 'scrunching', 'scrutiny', 'sd', 'sea', 'seafood', 'search', 'searched', 'searching', 'season', 'seat', 'sebastian', 'sec', 'second', 'secondary', 'secret', 'secretary', 'secretly', 'section', 'sectret', 'secure', 'security', 'see', 'seeing', 'seek', 'seeker', 'seeking', 'seem', 'seemad', 'seemed', 'seemingly', 'seems', 'seen', 'seeped', 'seeps', 'segregate', 'segregated', 'seized', 'seizing', 'selamat', 'seldom', 'select', 'selection', 'selective', 'selena', 'self', 'selfish', 'selfishness', 'sell', 'selling', 'semblance', 'semester', 'semi', 'senator', 'send', 'sending', 'sends', 'senior', 'sens', 'sensation', 'sensational', 'sense', 'sensibility', 'sensible', 'sensibly', 'sensing', 'sensitive', 'sent', 'sentence', 'sentimental', 'sentinel', 'seoul', 'separate', 'separated', 'separately', 'separating', 'separation', 'september', 'sequel', 'serendipity', 'serenity', 'serf', 'series', 'serif', 'serina', 'seriouly', 'serious', 'seriously', 'seriousness', 'seroquel', 'serve', 'served', 'service', 'serving', 'session', 'set', 'seth', 'settle', 'settled', 'settling', 'setup', 'seven', 'several', 'severely', 'sew', 'sewing', 'sex', 'sexaholic', 'sexual', 'sexually', 'sexy', 'shackle', 'shade', 'shadow', 'shafted', 'shake', 'shaken', 'shaking', 'shaky', 'shall', 'shallow', 'shalt', 'shame', 'shamefully', 'shaming', 'shannon', 'shape', 'shaping', 'share', 'shared', 'sharia', 'sharing', 'sharknado', 'sharp', 'sharpe', 'sharper', 'shattered', 'shaun', 'shaving', 'shed', 'sheer', 'shell', 'shelter', 'sheltered', 'shenanigan', 'sheri', 'sheriff', 'shes', 'shield', 'shielding', 'shift', 'shifting', 'shiftless', 'shine', 'shining', 'shiny', 'shire', 'shirt', 'shit', 'shitty', 'shiver', 'shivering', 'shizz', 'shock', 'shocked', 'shockingly', 'shoe', 'shoelace', 'shoeless', 'shook', 'shoot', 'shooter', 'shooting', 'shop', 'shoplifting', 'shopping', 'shore', 'short', 'shortcoming', 'shortening', 'shortlist', 'shortlisted', 'shortly', 'shortness', 'shortsighted', 'shot', 'shoudlnt', 'shoulder', 'shoulding', 'shouldnt', 'shouldve', 'shout', 'shouted', 'shove', 'shoveling', 'show', 'showed', 'shower', 'showing', 'shown', 'shunned', 'shushing', 'shut', 'shutting', 'shy', 'shyness', 'si', 'sibling', 'sick', 'sickened', 'sickening', 'side', 'sidewalk', 'siesta', 'sifted', 'sigani', 'sigh', 'sighed', 'sight', 'sigil', 'sign', 'signed', 'significant', 'significantly', 'signifies', 'signing', 'silence', 'silent', 'silently', 'silly', 'silver', 'similar', 'similarity', 'similarly', 'simple', 'simplicity', 'simply', 'simpson', 'simultaneously', 'sin', 'since', 'sincere', 'sincerity', 'sing', 'singapore', 'singed', 'singer', 'singing', 'single', 'singled', 'singular', 'sink', 'sinking', 'sinus', 'sip', 'sipping', 'sir', 'sister', 'sit', 'sitcom', 'site', 'sith', 'sits', 'sitter', 'sitting', 'situation', 'siwons', 'six', 'sixty', 'size', 'skeptical', 'sketch', 'ski', 'skill', 'skilled', 'skin', 'skincare', 'skinny', 'skip', 'skipping', 'skirt', 'sky', 'slacking', 'slam', 'slander', 'slap', 'slapped', 'slapping', 'slate', 'slave', 'sleep', 'sleeping', 'sleepy', 'sleeve', 'slept', 'slice', 'slide', 'sliding', 'slight', 'slighted', 'slightest', 'slightly', 'slink', 'slip', 'slipped', 'slipper', 'sloan', 'slobby', 'slope', 'sloppy', 'sloth', 'slough', 'slow', 'slowing', 'slowly', 'slugged', 'slumber', 'slur', 'slut', 'smack', 'small', 'smaller', 'smallest', 'smart', 'smarter', 'smash', 'smell', 'smelling', 'smelly', 'smile', 'smiled', 'smiley', 'smiling', 'smith', 'smoke', 'smoker', 'smoking', 'smooch', 'smooth', 'smoothie', 'smoothing', 'smoothly', 'smothered', 'smug', 'snack', 'snacking', 'snail', 'snake', 'snap', 'snapback', 'snapbacks', 'snapping', 'snappy', 'snatched', 'sneakily', 'sneha', 'sniff', 'sniffle', 'sniiiiifff', 'sniping', 'snippet', 'snippy', 'snob', 'snobbish', 'snooped', 'snooty', 'snooze', 'snotface', 'snow', 'snowboarding', 'snowglobe', 'snowy', 'snuggle', 'soak', 'soaked', 'soapbox', 'sob', 'sobbed', 'sobbing', 'sober', 'sobered', 'soccer', 'sociable', 'social', 'socialise', 'socialize', 'socially', 'society', 'sock', 'socket', 'soda', 'sodden', 'sodding', 'sofa', 'soft', 'softball', 'softer', 'software', 'sol', 'sold', 'soldier', 'solely', 'solemn', 'soley', 'solid', 'solidarity', 'solitude', 'solo', 'solution', 'solve', 'solved', 'solves', 'sombre', 'somebody', 'somehow', 'someobdy', 'someone', 'someplace', 'somethign', 'something', 'somethings', 'sometime', 'sometimes', 'someway', 'somewhat', 'somewhere', 'son', 'song', 'songy', 'sonia', 'sonnet', 'sony', 'soo', 'soon', 'sooner', 'sooo', 'soooo', 'sooooooooooo', 'soothe', 'sophomore', 'sor', 'sore', 'sorrow', 'sorry', 'sort', 'sorta', 'soul', 'soulation', 'soulmate', 'sound', 'soundscapes', 'soup', 'sour', 'source', 'south', 'southern', 'sox', 'spa', 'space', 'spacious', 'spacy', 'span', 'spanish', 'spare', 'spark', 'sparkle', 'sparkleapple', 'spat', 'spazzing', 'speak', 'speaker', 'speaking', 'speaks', 'special', 'specially', 'specific', 'specifically', 'specimen', 'spectacle', 'speech', 'speed', 'speedy', 'spelling', 'spencer', 'spend', 'spending', 'spent', 'spew', 'spice', 'spider', 'spilled', 'spin', 'spinach', 'spine', 'spinning', 'spirit', 'spiritual', 'spiritually', 'spitball', 'spite', 'spiteful', 'spitting', 'splash', 'splendid', 'splendor', 'split', 'splurge', 'spluttering', 'spock', 'spoil', 'spoiled', 'spoiler', 'spoke', 'spoken', 'sponsor', 'spontaneous', 'spook', 'spore', 'sport', 'spot', 'spotless', 'spotlighted', 'spouse', 'spouting', 'spray', 'spread', 'spreading', 'spreadsheet', 'spring', 'springer', 'sprinkling', 'spritz', 'spur', 'spurned', 'spurring', 'spy', 'spying', 'squad', 'square', 'squat', 'squeak', 'squeal', 'squeeze', 'squelching', 'squirt', 'squishing', 'src', 'ssr', 'st', 'stab', 'stable', 'stack', 'stadium', 'staff', 'stage', 'staggering', 'stagnate', 'stair', 'staked', 'stalker', 'stance', 'stand', 'standard', 'standby', 'standing', 'star', 'stare', 'stared', 'staring', 'start', 'started', 'starter', 'starting', 'startled', 'startling', 'starve', 'starving', 'stash', 'stasia', 'state', 'stated', 'statement', 'stating', 'station', 'stationary', 'statistic', 'stats', 'status', 'stay', 'stayed', 'staying', 'steady', 'steal', 'steam', 'steamy', 'steep', 'stellar', 'stem', 'stench', 'step', 'stepped', 'stepping', 'stereotype', 'steroid', 'stic', 'stick', 'sticker', 'sticking', 'stiff', 'still', 'stiller', 'stillness', 'stimulating', 'sting', 'stink', 'stinking', 'stinky', 'stir', 'stirred', 'stitch', 'stitching', 'stock', 'stole', 'stolen', 'stomach', 'stone', 'stoned', 'stood', 'stop', 'stopped', 'stopping', 'store', 'stored', 'storm', 'stormed', 'storming', 'story', 'straight', 'strain', 'strait', 'strand', 'stranded', 'strange', 'strangely', 'stranger', 'strapping', 'strategy', 'strawberry', 'streaked', 'stream', 'street', 'strength', 'strengthening', 'stress', 'stressed', 'stressful', 'stretch', 'strewn', 'strike', 'striking', 'string', 'stripped', 'stripping', 'strive', 'stroke', 'strolling', 'strong', 'stronger', 'strongest', 'strongly', 'strop', 'stropped', 'structure', 'struff', 'struggle', 'struggled', 'struggling', 'stubborn', 'stubbornly', 'stuck', 'stud', 'student', 'studied', 'studio', 'study', 'studying', 'stuff', 'stuffed', 'stumped', 'stunned', 'stunningly', 'stupid', 'stupidity', 'stupidly', 'stupor', 'sturdy', 'style', 'stylesheet', 'stymied', 'su', 'subconscious', 'subconsciously', 'subcontinent', 'subdued', 'subject', 'subjective', 'sublime', 'submarine', 'submerged', 'subsequently', 'substance', 'substitute', 'subtle', 'subtly', 'suburban', 'subway', 'succeed', 'succeeded', 'success', 'successful', 'successfully', 'succumb', 'sucessfully', 'suck', 'sucked', 'sucker', 'sucking', 'sucky', 'sudden', 'suddenly', 'sue', 'suede', 'suffer', 'suffered', 'suffering', 'sufficient', 'suffocated', 'sugar', 'sugary', 'suggested', 'suggestion', 'suicidal', 'suit', 'suitably', 'suitcase', 'sulk', 'sum', 'suman', 'summed', 'summer', 'summery', 'sumthg', 'sun', 'sundae', 'sunday', 'sunlight', 'sunny', 'sunshine', 'suominen', 'super', 'superficial', 'superior', 'superman', 'supermarket', 'superstition', 'superstorm', 'supervising', 'supplied', 'supply', 'support', 'supported', 'supporter', 'supporting', 'supportive', 'suppose', 'supposed', 'supposedly', 'suppress', 'supremely', 'sure', 'surely', 'surface', 'surfacing', 'surge', 'surged', 'surgery', 'surmise', 'surprise', 'surprised', 'surprising', 'surprisingly', 'surrender', 'surround', 'surrounded', 'surrounding', 'surroundings', 'survey', 'survive', 'survived', 'survivor', 'suspect', 'suspected', 'suspense', 'suspicion', 'suspicious', 'sustainability', 'sustained', 'swallow', 'swamp', 'swarming', 'swear', 'sweat', 'sweater', 'sweating', 'sweatshirt', 'sweden', 'sweet', 'sweetener', 'sweetly', 'sweetness', 'swell', 'swelling', 'swept', 'swift', 'swim', 'swimming', 'swinelord', 'swing', 'swirl', 'switch', 'switched', 'sword', 'swore', 'swung', 'sxe', 'symbol', 'sympathic', 'sympathize', 'sympathizing', 'sympathy', 'symptom', 'syndrome', 'synthetic', 'system', 'systematically', 'ta', 'tab', 'tabby', 'table', 'tackle', 'tackling', 'taco', 'tactic', 'tad', 'taewuhbeoryeo', 'tag', 'tail', 'taiwan', 'tak', 'take', 'takeing', 'taken', 'takeover', 'taker', 'taking', 'tale', 'talent', 'talented', 'talk', 'talkative', 'talked', 'talking', 'tall', 'tampa', 'tangent', 'tangible', 'tango', 'tank', 'tantrum', 'tape', 'tapped', 'target', 'targeted', 'tartlet', 'tarun', 'task', 'tasked', 'taste', 'tasteful', 'tastic', 'tasting', 'tasty', 'tat', 'tatter', 'tattoo', 'taught', 'taunted', 'tax', 'taylor', 'tbh', 'tch', 'te', 'tea', 'teach', 'teacher', 'teaching', 'team', 'tear', 'tease', 'teasing', 'tech', 'technically', 'technique', 'techno', 'ted', 'teddy', 'tee', 'teen', 'teenage', 'teenager', 'teeny', 'teeter', 'teeth', 'telephone', 'telethon', 'tell', 'telling', 'temp', 'temper', 'temperature', 'tempered', 'template', 'temple', 'temporarily', 'temptation', 'tempted', 'tempting', 'tempura', 'ten', 'tend', 'tended', 'tendency', 'tender', 'tenderly', 'tends', 'tenge', 'tennis', 'tense', 'tension', 'tent', 'tenure', 'term', 'terminal', 'terminando', 'terpene', 'terrible', 'terribly', 'terrific', 'terrified', 'terrifying', 'territory', 'terror', 'terrorised', 'terry', 'test', 'testing', 'tether', 'text', 'texture', 'th', 'thai', 'thank', 'thanked', 'thankful', 'thankfully', 'thankfulness', 'thanking', 'thanks', 'thanksgiving', 'thatrupert', 'thats', 'thearchitecturality', 'theme', 'themed', 'theofilou', 'theory', 'ther', 'therapist', 'therapy', 'there', 'thereby', 'therefore', 'thereof', 'thesis', 'theyd', 'theyll', 'theyre', 'theyve', 'thick', 'thief', 'thigh', 'thin', 'thing', 'think', 'thinking', 'third', 'thirty', 'thk', 'thn', 'thomas', 'thorough', 'thoroughly', 'thou', 'though', 'thought', 'thousand', 'threaten', 'threatened', 'three', 'threw', 'thrill', 'thrilled', 'thrive', 'throat', 'throbbing', 'throne', 'throng', 'throughout', 'throw', 'throwing', 'thrown', 'thru', 'thug', 'thumb', 'thursday', 'thus', 'thwarted', 'thyroid', 'ti', 'tibris', 'tick', 'ticket', 'tickle', 'tide', 'tied', 'tiffany', 'tiger', 'tight', 'tighter', 'tightly', 'til', 'till', 'time', 'timeline', 'timer', 'timetable', 'timid', 'timing', 'tinge', 'tingle', 'tiny', 'tip', 'tipping', 'tirade', 'tire', 'tired', 'tiredness', 'tiring', 'tissue', 'titanium', 'tith', 'title', 'titled', 'tizzy', 'tl', 'tmr', 'toast', 'toby', 'tod', 'today', 'todd', 'toddler', 'toe', 'togehter', 'together', 'toilet', 'told', 'tolerate', 'tolerated', 'toll', 'tome', 'tomfoolery', 'tomorrow', 'ton', 'tone', 'toner', 'tongue', 'tonguey', 'tonight', 'tonite', 'took', 'tool', 'top', 'topic', 'topping', 'torn', 'tornado', 'toronto', 'torso', 'torture', 'tortured', 'toshibalol', 'tossing', 'total', 'totality', 'totally', 'totering', 'tou', 'touch', 'touched', 'touching', 'touchy', 'tough', 'toughest', 'tour', 'tourist', 'tournament', 'toward', 'towards', 'town', 'toxin', 'toy', 'track', 'tracking', 'traction', 'tracy', 'trad', 'trader', 'tradition', 'traditional', 'traffic', 'tragedy', 'tragic', 'trail', 'trailer', 'train', 'trainable', 'trainer', 'training', 'traitor', 'trajectory', 'trample', 'tranny', 'tranquil', 'trans', 'transcend', 'transcendent', 'transcribe', 'transferred', 'transformed', 'transition', 'translate', 'translatethis', 'transpired', 'transport', 'transportation', 'trap', 'trapping', 'trash', 'trauma', 'traumatic', 'travel', 'traveling', 'treader', 'treading', 'treadmill', 'treassured', 'treasure', 'treat', 'treated', 'treatment', 'trebuchet', 'tree', 'trembly', 'tremendously', 'tremor', 'trend', 'trendy', 'trepidatious', 'trial', 'tribal', 'tribute', 'trick', 'tried', 'trigger', 'triggered', 'triggering', 'trillion', 'trimmed', 'trimming', 'trinket', 'trip', 'triple', 'triumph', 'triumphant', 'trivial', 'trolley', 'trope', 'trophy', 'trouble', 'troubled', 'trudging', 'true', 'truely', 'truffle', 'truly', 'trumpeter', 'trust', 'trusted', 'trusting', 'trustworthy', 'trusty', 'truth', 'truthful', 'try', 'trying', 'tsa', 'ttaekkaji', 'ttawin', 'tub', 'tube', 'tuck', 'tucson', 'tuesday', 'tug', 'tugging', 'tummy', 'tune', 'tunji', 'tunnel', 'turbillion', 'turbulently', 'turkey', 'turmoil', 'turn', 'turned', 'turning', 'turnout', 'turnover', 'tutorial', 'tv', 'twelve', 'twenty', 'twice', 'twin', 'twinge', 'twist', 'twisted', 'twitch', 'twitchy', 'twitter', 'two', 'tx', 'ty', 'type', 'typical', 'typically', 'typing', 'tyre', 'uber', 'ubuntu', 'uglier', 'ugliness', 'ugly', 'uh', 'uk', 'ulbujitneun', 'ultimate', 'ultimately', 'um', 'umbrella', 'un', 'unable', 'unafraid', 'unappreciated', 'unattainable', 'unavoidably', 'unaware', 'uncaring', 'uncertain', 'uncertainty', 'uncle', 'unclear', 'uncoiling', 'uncomfortable', 'uncommon', 'unconscious', 'unconsciously', 'uncontrollably', 'unconvinced', 'underage', 'underbelly', 'underground', 'underneath', 'underpaid', 'underrated', 'understand', 'understanding', 'understands', 'understood', 'undertaking', 'underway', 'underwear', 'underwhelmed', 'undeservedly', 'undo', 'undone', 'undoubtedly', 'undue', 'unease', 'uneasy', 'unedited', 'uneffected', 'unemotional', 'uneventful', 'unexpected', 'unfair', 'unfairly', 'unfairness', 'unfaithful', 'unfashionable', 'unfeeling', 'unfinished', 'unfit', 'unfocused', 'unfold', 'unfortunately', 'unfulfilled', 'unfurling', 'ungrateful', 'unhappiness', 'unhappy', 'unhealthy', 'uni', 'unibrow', 'uniform', 'unilaterally', 'unimaginable', 'uninformed', 'uninhabited', 'unintended', 'unintentionally', 'union', 'unique', 'uniqueness', 'unit', 'unity', 'universal', 'universe', 'university', 'unjust', 'unkind', 'unkindness', 'unknown', 'unleashed', 'unless', 'unlike', 'unloved', 'unlucky', 'unmentioned', 'unmotivated', 'unnaturally', 'unnecessary', 'unnoticeable', 'unprepared', 'unpressed', 'unprotected', 'unrealistic', 'unreasonable', 'unreasonably', 'unreliable', 'unrest', 'unsafe', 'unsatisfied', 'unseen', 'unsettled', 'unsettling', 'unsheathe', 'unsolved', 'unspeakable', 'unspoilt', 'unsung', 'unsupervised', 'unsure', 'unsuspecting', 'untouched', 'untrieds', 'unusual', 'unusually', 'unwanted', 'unwarranted', 'unwelcome', 'unwell', 'unworthiness', 'unworthy', 'unza', 'upbeat', 'upcoming', 'update', 'uplifted', 'uplifter', 'uplifting', 'upload', 'uploaded', 'upon', 'upper', 'uppity', 'ups', 'upset', 'upsetting', 'upside', 'upstairs', 'uptight', 'urge', 'urgency', 'urgent', 'urgh', 'us', 'usa', 'usage', 'use', 'used', 'useful', 'useless', 'user', 'ushering', 'using', 'usmleasy', 'usual', 'usually', 'utah', 'ute', 'utf', 'utopian', 'utter', 'uttering', 'utterly', 'uuuugh', 'uw', 'vacation', 'vagina', 'vaguely', 'vain', 'valentine', 'valentino', 'valid', 'validity', 'valuable', 'value', 'valued', 'vanquished', 'vapor', 'variant', 'various', 'varnish', 'vast', 'vaughn', 'vault', 'vbac', 'veer', 'veering', 'vegan', 'vegetarian', 'vegitarianism', 'vehicle', 'veil', 'vein', 'venerable', 'venerate', 'vent', 'vented', 'venture', 'venue', 'vera', 'verbally', 'verdict', 'verge', 'verona', 'verse', 'version', 'versus', 'vertigo', 'vexed', 'vey', 'vibe', 'vibrant', 'vibration', 'vicarious', 'vice', 'vicious', 'victim', 'victorious', 'victory', 'video', 'videotape', 'vienna', 'view', 'viewed', 'viewer', 'viewpoint', 'vigilant', 'vigorous', 'vile', 'village', 'villian', 'vindictive', 'vine', 'vinegar', 'vinegary', 'viniagrette', 'vintage', 'violence', 'violent', 'violently', 'vip', 'virgin', 'virginia', 'virtual', 'virtuous', 'virus', 'visable', 'visible', 'visibly', 'vision', 'visit', 'visited', 'visiting', 'visitor', 'vista', 'visual', 'vital', 'vitamin', 'vividly', 'vj', 'vlog', 'vocab', 'vocal', 'voice', 'vol', 'volume', 'vomit', 'vomited', 'vomiting', 'vomity', 'von', 'vote', 'vow', 'vowed', 'voyeur', 'vulnerability', 'vulnerable', 'vunerable', 'wading', 'wainwright', 'wait', 'waited', 'waiting', 'waitrose', 'wake', 'waking', 'wal', 'waldo', 'walia', 'walk', 'walked', 'walking', 'wall', 'wallet', 'wallowing', 'wally', 'walt', 'wan', 'wander', 'wandering', 'wanders', 'waning', 'want', 'wanted', 'wanting', 'war', 'ward', 'wardrobe', 'wardrode', 'warehouse', 'warm', 'warmed', 'warmer', 'warming', 'warmly', 'warms', 'warmth', 'warner', 'warning', 'warp', 'warrick', 'warrior', 'wary', 'wash', 'washing', 'washington', 'wasnt', 'waste', 'wasted', 'wasting', 'wat', 'watch', 'watched', 'watcher', 'watching', 'water', 'waterside', 'wave', 'wax', 'waxed', 'waxing', 'way', 'wd', 'weak', 'weaker', 'weakest', 'weakness', 'wealth', 'weapon', 'wear', 'weariness', 'wearing', 'weather', 'weatherman', 'weave', 'web', 'webkit', 'webpage', 'website', 'wed', 'wedding', 'wednesday', 'wee', 'week', 'weekend', 'weekly', 'weeny', 'weep', 'weigh', 'weighed', 'weighing', 'weight', 'weighting', 'weightless', 'weinstein', 'weird', 'welcome', 'welcomed', 'welcoming', 'welfare', 'well', 'welling', 'went', 'werent', 'werner', 'west', 'westerner', 'wet', 'weve', 'wh', 'whack', 'whale', 'whatever', 'whats', 'wheat', 'wheeeeee', 'wheel', 'whelming', 'whenever', 'whereas', 'wherein', 'wherever', 'wherewithal', 'whether', 'whiff', 'whilst', 'whine', 'whined', 'whingeing', 'whining', 'whiny', 'whip', 'whipped', 'whir', 'whirlwind', 'whiskey', 'whisper', 'whispered', 'whistle', 'white', 'whitleys', 'who', 'whod', 'whoever', 'whole', 'wholeheartedly', 'wholeness', 'wholesale', 'wholly', 'whooooo', 'whooooooooos', 'whooooos', 'whoop', 'whoosh', 'whore', 'whose', 'wickdly', 'wicked', 'wide', 'width', 'wieght', 'wife', 'wig', 'wiheomhae', 'wihtout', 'wild', 'wilder', 'will', 'willed', 'williams', 'willing', 'willingness', 'willy', 'wimbledon', 'wimp', 'wimpy', 'win', 'wind', 'windmill', 'window', 'windy', 'wine', 'wing', 'wink', 'winner', 'winston', 'winter', 'winterpaysforsummer', 'winterson', 'wintry', 'wip', 'wipe', 'wiped', 'wired', 'wisconsin', 'wisdom', 'wise', 'wisely', 'wiser', 'wish', 'wished', 'wishful', 'wishing', 'wising', 'witch', 'withdraw', 'withdrawal', 'withdrawing', 'withdrawn', 'within', 'without', 'witness', 'witty', 'wo', 'wobbly', 'wod', 'woke', 'woken', 'woman', 'womanhood', 'wonder', 'wondered', 'wonderful', 'wonderfull', 'wondering', 'wondrous', 'wont', 'wood', 'wooden', 'woodland', 'woooo', 'woop', 'word', 'wore', 'work', 'worked', 'worker', 'working', 'workload', 'workout', 'workplace', 'world', 'worldly', 'worn', 'worried', 'worry', 'worrying', 'worse', 'worship', 'worshiping', 'worst', 'worth', 'worthless', 'worthwhile', 'worthy', 'would', 'wouldnt', 'wouldve', 'wound', 'wounded', 'wounding', 'wp', 'wrap', 'wrapped', 'wrapping', 'wrestle', 'wrinkle', 'wrist', 'wristwatch', 'write', 'writer', 'writes', 'writing', 'written', 'wrong', 'wronged', 'wrongly', 'wrote', 'wrung', 'wryly', 'wtf', 'wu', 'ww', 'www', 'xanax', 'xango', 'xbla', 'xd', 'xdd', 'xela', 'xia', 'xmas', 'xml', 'xox', 'xvi', 'xxx', 'ya', 'yall', 'yank', 'yanked', 'yard', 'yarn', 'yay', 'yeah', 'year', 'yearn', 'yearning', 'yearns', 'years', 'yeast', 'yell', 'yelled', 'yelling', 'yelping', 'yes', 'yesterday', 'yet', 'yhhhay', 'yiling', 'yippee', 'yixuan', 'yknow', 'yo', 'yoga', 'york', 'youd', 'youll', 'young', 'younger', 'youngster', 'youre', 'youth', 'youthful', 'youtube', 'youve', 'yu', 'yunhos', 'yup', 'yuuki', 'zack', 'zambia', 'zara', 'zay', 'zealand', 'zen', 'zendikar', 'zero', 'zest', 'zhu', 'zipline', 'zombie', 'zone', 'zonisamide', 'zq', 'zumba']\n"
     ]
    }
   ],
   "source": [
    "bow_vocabulary = vectorizer.get_feature_names_out()\n",
    "print(bow_vocabulary.tolist())"
   ]
  },
  {
   "cell_type": "markdown",
   "id": "12e6f5da-9bb1-4ad2-8d4b-07da933afd2c",
   "metadata": {},
   "source": [
    "# 3. Model Development"
   ]
  },
  {
   "cell_type": "markdown",
   "id": "743e1328-5892-4503-aa5b-3bfcafdfcd00",
   "metadata": {},
   "source": [
    "## Train Test Split"
   ]
  },
  {
   "cell_type": "code",
   "execution_count": 32,
   "id": "a7244daf-6fad-494e-bf24-3e8833d1fdc6",
   "metadata": {},
   "outputs": [],
   "source": [
    "from sklearn.model_selection import train_test_split\n",
    "from sklearn.naive_bayes import MultinomialNB\n",
    "from sklearn.svm import SVC\n",
    "from sklearn.metrics import accuracy_score, classification_report, f1_score"
   ]
  },
  {
   "cell_type": "code",
   "execution_count": 34,
   "id": "d90853ef-46df-4316-b200-0ac0a1837acc",
   "metadata": {},
   "outputs": [],
   "source": [
    "# Fit and transform the cleaned comments into numerical features\n",
    "X = vectorizer.fit_transform(data['Processed_Comment'])\n",
    "y = data['Emotion']"
   ]
  },
  {
   "cell_type": "code",
   "execution_count": 35,
   "id": "e635a851-193a-4aea-aa38-001f53f41e4a",
   "metadata": {},
   "outputs": [],
   "source": [
    "# Split the dataset into training and testing sets (80% training, 20% testing)\n",
    "X_train, X_test, y_train, y_test = train_test_split(X, y, test_size=0.2, random_state=42)"
   ]
  },
  {
   "cell_type": "markdown",
   "id": "946ca02f-2d1d-41a4-a3c9-7d51d77d62d0",
   "metadata": {},
   "source": [
    "## A) Naive Bayes\n",
    "\n",
    "+ Naive Bayes is a probabilistic classifier based on Baye's theorem. It assumes that features are independent of each other, which is often not true in real-world scenarios, but the model can still perform well in practice. For text classification, it calculates the probability of each class (emotion) given Bag of Words (BoW) method (CountVectorizer method ) vectors for input features (tokens), and select the emotion class with the highest posterior probability as the predicted class."
   ]
  },
  {
   "cell_type": "code",
   "execution_count": 36,
   "id": "ea749685-f2ee-4af4-9988-8eda3e0ce4db",
   "metadata": {},
   "outputs": [
    {
     "data": {
      "text/html": [
       "<style>#sk-container-id-1 {\n",
       "  /* Definition of color scheme common for light and dark mode */\n",
       "  --sklearn-color-text: black;\n",
       "  --sklearn-color-line: gray;\n",
       "  /* Definition of color scheme for unfitted estimators */\n",
       "  --sklearn-color-unfitted-level-0: #fff5e6;\n",
       "  --sklearn-color-unfitted-level-1: #f6e4d2;\n",
       "  --sklearn-color-unfitted-level-2: #ffe0b3;\n",
       "  --sklearn-color-unfitted-level-3: chocolate;\n",
       "  /* Definition of color scheme for fitted estimators */\n",
       "  --sklearn-color-fitted-level-0: #f0f8ff;\n",
       "  --sklearn-color-fitted-level-1: #d4ebff;\n",
       "  --sklearn-color-fitted-level-2: #b3dbfd;\n",
       "  --sklearn-color-fitted-level-3: cornflowerblue;\n",
       "\n",
       "  /* Specific color for light theme */\n",
       "  --sklearn-color-text-on-default-background: var(--sg-text-color, var(--theme-code-foreground, var(--jp-content-font-color1, black)));\n",
       "  --sklearn-color-background: var(--sg-background-color, var(--theme-background, var(--jp-layout-color0, white)));\n",
       "  --sklearn-color-border-box: var(--sg-text-color, var(--theme-code-foreground, var(--jp-content-font-color1, black)));\n",
       "  --sklearn-color-icon: #696969;\n",
       "\n",
       "  @media (prefers-color-scheme: dark) {\n",
       "    /* Redefinition of color scheme for dark theme */\n",
       "    --sklearn-color-text-on-default-background: var(--sg-text-color, var(--theme-code-foreground, var(--jp-content-font-color1, white)));\n",
       "    --sklearn-color-background: var(--sg-background-color, var(--theme-background, var(--jp-layout-color0, #111)));\n",
       "    --sklearn-color-border-box: var(--sg-text-color, var(--theme-code-foreground, var(--jp-content-font-color1, white)));\n",
       "    --sklearn-color-icon: #878787;\n",
       "  }\n",
       "}\n",
       "\n",
       "#sk-container-id-1 {\n",
       "  color: var(--sklearn-color-text);\n",
       "}\n",
       "\n",
       "#sk-container-id-1 pre {\n",
       "  padding: 0;\n",
       "}\n",
       "\n",
       "#sk-container-id-1 input.sk-hidden--visually {\n",
       "  border: 0;\n",
       "  clip: rect(1px 1px 1px 1px);\n",
       "  clip: rect(1px, 1px, 1px, 1px);\n",
       "  height: 1px;\n",
       "  margin: -1px;\n",
       "  overflow: hidden;\n",
       "  padding: 0;\n",
       "  position: absolute;\n",
       "  width: 1px;\n",
       "}\n",
       "\n",
       "#sk-container-id-1 div.sk-dashed-wrapped {\n",
       "  border: 1px dashed var(--sklearn-color-line);\n",
       "  margin: 0 0.4em 0.5em 0.4em;\n",
       "  box-sizing: border-box;\n",
       "  padding-bottom: 0.4em;\n",
       "  background-color: var(--sklearn-color-background);\n",
       "}\n",
       "\n",
       "#sk-container-id-1 div.sk-container {\n",
       "  /* jupyter's `normalize.less` sets `[hidden] { display: none; }`\n",
       "     but bootstrap.min.css set `[hidden] { display: none !important; }`\n",
       "     so we also need the `!important` here to be able to override the\n",
       "     default hidden behavior on the sphinx rendered scikit-learn.org.\n",
       "     See: https://github.com/scikit-learn/scikit-learn/issues/21755 */\n",
       "  display: inline-block !important;\n",
       "  position: relative;\n",
       "}\n",
       "\n",
       "#sk-container-id-1 div.sk-text-repr-fallback {\n",
       "  display: none;\n",
       "}\n",
       "\n",
       "div.sk-parallel-item,\n",
       "div.sk-serial,\n",
       "div.sk-item {\n",
       "  /* draw centered vertical line to link estimators */\n",
       "  background-image: linear-gradient(var(--sklearn-color-text-on-default-background), var(--sklearn-color-text-on-default-background));\n",
       "  background-size: 2px 100%;\n",
       "  background-repeat: no-repeat;\n",
       "  background-position: center center;\n",
       "}\n",
       "\n",
       "/* Parallel-specific style estimator block */\n",
       "\n",
       "#sk-container-id-1 div.sk-parallel-item::after {\n",
       "  content: \"\";\n",
       "  width: 100%;\n",
       "  border-bottom: 2px solid var(--sklearn-color-text-on-default-background);\n",
       "  flex-grow: 1;\n",
       "}\n",
       "\n",
       "#sk-container-id-1 div.sk-parallel {\n",
       "  display: flex;\n",
       "  align-items: stretch;\n",
       "  justify-content: center;\n",
       "  background-color: var(--sklearn-color-background);\n",
       "  position: relative;\n",
       "}\n",
       "\n",
       "#sk-container-id-1 div.sk-parallel-item {\n",
       "  display: flex;\n",
       "  flex-direction: column;\n",
       "}\n",
       "\n",
       "#sk-container-id-1 div.sk-parallel-item:first-child::after {\n",
       "  align-self: flex-end;\n",
       "  width: 50%;\n",
       "}\n",
       "\n",
       "#sk-container-id-1 div.sk-parallel-item:last-child::after {\n",
       "  align-self: flex-start;\n",
       "  width: 50%;\n",
       "}\n",
       "\n",
       "#sk-container-id-1 div.sk-parallel-item:only-child::after {\n",
       "  width: 0;\n",
       "}\n",
       "\n",
       "/* Serial-specific style estimator block */\n",
       "\n",
       "#sk-container-id-1 div.sk-serial {\n",
       "  display: flex;\n",
       "  flex-direction: column;\n",
       "  align-items: center;\n",
       "  background-color: var(--sklearn-color-background);\n",
       "  padding-right: 1em;\n",
       "  padding-left: 1em;\n",
       "}\n",
       "\n",
       "\n",
       "/* Toggleable style: style used for estimator/Pipeline/ColumnTransformer box that is\n",
       "clickable and can be expanded/collapsed.\n",
       "- Pipeline and ColumnTransformer use this feature and define the default style\n",
       "- Estimators will overwrite some part of the style using the `sk-estimator` class\n",
       "*/\n",
       "\n",
       "/* Pipeline and ColumnTransformer style (default) */\n",
       "\n",
       "#sk-container-id-1 div.sk-toggleable {\n",
       "  /* Default theme specific background. It is overwritten whether we have a\n",
       "  specific estimator or a Pipeline/ColumnTransformer */\n",
       "  background-color: var(--sklearn-color-background);\n",
       "}\n",
       "\n",
       "/* Toggleable label */\n",
       "#sk-container-id-1 label.sk-toggleable__label {\n",
       "  cursor: pointer;\n",
       "  display: block;\n",
       "  width: 100%;\n",
       "  margin-bottom: 0;\n",
       "  padding: 0.5em;\n",
       "  box-sizing: border-box;\n",
       "  text-align: center;\n",
       "}\n",
       "\n",
       "#sk-container-id-1 label.sk-toggleable__label-arrow:before {\n",
       "  /* Arrow on the left of the label */\n",
       "  content: \"▸\";\n",
       "  float: left;\n",
       "  margin-right: 0.25em;\n",
       "  color: var(--sklearn-color-icon);\n",
       "}\n",
       "\n",
       "#sk-container-id-1 label.sk-toggleable__label-arrow:hover:before {\n",
       "  color: var(--sklearn-color-text);\n",
       "}\n",
       "\n",
       "/* Toggleable content - dropdown */\n",
       "\n",
       "#sk-container-id-1 div.sk-toggleable__content {\n",
       "  max-height: 0;\n",
       "  max-width: 0;\n",
       "  overflow: hidden;\n",
       "  text-align: left;\n",
       "  /* unfitted */\n",
       "  background-color: var(--sklearn-color-unfitted-level-0);\n",
       "}\n",
       "\n",
       "#sk-container-id-1 div.sk-toggleable__content.fitted {\n",
       "  /* fitted */\n",
       "  background-color: var(--sklearn-color-fitted-level-0);\n",
       "}\n",
       "\n",
       "#sk-container-id-1 div.sk-toggleable__content pre {\n",
       "  margin: 0.2em;\n",
       "  border-radius: 0.25em;\n",
       "  color: var(--sklearn-color-text);\n",
       "  /* unfitted */\n",
       "  background-color: var(--sklearn-color-unfitted-level-0);\n",
       "}\n",
       "\n",
       "#sk-container-id-1 div.sk-toggleable__content.fitted pre {\n",
       "  /* unfitted */\n",
       "  background-color: var(--sklearn-color-fitted-level-0);\n",
       "}\n",
       "\n",
       "#sk-container-id-1 input.sk-toggleable__control:checked~div.sk-toggleable__content {\n",
       "  /* Expand drop-down */\n",
       "  max-height: 200px;\n",
       "  max-width: 100%;\n",
       "  overflow: auto;\n",
       "}\n",
       "\n",
       "#sk-container-id-1 input.sk-toggleable__control:checked~label.sk-toggleable__label-arrow:before {\n",
       "  content: \"▾\";\n",
       "}\n",
       "\n",
       "/* Pipeline/ColumnTransformer-specific style */\n",
       "\n",
       "#sk-container-id-1 div.sk-label input.sk-toggleable__control:checked~label.sk-toggleable__label {\n",
       "  color: var(--sklearn-color-text);\n",
       "  background-color: var(--sklearn-color-unfitted-level-2);\n",
       "}\n",
       "\n",
       "#sk-container-id-1 div.sk-label.fitted input.sk-toggleable__control:checked~label.sk-toggleable__label {\n",
       "  background-color: var(--sklearn-color-fitted-level-2);\n",
       "}\n",
       "\n",
       "/* Estimator-specific style */\n",
       "\n",
       "/* Colorize estimator box */\n",
       "#sk-container-id-1 div.sk-estimator input.sk-toggleable__control:checked~label.sk-toggleable__label {\n",
       "  /* unfitted */\n",
       "  background-color: var(--sklearn-color-unfitted-level-2);\n",
       "}\n",
       "\n",
       "#sk-container-id-1 div.sk-estimator.fitted input.sk-toggleable__control:checked~label.sk-toggleable__label {\n",
       "  /* fitted */\n",
       "  background-color: var(--sklearn-color-fitted-level-2);\n",
       "}\n",
       "\n",
       "#sk-container-id-1 div.sk-label label.sk-toggleable__label,\n",
       "#sk-container-id-1 div.sk-label label {\n",
       "  /* The background is the default theme color */\n",
       "  color: var(--sklearn-color-text-on-default-background);\n",
       "}\n",
       "\n",
       "/* On hover, darken the color of the background */\n",
       "#sk-container-id-1 div.sk-label:hover label.sk-toggleable__label {\n",
       "  color: var(--sklearn-color-text);\n",
       "  background-color: var(--sklearn-color-unfitted-level-2);\n",
       "}\n",
       "\n",
       "/* Label box, darken color on hover, fitted */\n",
       "#sk-container-id-1 div.sk-label.fitted:hover label.sk-toggleable__label.fitted {\n",
       "  color: var(--sklearn-color-text);\n",
       "  background-color: var(--sklearn-color-fitted-level-2);\n",
       "}\n",
       "\n",
       "/* Estimator label */\n",
       "\n",
       "#sk-container-id-1 div.sk-label label {\n",
       "  font-family: monospace;\n",
       "  font-weight: bold;\n",
       "  display: inline-block;\n",
       "  line-height: 1.2em;\n",
       "}\n",
       "\n",
       "#sk-container-id-1 div.sk-label-container {\n",
       "  text-align: center;\n",
       "}\n",
       "\n",
       "/* Estimator-specific */\n",
       "#sk-container-id-1 div.sk-estimator {\n",
       "  font-family: monospace;\n",
       "  border: 1px dotted var(--sklearn-color-border-box);\n",
       "  border-radius: 0.25em;\n",
       "  box-sizing: border-box;\n",
       "  margin-bottom: 0.5em;\n",
       "  /* unfitted */\n",
       "  background-color: var(--sklearn-color-unfitted-level-0);\n",
       "}\n",
       "\n",
       "#sk-container-id-1 div.sk-estimator.fitted {\n",
       "  /* fitted */\n",
       "  background-color: var(--sklearn-color-fitted-level-0);\n",
       "}\n",
       "\n",
       "/* on hover */\n",
       "#sk-container-id-1 div.sk-estimator:hover {\n",
       "  /* unfitted */\n",
       "  background-color: var(--sklearn-color-unfitted-level-2);\n",
       "}\n",
       "\n",
       "#sk-container-id-1 div.sk-estimator.fitted:hover {\n",
       "  /* fitted */\n",
       "  background-color: var(--sklearn-color-fitted-level-2);\n",
       "}\n",
       "\n",
       "/* Specification for estimator info (e.g. \"i\" and \"?\") */\n",
       "\n",
       "/* Common style for \"i\" and \"?\" */\n",
       "\n",
       ".sk-estimator-doc-link,\n",
       "a:link.sk-estimator-doc-link,\n",
       "a:visited.sk-estimator-doc-link {\n",
       "  float: right;\n",
       "  font-size: smaller;\n",
       "  line-height: 1em;\n",
       "  font-family: monospace;\n",
       "  background-color: var(--sklearn-color-background);\n",
       "  border-radius: 1em;\n",
       "  height: 1em;\n",
       "  width: 1em;\n",
       "  text-decoration: none !important;\n",
       "  margin-left: 1ex;\n",
       "  /* unfitted */\n",
       "  border: var(--sklearn-color-unfitted-level-1) 1pt solid;\n",
       "  color: var(--sklearn-color-unfitted-level-1);\n",
       "}\n",
       "\n",
       ".sk-estimator-doc-link.fitted,\n",
       "a:link.sk-estimator-doc-link.fitted,\n",
       "a:visited.sk-estimator-doc-link.fitted {\n",
       "  /* fitted */\n",
       "  border: var(--sklearn-color-fitted-level-1) 1pt solid;\n",
       "  color: var(--sklearn-color-fitted-level-1);\n",
       "}\n",
       "\n",
       "/* On hover */\n",
       "div.sk-estimator:hover .sk-estimator-doc-link:hover,\n",
       ".sk-estimator-doc-link:hover,\n",
       "div.sk-label-container:hover .sk-estimator-doc-link:hover,\n",
       ".sk-estimator-doc-link:hover {\n",
       "  /* unfitted */\n",
       "  background-color: var(--sklearn-color-unfitted-level-3);\n",
       "  color: var(--sklearn-color-background);\n",
       "  text-decoration: none;\n",
       "}\n",
       "\n",
       "div.sk-estimator.fitted:hover .sk-estimator-doc-link.fitted:hover,\n",
       ".sk-estimator-doc-link.fitted:hover,\n",
       "div.sk-label-container:hover .sk-estimator-doc-link.fitted:hover,\n",
       ".sk-estimator-doc-link.fitted:hover {\n",
       "  /* fitted */\n",
       "  background-color: var(--sklearn-color-fitted-level-3);\n",
       "  color: var(--sklearn-color-background);\n",
       "  text-decoration: none;\n",
       "}\n",
       "\n",
       "/* Span, style for the box shown on hovering the info icon */\n",
       ".sk-estimator-doc-link span {\n",
       "  display: none;\n",
       "  z-index: 9999;\n",
       "  position: relative;\n",
       "  font-weight: normal;\n",
       "  right: .2ex;\n",
       "  padding: .5ex;\n",
       "  margin: .5ex;\n",
       "  width: min-content;\n",
       "  min-width: 20ex;\n",
       "  max-width: 50ex;\n",
       "  color: var(--sklearn-color-text);\n",
       "  box-shadow: 2pt 2pt 4pt #999;\n",
       "  /* unfitted */\n",
       "  background: var(--sklearn-color-unfitted-level-0);\n",
       "  border: .5pt solid var(--sklearn-color-unfitted-level-3);\n",
       "}\n",
       "\n",
       ".sk-estimator-doc-link.fitted span {\n",
       "  /* fitted */\n",
       "  background: var(--sklearn-color-fitted-level-0);\n",
       "  border: var(--sklearn-color-fitted-level-3);\n",
       "}\n",
       "\n",
       ".sk-estimator-doc-link:hover span {\n",
       "  display: block;\n",
       "}\n",
       "\n",
       "/* \"?\"-specific style due to the `<a>` HTML tag */\n",
       "\n",
       "#sk-container-id-1 a.estimator_doc_link {\n",
       "  float: right;\n",
       "  font-size: 1rem;\n",
       "  line-height: 1em;\n",
       "  font-family: monospace;\n",
       "  background-color: var(--sklearn-color-background);\n",
       "  border-radius: 1rem;\n",
       "  height: 1rem;\n",
       "  width: 1rem;\n",
       "  text-decoration: none;\n",
       "  /* unfitted */\n",
       "  color: var(--sklearn-color-unfitted-level-1);\n",
       "  border: var(--sklearn-color-unfitted-level-1) 1pt solid;\n",
       "}\n",
       "\n",
       "#sk-container-id-1 a.estimator_doc_link.fitted {\n",
       "  /* fitted */\n",
       "  border: var(--sklearn-color-fitted-level-1) 1pt solid;\n",
       "  color: var(--sklearn-color-fitted-level-1);\n",
       "}\n",
       "\n",
       "/* On hover */\n",
       "#sk-container-id-1 a.estimator_doc_link:hover {\n",
       "  /* unfitted */\n",
       "  background-color: var(--sklearn-color-unfitted-level-3);\n",
       "  color: var(--sklearn-color-background);\n",
       "  text-decoration: none;\n",
       "}\n",
       "\n",
       "#sk-container-id-1 a.estimator_doc_link.fitted:hover {\n",
       "  /* fitted */\n",
       "  background-color: var(--sklearn-color-fitted-level-3);\n",
       "}\n",
       "</style><div id=\"sk-container-id-1\" class=\"sk-top-container\"><div class=\"sk-text-repr-fallback\"><pre>MultinomialNB()</pre><b>In a Jupyter environment, please rerun this cell to show the HTML representation or trust the notebook. <br />On GitHub, the HTML representation is unable to render, please try loading this page with nbviewer.org.</b></div><div class=\"sk-container\" hidden><div class=\"sk-item\"><div class=\"sk-estimator fitted sk-toggleable\"><input class=\"sk-toggleable__control sk-hidden--visually\" id=\"sk-estimator-id-1\" type=\"checkbox\" checked><label for=\"sk-estimator-id-1\" class=\"sk-toggleable__label fitted sk-toggleable__label-arrow fitted\">&nbsp;&nbsp;MultinomialNB<a class=\"sk-estimator-doc-link fitted\" rel=\"noreferrer\" target=\"_blank\" href=\"https://scikit-learn.org/1.5/modules/generated/sklearn.naive_bayes.MultinomialNB.html\">?<span>Documentation for MultinomialNB</span></a><span class=\"sk-estimator-doc-link fitted\">i<span>Fitted</span></span></label><div class=\"sk-toggleable__content fitted\"><pre>MultinomialNB()</pre></div> </div></div></div></div>"
      ],
      "text/plain": [
       "MultinomialNB()"
      ]
     },
     "execution_count": 36,
     "metadata": {},
     "output_type": "execute_result"
    }
   ],
   "source": [
    "from sklearn.naive_bayes import MultinomialNB\n",
    "\n",
    "nb_model = MultinomialNB()\n",
    "nb_model.fit(X_train, y_train)"
   ]
  },
  {
   "cell_type": "code",
   "execution_count": 37,
   "id": "904dd934-3a6d-4c60-bbe0-8c07f4fb2f45",
   "metadata": {},
   "outputs": [],
   "source": [
    "y_pred = nb_model.predict(X_test)  # Naive Bayes model trained with bow"
   ]
  },
  {
   "cell_type": "code",
   "execution_count": 38,
   "id": "071b981b-75f8-441d-bb12-da8f04190796",
   "metadata": {},
   "outputs": [
    {
     "data": {
      "text/plain": [
       "Text(0.5, 1.0, 'Confusion Matrix of NB')"
      ]
     },
     "execution_count": 38,
     "metadata": {},
     "output_type": "execute_result"
    },
    {
     "data": {
      "image/png": "[encoded data removed]",
      "text/plain": [
       "<Figure size 640x480 with 2 Axes>"
      ]
     },
     "metadata": {},
     "output_type": "display_data"
    }
   ],
   "source": [
    "from sklearn.metrics import confusion_matrix\n",
    "con = confusion_matrix(y_test, y_pred)\n",
    "sns.heatmap(con, annot=True, fmt=\".2f\", cmap=\"plasma\", linewidths=0.5)\n",
    "plt.title('Confusion Matrix of NB')"
   ]
  },
  {
   "cell_type": "code",
   "execution_count": 39,
   "id": "6c28dac3-9965-4212-a8e1-0b3e3cd1605a",
   "metadata": {},
   "outputs": [
    {
     "name": "stdout",
     "output_type": "stream",
     "text": [
      "Confusion Matrix:\n"
     ]
    },
    {
     "data": {
      "text/plain": [
       "array([[371,  18,  12],\n",
       "       [ 31, 356,  14],\n",
       "       [ 28,  26, 331]], dtype=int64)"
      ]
     },
     "execution_count": 39,
     "metadata": {},
     "output_type": "execute_result"
    }
   ],
   "source": [
    "cm = confusion_matrix(y_test, y_pred)\n",
    "print(\"Confusion Matrix:\")\n",
    "cm"
   ]
  },
  {
   "cell_type": "code",
   "execution_count": 40,
   "id": "9130c0f5-9640-4e7f-a186-f2c472b070d3",
   "metadata": {},
   "outputs": [
    {
     "name": "stdout",
     "output_type": "stream",
     "text": [
      "classification_report:\n"
     ]
    },
    {
     "data": {
      "text/plain": [
       "'              precision    recall  f1-score   support\\n\\n       anger       0.86      0.93      0.89       401\\n        fear       0.89      0.89      0.89       401\\n         joy       0.93      0.86      0.89       385\\n\\n    accuracy                           0.89      1187\\n   macro avg       0.89      0.89      0.89      1187\\nweighted avg       0.89      0.89      0.89      1187\\n'"
      ]
     },
     "execution_count": 40,
     "metadata": {},
     "output_type": "execute_result"
    }
   ],
   "source": [
    "# Classification report\n",
    "cr = classification_report(y_test, y_pred)\n",
    "print(\"classification_report:\")\n",
    "cr"
   ]
  },
  {
   "cell_type": "code",
   "execution_count": 41,
   "id": "266982dd-ce59-4d9f-97c5-80b137892069",
   "metadata": {},
   "outputs": [
    {
     "name": "stdout",
     "output_type": "stream",
     "text": [
      "              precision    recall  f1-score   support\n",
      "\n",
      "       anger       0.86      0.93      0.89       401\n",
      "        fear       0.89      0.89      0.89       401\n",
      "         joy       0.93      0.86      0.89       385\n",
      "\n",
      "    accuracy                           0.89      1187\n",
      "   macro avg       0.89      0.89      0.89      1187\n",
      "weighted avg       0.89      0.89      0.89      1187\n",
      "\n"
     ]
    }
   ],
   "source": [
    "print(classification_report(y_test, y_pred))"
   ]
  },
  {
   "cell_type": "code",
   "execution_count": 42,
   "id": "6438667c-8022-4f3e-8fc2-484c9ce7f85b",
   "metadata": {},
   "outputs": [
    {
     "name": "stdout",
     "output_type": "stream",
     "text": [
      "Naive Bayes Accuracy Score:\n",
      "0.8913226621735467\n"
     ]
    }
   ],
   "source": [
    "# Accuracy score\n",
    "nb_accuracy = accuracy_score(y_test, y_pred)\n",
    "print(\"Naive Bayes Accuracy Score:\")\n",
    "print(nb_accuracy)"
   ]
  },
  {
   "cell_type": "code",
   "execution_count": 43,
   "id": "1e6589de-4fdf-42fc-93c8-4ca62ca801f7",
   "metadata": {},
   "outputs": [
    {
     "data": {
      "text/plain": [
       "array(['joy', 'anger', 'fear', ..., 'fear', 'anger', 'fear'], dtype='<U5')"
      ]
     },
     "execution_count": 43,
     "metadata": {},
     "output_type": "execute_result"
    }
   ],
   "source": [
    "nb_pred = y_pred\n",
    "nb_pred"
   ]
  },
  {
   "cell_type": "code",
   "execution_count": 44,
   "id": "149dfa63-431f-4bae-937d-865d5cd1c500",
   "metadata": {},
   "outputs": [
    {
     "data": {
      "text/plain": [
       "array(['joy', 'anger', 'anger', ..., 'fear', 'anger', 'anger'],\n",
       "      dtype=object)"
      ]
     },
     "execution_count": 44,
     "metadata": {},
     "output_type": "execute_result"
    }
   ],
   "source": [
    "y_test.values"
   ]
  },
  {
   "cell_type": "markdown",
   "id": "6470d1c4-651d-4bbf-a7a1-c61fad87d062",
   "metadata": {},
   "source": [
    "# B) Support Vector Machine\n",
    "+ SVM is a powerful algorithm that finds the hyperplane that best separates different classes in the feature space. For multi-class problems like emotion classification, the model construct a hyperplane in the feature space that maximally separates the emotion classesbased on the TF-IDF vectors, and classify new instances by determining which side of the hyperplane they fall on."
   ]
  },
  {
   "cell_type": "code",
   "execution_count": 45,
   "id": "e8c82db6-88be-4503-8de4-b1ebad8ccb65",
   "metadata": {},
   "outputs": [],
   "source": [
    "from sklearn.svm import SVC"
   ]
  },
  {
   "cell_type": "code",
   "execution_count": 46,
   "id": "3f04c0dd-3c44-4b84-9557-62b9b75a2840",
   "metadata": {},
   "outputs": [
    {
     "data": {
      "text/html": [
       "<style>#sk-container-id-2 {\n",
       "  /* Definition of color scheme common for light and dark mode */\n",
       "  --sklearn-color-text: black;\n",
       "  --sklearn-color-line: gray;\n",
       "  /* Definition of color scheme for unfitted estimators */\n",
       "  --sklearn-color-unfitted-level-0: #fff5e6;\n",
       "  --sklearn-color-unfitted-level-1: #f6e4d2;\n",
       "  --sklearn-color-unfitted-level-2: #ffe0b3;\n",
       "  --sklearn-color-unfitted-level-3: chocolate;\n",
       "  /* Definition of color scheme for fitted estimators */\n",
       "  --sklearn-color-fitted-level-0: #f0f8ff;\n",
       "  --sklearn-color-fitted-level-1: #d4ebff;\n",
       "  --sklearn-color-fitted-level-2: #b3dbfd;\n",
       "  --sklearn-color-fitted-level-3: cornflowerblue;\n",
       "\n",
       "  /* Specific color for light theme */\n",
       "  --sklearn-color-text-on-default-background: var(--sg-text-color, var(--theme-code-foreground, var(--jp-content-font-color1, black)));\n",
       "  --sklearn-color-background: var(--sg-background-color, var(--theme-background, var(--jp-layout-color0, white)));\n",
       "  --sklearn-color-border-box: var(--sg-text-color, var(--theme-code-foreground, var(--jp-content-font-color1, black)));\n",
       "  --sklearn-color-icon: #696969;\n",
       "\n",
       "  @media (prefers-color-scheme: dark) {\n",
       "    /* Redefinition of color scheme for dark theme */\n",
       "    --sklearn-color-text-on-default-background: var(--sg-text-color, var(--theme-code-foreground, var(--jp-content-font-color1, white)));\n",
       "    --sklearn-color-background: var(--sg-background-color, var(--theme-background, var(--jp-layout-color0, #111)));\n",
       "    --sklearn-color-border-box: var(--sg-text-color, var(--theme-code-foreground, var(--jp-content-font-color1, white)));\n",
       "    --sklearn-color-icon: #878787;\n",
       "  }\n",
       "}\n",
       "\n",
       "#sk-container-id-2 {\n",
       "  color: var(--sklearn-color-text);\n",
       "}\n",
       "\n",
       "#sk-container-id-2 pre {\n",
       "  padding: 0;\n",
       "}\n",
       "\n",
       "#sk-container-id-2 input.sk-hidden--visually {\n",
       "  border: 0;\n",
       "  clip: rect(1px 1px 1px 1px);\n",
       "  clip: rect(1px, 1px, 1px, 1px);\n",
       "  height: 1px;\n",
       "  margin: -1px;\n",
       "  overflow: hidden;\n",
       "  padding: 0;\n",
       "  position: absolute;\n",
       "  width: 1px;\n",
       "}\n",
       "\n",
       "#sk-container-id-2 div.sk-dashed-wrapped {\n",
       "  border: 1px dashed var(--sklearn-color-line);\n",
       "  margin: 0 0.4em 0.5em 0.4em;\n",
       "  box-sizing: border-box;\n",
       "  padding-bottom: 0.4em;\n",
       "  background-color: var(--sklearn-color-background);\n",
       "}\n",
       "\n",
       "#sk-container-id-2 div.sk-container {\n",
       "  /* jupyter's `normalize.less` sets `[hidden] { display: none; }`\n",
       "     but bootstrap.min.css set `[hidden] { display: none !important; }`\n",
       "     so we also need the `!important` here to be able to override the\n",
       "     default hidden behavior on the sphinx rendered scikit-learn.org.\n",
       "     See: https://github.com/scikit-learn/scikit-learn/issues/21755 */\n",
       "  display: inline-block !important;\n",
       "  position: relative;\n",
       "}\n",
       "\n",
       "#sk-container-id-2 div.sk-text-repr-fallback {\n",
       "  display: none;\n",
       "}\n",
       "\n",
       "div.sk-parallel-item,\n",
       "div.sk-serial,\n",
       "div.sk-item {\n",
       "  /* draw centered vertical line to link estimators */\n",
       "  background-image: linear-gradient(var(--sklearn-color-text-on-default-background), var(--sklearn-color-text-on-default-background));\n",
       "  background-size: 2px 100%;\n",
       "  background-repeat: no-repeat;\n",
       "  background-position: center center;\n",
       "}\n",
       "\n",
       "/* Parallel-specific style estimator block */\n",
       "\n",
       "#sk-container-id-2 div.sk-parallel-item::after {\n",
       "  content: \"\";\n",
       "  width: 100%;\n",
       "  border-bottom: 2px solid var(--sklearn-color-text-on-default-background);\n",
       "  flex-grow: 1;\n",
       "}\n",
       "\n",
       "#sk-container-id-2 div.sk-parallel {\n",
       "  display: flex;\n",
       "  align-items: stretch;\n",
       "  justify-content: center;\n",
       "  background-color: var(--sklearn-color-background);\n",
       "  position: relative;\n",
       "}\n",
       "\n",
       "#sk-container-id-2 div.sk-parallel-item {\n",
       "  display: flex;\n",
       "  flex-direction: column;\n",
       "}\n",
       "\n",
       "#sk-container-id-2 div.sk-parallel-item:first-child::after {\n",
       "  align-self: flex-end;\n",
       "  width: 50%;\n",
       "}\n",
       "\n",
       "#sk-container-id-2 div.sk-parallel-item:last-child::after {\n",
       "  align-self: flex-start;\n",
       "  width: 50%;\n",
       "}\n",
       "\n",
       "#sk-container-id-2 div.sk-parallel-item:only-child::after {\n",
       "  width: 0;\n",
       "}\n",
       "\n",
       "/* Serial-specific style estimator block */\n",
       "\n",
       "#sk-container-id-2 div.sk-serial {\n",
       "  display: flex;\n",
       "  flex-direction: column;\n",
       "  align-items: center;\n",
       "  background-color: var(--sklearn-color-background);\n",
       "  padding-right: 1em;\n",
       "  padding-left: 1em;\n",
       "}\n",
       "\n",
       "\n",
       "/* Toggleable style: style used for estimator/Pipeline/ColumnTransformer box that is\n",
       "clickable and can be expanded/collapsed.\n",
       "- Pipeline and ColumnTransformer use this feature and define the default style\n",
       "- Estimators will overwrite some part of the style using the `sk-estimator` class\n",
       "*/\n",
       "\n",
       "/* Pipeline and ColumnTransformer style (default) */\n",
       "\n",
       "#sk-container-id-2 div.sk-toggleable {\n",
       "  /* Default theme specific background. It is overwritten whether we have a\n",
       "  specific estimator or a Pipeline/ColumnTransformer */\n",
       "  background-color: var(--sklearn-color-background);\n",
       "}\n",
       "\n",
       "/* Toggleable label */\n",
       "#sk-container-id-2 label.sk-toggleable__label {\n",
       "  cursor: pointer;\n",
       "  display: block;\n",
       "  width: 100%;\n",
       "  margin-bottom: 0;\n",
       "  padding: 0.5em;\n",
       "  box-sizing: border-box;\n",
       "  text-align: center;\n",
       "}\n",
       "\n",
       "#sk-container-id-2 label.sk-toggleable__label-arrow:before {\n",
       "  /* Arrow on the left of the label */\n",
       "  content: \"▸\";\n",
       "  float: left;\n",
       "  margin-right: 0.25em;\n",
       "  color: var(--sklearn-color-icon);\n",
       "}\n",
       "\n",
       "#sk-container-id-2 label.sk-toggleable__label-arrow:hover:before {\n",
       "  color: var(--sklearn-color-text);\n",
       "}\n",
       "\n",
       "/* Toggleable content - dropdown */\n",
       "\n",
       "#sk-container-id-2 div.sk-toggleable__content {\n",
       "  max-height: 0;\n",
       "  max-width: 0;\n",
       "  overflow: hidden;\n",
       "  text-align: left;\n",
       "  /* unfitted */\n",
       "  background-color: var(--sklearn-color-unfitted-level-0);\n",
       "}\n",
       "\n",
       "#sk-container-id-2 div.sk-toggleable__content.fitted {\n",
       "  /* fitted */\n",
       "  background-color: var(--sklearn-color-fitted-level-0);\n",
       "}\n",
       "\n",
       "#sk-container-id-2 div.sk-toggleable__content pre {\n",
       "  margin: 0.2em;\n",
       "  border-radius: 0.25em;\n",
       "  color: var(--sklearn-color-text);\n",
       "  /* unfitted */\n",
       "  background-color: var(--sklearn-color-unfitted-level-0);\n",
       "}\n",
       "\n",
       "#sk-container-id-2 div.sk-toggleable__content.fitted pre {\n",
       "  /* unfitted */\n",
       "  background-color: var(--sklearn-color-fitted-level-0);\n",
       "}\n",
       "\n",
       "#sk-container-id-2 input.sk-toggleable__control:checked~div.sk-toggleable__content {\n",
       "  /* Expand drop-down */\n",
       "  max-height: 200px;\n",
       "  max-width: 100%;\n",
       "  overflow: auto;\n",
       "}\n",
       "\n",
       "#sk-container-id-2 input.sk-toggleable__control:checked~label.sk-toggleable__label-arrow:before {\n",
       "  content: \"▾\";\n",
       "}\n",
       "\n",
       "/* Pipeline/ColumnTransformer-specific style */\n",
       "\n",
       "#sk-container-id-2 div.sk-label input.sk-toggleable__control:checked~label.sk-toggleable__label {\n",
       "  color: var(--sklearn-color-text);\n",
       "  background-color: var(--sklearn-color-unfitted-level-2);\n",
       "}\n",
       "\n",
       "#sk-container-id-2 div.sk-label.fitted input.sk-toggleable__control:checked~label.sk-toggleable__label {\n",
       "  background-color: var(--sklearn-color-fitted-level-2);\n",
       "}\n",
       "\n",
       "/* Estimator-specific style */\n",
       "\n",
       "/* Colorize estimator box */\n",
       "#sk-container-id-2 div.sk-estimator input.sk-toggleable__control:checked~label.sk-toggleable__label {\n",
       "  /* unfitted */\n",
       "  background-color: var(--sklearn-color-unfitted-level-2);\n",
       "}\n",
       "\n",
       "#sk-container-id-2 div.sk-estimator.fitted input.sk-toggleable__control:checked~label.sk-toggleable__label {\n",
       "  /* fitted */\n",
       "  background-color: var(--sklearn-color-fitted-level-2);\n",
       "}\n",
       "\n",
       "#sk-container-id-2 div.sk-label label.sk-toggleable__label,\n",
       "#sk-container-id-2 div.sk-label label {\n",
       "  /* The background is the default theme color */\n",
       "  color: var(--sklearn-color-text-on-default-background);\n",
       "}\n",
       "\n",
       "/* On hover, darken the color of the background */\n",
       "#sk-container-id-2 div.sk-label:hover label.sk-toggleable__label {\n",
       "  color: var(--sklearn-color-text);\n",
       "  background-color: var(--sklearn-color-unfitted-level-2);\n",
       "}\n",
       "\n",
       "/* Label box, darken color on hover, fitted */\n",
       "#sk-container-id-2 div.sk-label.fitted:hover label.sk-toggleable__label.fitted {\n",
       "  color: var(--sklearn-color-text);\n",
       "  background-color: var(--sklearn-color-fitted-level-2);\n",
       "}\n",
       "\n",
       "/* Estimator label */\n",
       "\n",
       "#sk-container-id-2 div.sk-label label {\n",
       "  font-family: monospace;\n",
       "  font-weight: bold;\n",
       "  display: inline-block;\n",
       "  line-height: 1.2em;\n",
       "}\n",
       "\n",
       "#sk-container-id-2 div.sk-label-container {\n",
       "  text-align: center;\n",
       "}\n",
       "\n",
       "/* Estimator-specific */\n",
       "#sk-container-id-2 div.sk-estimator {\n",
       "  font-family: monospace;\n",
       "  border: 1px dotted var(--sklearn-color-border-box);\n",
       "  border-radius: 0.25em;\n",
       "  box-sizing: border-box;\n",
       "  margin-bottom: 0.5em;\n",
       "  /* unfitted */\n",
       "  background-color: var(--sklearn-color-unfitted-level-0);\n",
       "}\n",
       "\n",
       "#sk-container-id-2 div.sk-estimator.fitted {\n",
       "  /* fitted */\n",
       "  background-color: var(--sklearn-color-fitted-level-0);\n",
       "}\n",
       "\n",
       "/* on hover */\n",
       "#sk-container-id-2 div.sk-estimator:hover {\n",
       "  /* unfitted */\n",
       "  background-color: var(--sklearn-color-unfitted-level-2);\n",
       "}\n",
       "\n",
       "#sk-container-id-2 div.sk-estimator.fitted:hover {\n",
       "  /* fitted */\n",
       "  background-color: var(--sklearn-color-fitted-level-2);\n",
       "}\n",
       "\n",
       "/* Specification for estimator info (e.g. \"i\" and \"?\") */\n",
       "\n",
       "/* Common style for \"i\" and \"?\" */\n",
       "\n",
       ".sk-estimator-doc-link,\n",
       "a:link.sk-estimator-doc-link,\n",
       "a:visited.sk-estimator-doc-link {\n",
       "  float: right;\n",
       "  font-size: smaller;\n",
       "  line-height: 1em;\n",
       "  font-family: monospace;\n",
       "  background-color: var(--sklearn-color-background);\n",
       "  border-radius: 1em;\n",
       "  height: 1em;\n",
       "  width: 1em;\n",
       "  text-decoration: none !important;\n",
       "  margin-left: 1ex;\n",
       "  /* unfitted */\n",
       "  border: var(--sklearn-color-unfitted-level-1) 1pt solid;\n",
       "  color: var(--sklearn-color-unfitted-level-1);\n",
       "}\n",
       "\n",
       ".sk-estimator-doc-link.fitted,\n",
       "a:link.sk-estimator-doc-link.fitted,\n",
       "a:visited.sk-estimator-doc-link.fitted {\n",
       "  /* fitted */\n",
       "  border: var(--sklearn-color-fitted-level-1) 1pt solid;\n",
       "  color: var(--sklearn-color-fitted-level-1);\n",
       "}\n",
       "\n",
       "/* On hover */\n",
       "div.sk-estimator:hover .sk-estimator-doc-link:hover,\n",
       ".sk-estimator-doc-link:hover,\n",
       "div.sk-label-container:hover .sk-estimator-doc-link:hover,\n",
       ".sk-estimator-doc-link:hover {\n",
       "  /* unfitted */\n",
       "  background-color: var(--sklearn-color-unfitted-level-3);\n",
       "  color: var(--sklearn-color-background);\n",
       "  text-decoration: none;\n",
       "}\n",
       "\n",
       "div.sk-estimator.fitted:hover .sk-estimator-doc-link.fitted:hover,\n",
       ".sk-estimator-doc-link.fitted:hover,\n",
       "div.sk-label-container:hover .sk-estimator-doc-link.fitted:hover,\n",
       ".sk-estimator-doc-link.fitted:hover {\n",
       "  /* fitted */\n",
       "  background-color: var(--sklearn-color-fitted-level-3);\n",
       "  color: var(--sklearn-color-background);\n",
       "  text-decoration: none;\n",
       "}\n",
       "\n",
       "/* Span, style for the box shown on hovering the info icon */\n",
       ".sk-estimator-doc-link span {\n",
       "  display: none;\n",
       "  z-index: 9999;\n",
       "  position: relative;\n",
       "  font-weight: normal;\n",
       "  right: .2ex;\n",
       "  padding: .5ex;\n",
       "  margin: .5ex;\n",
       "  width: min-content;\n",
       "  min-width: 20ex;\n",
       "  max-width: 50ex;\n",
       "  color: var(--sklearn-color-text);\n",
       "  box-shadow: 2pt 2pt 4pt #999;\n",
       "  /* unfitted */\n",
       "  background: var(--sklearn-color-unfitted-level-0);\n",
       "  border: .5pt solid var(--sklearn-color-unfitted-level-3);\n",
       "}\n",
       "\n",
       ".sk-estimator-doc-link.fitted span {\n",
       "  /* fitted */\n",
       "  background: var(--sklearn-color-fitted-level-0);\n",
       "  border: var(--sklearn-color-fitted-level-3);\n",
       "}\n",
       "\n",
       ".sk-estimator-doc-link:hover span {\n",
       "  display: block;\n",
       "}\n",
       "\n",
       "/* \"?\"-specific style due to the `<a>` HTML tag */\n",
       "\n",
       "#sk-container-id-2 a.estimator_doc_link {\n",
       "  float: right;\n",
       "  font-size: 1rem;\n",
       "  line-height: 1em;\n",
       "  font-family: monospace;\n",
       "  background-color: var(--sklearn-color-background);\n",
       "  border-radius: 1rem;\n",
       "  height: 1rem;\n",
       "  width: 1rem;\n",
       "  text-decoration: none;\n",
       "  /* unfitted */\n",
       "  color: var(--sklearn-color-unfitted-level-1);\n",
       "  border: var(--sklearn-color-unfitted-level-1) 1pt solid;\n",
       "}\n",
       "\n",
       "#sk-container-id-2 a.estimator_doc_link.fitted {\n",
       "  /* fitted */\n",
       "  border: var(--sklearn-color-fitted-level-1) 1pt solid;\n",
       "  color: var(--sklearn-color-fitted-level-1);\n",
       "}\n",
       "\n",
       "/* On hover */\n",
       "#sk-container-id-2 a.estimator_doc_link:hover {\n",
       "  /* unfitted */\n",
       "  background-color: var(--sklearn-color-unfitted-level-3);\n",
       "  color: var(--sklearn-color-background);\n",
       "  text-decoration: none;\n",
       "}\n",
       "\n",
       "#sk-container-id-2 a.estimator_doc_link.fitted:hover {\n",
       "  /* fitted */\n",
       "  background-color: var(--sklearn-color-fitted-level-3);\n",
       "}\n",
       "</style><div id=\"sk-container-id-2\" class=\"sk-top-container\"><div class=\"sk-text-repr-fallback\"><pre>SVC()</pre><b>In a Jupyter environment, please rerun this cell to show the HTML representation or trust the notebook. <br />On GitHub, the HTML representation is unable to render, please try loading this page with nbviewer.org.</b></div><div class=\"sk-container\" hidden><div class=\"sk-item\"><div class=\"sk-estimator fitted sk-toggleable\"><input class=\"sk-toggleable__control sk-hidden--visually\" id=\"sk-estimator-id-2\" type=\"checkbox\" checked><label for=\"sk-estimator-id-2\" class=\"sk-toggleable__label fitted sk-toggleable__label-arrow fitted\">&nbsp;&nbsp;SVC<a class=\"sk-estimator-doc-link fitted\" rel=\"noreferrer\" target=\"_blank\" href=\"https://scikit-learn.org/1.5/modules/generated/sklearn.svm.SVC.html\">?<span>Documentation for SVC</span></a><span class=\"sk-estimator-doc-link fitted\">i<span>Fitted</span></span></label><div class=\"sk-toggleable__content fitted\"><pre>SVC()</pre></div> </div></div></div></div>"
      ],
      "text/plain": [
       "SVC()"
      ]
     },
     "execution_count": 46,
     "metadata": {},
     "output_type": "execute_result"
    }
   ],
   "source": [
    "svm_model = SVC()\n",
    "svm_model.fit(X_train, y_train)"
   ]
  },
  {
   "cell_type": "code",
   "execution_count": 47,
   "id": "e147c9d4-4e8a-403b-9679-bfc3d74e0340",
   "metadata": {},
   "outputs": [],
   "source": [
    "# Predictions\n",
    "y_pred = svm_model.predict(X_test)"
   ]
  },
  {
   "cell_type": "code",
   "execution_count": 48,
   "id": "491ad6bd-f47e-435d-946b-a9f4457087fd",
   "metadata": {},
   "outputs": [
    {
     "data": {
      "image/png": "[encoded data removed]",
      "text/plain": [
       "<Figure size 640x480 with 2 Axes>"
      ]
     },
     "metadata": {},
     "output_type": "display_data"
    }
   ],
   "source": [
    "con = confusion_matrix(y_test, y_pred)\n",
    "sns.heatmap(con, annot=True, fmt=\".2f\", cmap='plasma', linewidths=0.5)\n",
    "plt.title('Confusion Matrix SVM')\n",
    "plt.show()"
   ]
  },
  {
   "cell_type": "code",
   "execution_count": 49,
   "id": "c202a1d3-c2df-4327-8beb-13483edcab08",
   "metadata": {},
   "outputs": [
    {
     "name": "stdout",
     "output_type": "stream",
     "text": [
      "Confusion matrix:\n"
     ]
    },
    {
     "data": {
      "text/plain": [
       "array([[373,   4,  24],\n",
       "       [ 38, 341,  22],\n",
       "       [  8,   3, 374]], dtype=int64)"
      ]
     },
     "execution_count": 49,
     "metadata": {},
     "output_type": "execute_result"
    }
   ],
   "source": [
    "cm =  confusion_matrix(y_test, y_pred)\n",
    "print('Confusion matrix:')\n",
    "cm"
   ]
  },
  {
   "cell_type": "code",
   "execution_count": 50,
   "id": "bd850086-3992-4b07-9e92-82f52c924bca",
   "metadata": {},
   "outputs": [
    {
     "name": "stdout",
     "output_type": "stream",
     "text": [
      "              precision    recall  f1-score   support\n",
      "\n",
      "       anger       0.89      0.93      0.91       401\n",
      "        fear       0.98      0.85      0.91       401\n",
      "         joy       0.89      0.97      0.93       385\n",
      "\n",
      "    accuracy                           0.92      1187\n",
      "   macro avg       0.92      0.92      0.92      1187\n",
      "weighted avg       0.92      0.92      0.92      1187\n",
      "\n"
     ]
    }
   ],
   "source": [
    "# Classification report\n",
    "print(classification_report(y_test, y_pred))"
   ]
  },
  {
   "cell_type": "code",
   "execution_count": 51,
   "id": "9f0729b4-9b36-4967-a46a-381c5f4dd140",
   "metadata": {},
   "outputs": [
    {
     "name": "stdout",
     "output_type": "stream",
     "text": [
      "Support Vector Machine Accuracy Score:\n",
      "0.9165964616680707\n"
     ]
    }
   ],
   "source": [
    "# Accuracy score\n",
    "svm_accuracy = accuracy_score(y_test, y_pred)\n",
    "print(\"Support Vector Machine Accuracy Score:\")\n",
    "print(svm_accuracy)                        "
   ]
  },
  {
   "cell_type": "code",
   "execution_count": 52,
   "id": "9005ea87-c5cb-4666-9ca7-8a8866de80ab",
   "metadata": {},
   "outputs": [
    {
     "data": {
      "text/plain": [
       "array(['joy', 'anger', 'anger', ..., 'fear', 'anger', 'anger'],\n",
       "      dtype=object)"
      ]
     },
     "execution_count": 52,
     "metadata": {},
     "output_type": "execute_result"
    }
   ],
   "source": [
    "svm_pred = y_pred\n",
    "svm_pred"
   ]
  },
  {
   "cell_type": "code",
   "execution_count": 53,
   "id": "6ff54172-fd65-4dae-a897-cedb69e35191",
   "metadata": {},
   "outputs": [
    {
     "data": {
      "text/plain": [
       "array(['joy', 'anger', 'anger', ..., 'fear', 'anger', 'anger'],\n",
       "      dtype=object)"
      ]
     },
     "execution_count": 53,
     "metadata": {},
     "output_type": "execute_result"
    }
   ],
   "source": [
    "y_test.values"
   ]
  },
  {
   "cell_type": "markdown",
   "id": "ce3ce677-7a06-4917-96eb-525f8568a198",
   "metadata": {},
   "source": [
    "# 4. Model Comparison"
   ]
  },
  {
   "cell_type": "code",
   "execution_count": 54,
   "id": "e9a5ad33-25c7-405d-b3d5-c3ee0c0944ba",
   "metadata": {},
   "outputs": [],
   "source": [
    "# Evaluate Naive Bayes model\n",
    "nb_accuracy = accuracy_score(y_test, nb_pred)\n",
    "nb_f1_score = f1_score(y_test, nb_pred, average='weighted')"
   ]
  },
  {
   "cell_type": "code",
   "execution_count": 55,
   "id": "d7ac4556-f0f1-466c-b202-4885d5b759df",
   "metadata": {},
   "outputs": [],
   "source": [
    "# Evaluate SVM model\n",
    "svm_accuracy = accuracy_score(y_test, svm_pred)\n",
    "svm_f1_score = f1_score(y_test, svm_pred, average='weighted')"
   ]
  },
  {
   "cell_type": "code",
   "execution_count": 56,
   "id": "fa0a3659-8d10-494c-a1ab-a664af142811",
   "metadata": {},
   "outputs": [
    {
     "name": "stdout",
     "output_type": "stream",
     "text": [
      "Naive Bayes Accuracy: 0.8913\n",
      "Naive Bayes F1 Score: 0.8913\n",
      "SVM Accuracy: 0.9166\n",
      "SVM F1 Score: 0.9163\n"
     ]
    }
   ],
   "source": [
    "# Print model evaluation results\n",
    "print(f\"Naive Bayes Accuracy: {nb_accuracy:.4f}\")\n",
    "print(f\"Naive Bayes F1 Score: {nb_f1_score:.4f}\")\n",
    "\n",
    "print(f\"SVM Accuracy: {svm_accuracy:.4f}\")\n",
    "print(f\"SVM F1 Score: {svm_f1_score:.4f}\")"
   ]
  },
  {
   "cell_type": "markdown",
   "id": "31bc1757-68e0-4239-93cd-3817b35e292d",
   "metadata": {},
   "source": [
    "### Evaluation"
   ]
  },
  {
   "cell_type": "code",
   "execution_count": 57,
   "id": "3d9a4e63-622a-4a99-a410-dc4326e1a5e1",
   "metadata": {},
   "outputs": [],
   "source": [
    "results = {\n",
    "    \"Model\": [\"Naive Bayes\", \"Support Vector Machine (SVM)\"],\n",
    "    \"Accuracy\": [nb_accuracy, svm_accuracy],\n",
    "    \"F1 Score\": [nb_f1_score, svm_f1_score]\n",
    "}"
   ]
  },
  {
   "cell_type": "code",
   "execution_count": 58,
   "id": "773eeaec-b7a8-4d46-96f1-9173a5d16344",
   "metadata": {},
   "outputs": [
    {
     "data": {
      "text/html": [
       "<div>\n",
       "<style scoped>\n",
       "    .dataframe tbody tr th:only-of-type {\n",
       "        vertical-align: middle;\n",
       "    }\n",
       "\n",
       "    .dataframe tbody tr th {\n",
       "        vertical-align: top;\n",
       "    }\n",
       "\n",
       "    .dataframe thead th {\n",
       "        text-align: right;\n",
       "    }\n",
       "</style>\n",
       "<table border=\"1\" class=\"dataframe\">\n",
       "  <thead>\n",
       "    <tr style=\"text-align: right;\">\n",
       "      <th></th>\n",
       "      <th>Model</th>\n",
       "      <th>Accuracy</th>\n",
       "      <th>F1 Score</th>\n",
       "    </tr>\n",
       "  </thead>\n",
       "  <tbody>\n",
       "    <tr>\n",
       "      <th>0</th>\n",
       "      <td>Naive Bayes</td>\n",
       "      <td>0.891323</td>\n",
       "      <td>0.891313</td>\n",
       "    </tr>\n",
       "    <tr>\n",
       "      <th>1</th>\n",
       "      <td>Support Vector Machine (SVM)</td>\n",
       "      <td>0.916596</td>\n",
       "      <td>0.916328</td>\n",
       "    </tr>\n",
       "  </tbody>\n",
       "</table>\n",
       "</div>"
      ],
      "text/plain": [
       "                          Model  Accuracy  F1 Score\n",
       "0                   Naive Bayes  0.891323  0.891313\n",
       "1  Support Vector Machine (SVM)  0.916596  0.916328"
      ]
     },
     "execution_count": 58,
     "metadata": {},
     "output_type": "execute_result"
    }
   ],
   "source": [
    "# Convert results into a DataFrame\n",
    "results_df = pd.DataFrame(results)\n",
    "results_df"
   ]
  },
  {
   "cell_type": "markdown",
   "id": "dbe562d1-b90c-4290-a19c-3990cfd291f0",
   "metadata": {},
   "source": [
    "## Overall Performance"
   ]
  },
  {
   "cell_type": "markdown",
   "id": "c5975ff1-f8bb-4d14-b337-0d9a4b3d96bd",
   "metadata": {},
   "source": [
    "#### 1. Naive Bayes Performance:\n",
    "    \n",
    "* **Accuracy:** 0.8913 (89.13%)\n",
    "* **F1 Score:** 0.8913 (89.13%)\n",
    "\n",
    "**Observation:**\n",
    "\n",
    "* The Naive Bayes model performs quite well with high accuracy and F1 Score.\n",
    "\n",
    "* It is effective at balancing precision and recall, as indicated by the F1 score, which is nearly equal to the accuracy.\n",
    "\n",
    "#### 2. Support Vector Machine (SVM) Performance:\n",
    "    \n",
    "* **Accuracy:** 0.9166 (91.66%)\n",
    "* **F1 Score:** 0.9163 (91.63%)\n",
    "\n",
    "**Observation:**\n",
    "\n",
    "* The SVM model outperforms Naive Bayes by achieving higher accuracy and F1 score.\n",
    "\n",
    "* Its performance indicates it can better capture the underlying patterns in the dataset."
   ]
  },
  {
   "cell_type": "markdown",
   "id": "378a5717-011f-48a7-b19f-0f7bfbfe4569",
   "metadata": {},
   "source": [
    "## Suitability for Emotion Classification:\n",
    "\n",
    "* SVM (Support Vector Machine) is a supervised machine learning algorithm used for classification and regression tasks. It's particularly effective when dealing with complex data sets.\n",
    "The SVM Classifier With BoW is the most suitable model for emotion classification based on its high accuracy, precision, recall, and F1-score across the emotion classes.\n",
    "\n",
    "* It achieves the highest overall performance metrics (Accuracy: 91.7%, Macro Avg Precision/Recall/F1: 0.92), making it the most reliable in identifying emotions like anger, fear, and joy.\n",
    "\n",
    "* SVMs are well-suited to handle large feature spaces, such as the high-dimensional vectors generated by the BoW, which is crucial for text classification tasks like emotion detection."
   ]
  },
  {
   "cell_type": "markdown",
   "id": "05ac9e12-23fb-4a4a-b046-d1c8a77520f5",
   "metadata": {},
   "source": [
    "# Conclusion\n",
    "\n",
    "* **SVM** is the better choice for this task due to its superior performance. However, Naive Bayes is a viable alternative for quick and reasonably accurate predictions."
   ]
  },
  {
   "cell_type": "code",
   "execution_count": null,
   "id": "f5a6e943-2583-4fe7-8a73-d2334f6e7bd7",
   "metadata": {},
   "outputs": [],
   "source": []
  }
 ],
 "metadata": {
  "kernelspec": {
   "display_name": "Python 3 (ipykernel)",
   "language": "python",
   "name": "python3"
  },
  "language_info": {
   "codemirror_mode": {
    "name": "ipython",
    "version": 3
   },
   "file_extension": ".py",
   "mimetype": "text/x-python",
   "name": "python",
   "nbconvert_exporter": "python",
   "pygments_lexer": "ipython3",
   "version": "3.12.2"
  }
 },
 "nbformat": 4,
 "nbformat_minor": 5
}
